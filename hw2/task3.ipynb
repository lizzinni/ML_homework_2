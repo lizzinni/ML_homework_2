{
 "cells": [
  {
   "cell_type": "markdown",
   "source": [
    "# Задание 3\n",
    "Подберите несколько датасетов с большим количеством предикторов (>20) из UCI репозитория или любого другого (классификация и/или регрессия)). Реализуйте gaussian process (можно взять готовый, но скорее всего его все равно придется модифицировать), для подбора гиперпараметров random forest (или какого-либо бустинга) (смотрите лекцию 3). Сравните скорость с random search (попытайтесь превзойти)."
   ],
   "metadata": {
    "collapsed": false
   }
  },
  {
   "cell_type": "code",
   "execution_count": 25,
   "outputs": [],
   "source": [
    "from io import StringIO, BytesIO\n",
    "import requests\n",
    "import numpy as np\n",
    "import pandas as pd\n",
    "from sklearn.ensemble import RandomForestClassifier\n",
    "from sklearn.model_selection import cross_val_score\n",
    "from sklearn.preprocessing import StandardScaler, LabelEncoder\n",
    "from sklearn.model_selection import train_test_split\n",
    "from scipy.optimize import minimize"
   ],
   "metadata": {
    "collapsed": false,
    "ExecuteTime": {
     "end_time": "2024-12-14T01:08:06.708397Z",
     "start_time": "2024-12-14T01:08:06.704657Z"
    }
   }
  },
  {
   "cell_type": "code",
   "execution_count": 26,
   "outputs": [],
   "source": [
    "def load_spambase():\n",
    "    url = \"https://archive.ics.uci.edu/ml/machine-learning-databases/spambase/spambase.data\"\n",
    "    response = requests.get(url,\n",
    "                            verify=False)  # без этого все падало с ошибкой certificate verify failed: certificate has expired, пришлось обходить ошибку игнорированием проверки сертификата\n",
    "    spambase = pd.read_csv(StringIO(response.text), header=None, compression='zip')\n",
    "    X = spambase.iloc[:, :-1]\n",
    "    y = spambase.iloc[:, -1]\n",
    "    return X, y\n",
    "\n",
    "\n",
    "def load_arrhythmia():\n",
    "    url = \"https://archive.ics.uci.edu/ml/machine-learning-databases/arrhythmia/arrhythmia.data\"\n",
    "    response = requests.get(url, verify=False)\n",
    "    arrhythmia = pd.read_csv(StringIO(response.text), header=None, compression='zip', na_values=\"?\")\n",
    "    arrhythmia.fillna(arrhythmia.mean(), inplace=True)  # заполняем пропущенные значения\n",
    "    X = arrhythmia.iloc[:, :-1]\n",
    "    y = arrhythmia.iloc[:, -1]\n",
    "    return X, y\n",
    "\n",
    "\n",
    "def load_breast_cancer_wisconsin():\n",
    "    url = \"https://archive.ics.uci.edu/ml/machine-learning-databases/breast-cancer-wisconsin/wdbc.data\"\n",
    "    response = requests.get(url, verify=False)\n",
    "    df = pd.read_csv(StringIO(response.text), header=None)\n",
    "    X = df.iloc[:, 2:]\n",
    "    y = df.iloc[:, 1]\n",
    "    return X, y"
   ],
   "metadata": {
    "collapsed": false,
    "ExecuteTime": {
     "end_time": "2024-12-14T01:10:48.716637Z",
     "start_time": "2024-12-14T01:10:48.713967Z"
    }
   }
  },
  {
   "cell_type": "code",
   "execution_count": 27,
   "outputs": [],
   "source": [
    "datasets = {\n",
    "    \"Spambase\": load_spambase,\n",
    "    \"Arrhythmia\": load_arrhythmia,\n",
    "    \"Breast Cancer Wisconsin\": load_breast_cancer_wisconsin\n",
    "}\n",
    "\n",
    "results = {}"
   ],
   "metadata": {
    "collapsed": false,
    "ExecuteTime": {
     "end_time": "2024-12-14T01:12:35.452783Z",
     "start_time": "2024-12-14T01:12:35.430175Z"
    }
   }
  },
  {
   "cell_type": "code",
   "execution_count": 28,
   "outputs": [
    {
     "name": "stdout",
     "output_type": "stream",
     "text": [
      "Processing dataset: Spambase\n"
     ]
    },
    {
     "name": "stderr",
     "output_type": "stream",
     "text": [
      "/Users/elizabeth/anaconda3/lib/python3.11/site-packages/urllib3/connectionpool.py:1056: InsecureRequestWarning: Unverified HTTPS request is being made to host 'archive.ics.uci.edu'. Adding certificate verification is strongly advised. See: https://urllib3.readthedocs.io/en/1.26.x/advanced-usage.html#ssl-warnings\n",
      "  warnings.warn(\n",
      "/var/folders/6t/0bc7rzr91pd3316c59fnhvwc0000gn/T/ipykernel_36415/1383866971.py:4: RuntimeWarning: compression has no effect when passing a non-binary object as input.\n",
      "  spambase = pd.read_csv(StringIO(response.text), header=None, compression='zip')\n"
     ]
    },
    {
     "name": "stdout",
     "output_type": "stream",
     "text": [
      "Processing dataset: Arrhythmia\n"
     ]
    },
    {
     "name": "stderr",
     "output_type": "stream",
     "text": [
      "/Users/elizabeth/anaconda3/lib/python3.11/site-packages/urllib3/connectionpool.py:1056: InsecureRequestWarning: Unverified HTTPS request is being made to host 'archive.ics.uci.edu'. Adding certificate verification is strongly advised. See: https://urllib3.readthedocs.io/en/1.26.x/advanced-usage.html#ssl-warnings\n",
      "  warnings.warn(\n",
      "/var/folders/6t/0bc7rzr91pd3316c59fnhvwc0000gn/T/ipykernel_36415/1383866971.py:12: RuntimeWarning: compression has no effect when passing a non-binary object as input.\n",
      "  arrhythmia = pd.read_csv(StringIO(response.text), header=None, compression='zip', na_values=\"?\")\n",
      "/Users/elizabeth/anaconda3/lib/python3.11/site-packages/sklearn/model_selection/_split.py:737: UserWarning: The least populated class in y has only 1 members, which is less than n_splits=3.\n",
      "  warnings.warn(\n",
      "/Users/elizabeth/anaconda3/lib/python3.11/site-packages/sklearn/model_selection/_split.py:737: UserWarning: The least populated class in y has only 1 members, which is less than n_splits=3.\n",
      "  warnings.warn(\n",
      "/Users/elizabeth/anaconda3/lib/python3.11/site-packages/sklearn/model_selection/_split.py:737: UserWarning: The least populated class in y has only 1 members, which is less than n_splits=3.\n",
      "  warnings.warn(\n",
      "/Users/elizabeth/anaconda3/lib/python3.11/site-packages/sklearn/model_selection/_split.py:737: UserWarning: The least populated class in y has only 1 members, which is less than n_splits=3.\n",
      "  warnings.warn(\n",
      "/Users/elizabeth/anaconda3/lib/python3.11/site-packages/sklearn/model_selection/_split.py:737: UserWarning: The least populated class in y has only 1 members, which is less than n_splits=3.\n",
      "  warnings.warn(\n",
      "/Users/elizabeth/anaconda3/lib/python3.11/site-packages/sklearn/model_selection/_split.py:737: UserWarning: The least populated class in y has only 1 members, which is less than n_splits=3.\n",
      "  warnings.warn(\n",
      "/Users/elizabeth/anaconda3/lib/python3.11/site-packages/sklearn/model_selection/_split.py:737: UserWarning: The least populated class in y has only 1 members, which is less than n_splits=3.\n",
      "  warnings.warn(\n",
      "/Users/elizabeth/anaconda3/lib/python3.11/site-packages/sklearn/model_selection/_split.py:737: UserWarning: The least populated class in y has only 1 members, which is less than n_splits=3.\n",
      "  warnings.warn(\n",
      "/Users/elizabeth/anaconda3/lib/python3.11/site-packages/sklearn/model_selection/_split.py:737: UserWarning: The least populated class in y has only 1 members, which is less than n_splits=3.\n",
      "  warnings.warn(\n",
      "/Users/elizabeth/anaconda3/lib/python3.11/site-packages/sklearn/model_selection/_split.py:737: UserWarning: The least populated class in y has only 1 members, which is less than n_splits=3.\n",
      "  warnings.warn(\n",
      "/Users/elizabeth/anaconda3/lib/python3.11/site-packages/sklearn/model_selection/_split.py:737: UserWarning: The least populated class in y has only 1 members, which is less than n_splits=3.\n",
      "  warnings.warn(\n",
      "/Users/elizabeth/anaconda3/lib/python3.11/site-packages/sklearn/model_selection/_split.py:737: UserWarning: The least populated class in y has only 1 members, which is less than n_splits=3.\n",
      "  warnings.warn(\n",
      "/Users/elizabeth/anaconda3/lib/python3.11/site-packages/sklearn/model_selection/_split.py:737: UserWarning: The least populated class in y has only 1 members, which is less than n_splits=3.\n",
      "  warnings.warn(\n",
      "/Users/elizabeth/anaconda3/lib/python3.11/site-packages/sklearn/model_selection/_split.py:737: UserWarning: The least populated class in y has only 1 members, which is less than n_splits=3.\n",
      "  warnings.warn(\n",
      "/Users/elizabeth/anaconda3/lib/python3.11/site-packages/sklearn/model_selection/_split.py:737: UserWarning: The least populated class in y has only 1 members, which is less than n_splits=3.\n",
      "  warnings.warn(\n",
      "/Users/elizabeth/anaconda3/lib/python3.11/site-packages/sklearn/model_selection/_split.py:737: UserWarning: The least populated class in y has only 1 members, which is less than n_splits=3.\n",
      "  warnings.warn(\n",
      "/Users/elizabeth/anaconda3/lib/python3.11/site-packages/sklearn/model_selection/_split.py:737: UserWarning: The least populated class in y has only 1 members, which is less than n_splits=3.\n",
      "  warnings.warn(\n",
      "/Users/elizabeth/anaconda3/lib/python3.11/site-packages/sklearn/model_selection/_split.py:737: UserWarning: The least populated class in y has only 1 members, which is less than n_splits=3.\n",
      "  warnings.warn(\n",
      "/Users/elizabeth/anaconda3/lib/python3.11/site-packages/sklearn/model_selection/_split.py:737: UserWarning: The least populated class in y has only 1 members, which is less than n_splits=3.\n",
      "  warnings.warn(\n",
      "/Users/elizabeth/anaconda3/lib/python3.11/site-packages/sklearn/model_selection/_split.py:737: UserWarning: The least populated class in y has only 1 members, which is less than n_splits=3.\n",
      "  warnings.warn(\n",
      "/Users/elizabeth/anaconda3/lib/python3.11/site-packages/sklearn/model_selection/_split.py:737: UserWarning: The least populated class in y has only 1 members, which is less than n_splits=3.\n",
      "  warnings.warn(\n",
      "/Users/elizabeth/anaconda3/lib/python3.11/site-packages/sklearn/model_selection/_split.py:737: UserWarning: The least populated class in y has only 1 members, which is less than n_splits=3.\n",
      "  warnings.warn(\n",
      "/Users/elizabeth/anaconda3/lib/python3.11/site-packages/sklearn/model_selection/_split.py:737: UserWarning: The least populated class in y has only 1 members, which is less than n_splits=3.\n",
      "  warnings.warn(\n",
      "/Users/elizabeth/anaconda3/lib/python3.11/site-packages/sklearn/model_selection/_split.py:737: UserWarning: The least populated class in y has only 1 members, which is less than n_splits=3.\n",
      "  warnings.warn(\n",
      "/Users/elizabeth/anaconda3/lib/python3.11/site-packages/sklearn/model_selection/_split.py:737: UserWarning: The least populated class in y has only 1 members, which is less than n_splits=3.\n",
      "  warnings.warn(\n",
      "/Users/elizabeth/anaconda3/lib/python3.11/site-packages/sklearn/model_selection/_split.py:737: UserWarning: The least populated class in y has only 1 members, which is less than n_splits=3.\n",
      "  warnings.warn(\n",
      "/Users/elizabeth/anaconda3/lib/python3.11/site-packages/sklearn/model_selection/_split.py:737: UserWarning: The least populated class in y has only 1 members, which is less than n_splits=3.\n",
      "  warnings.warn(\n",
      "/Users/elizabeth/anaconda3/lib/python3.11/site-packages/sklearn/model_selection/_split.py:737: UserWarning: The least populated class in y has only 1 members, which is less than n_splits=3.\n",
      "  warnings.warn(\n",
      "/Users/elizabeth/anaconda3/lib/python3.11/site-packages/sklearn/model_selection/_split.py:737: UserWarning: The least populated class in y has only 1 members, which is less than n_splits=3.\n",
      "  warnings.warn(\n",
      "/Users/elizabeth/anaconda3/lib/python3.11/site-packages/sklearn/model_selection/_split.py:737: UserWarning: The least populated class in y has only 1 members, which is less than n_splits=3.\n",
      "  warnings.warn(\n",
      "/Users/elizabeth/anaconda3/lib/python3.11/site-packages/sklearn/model_selection/_split.py:737: UserWarning: The least populated class in y has only 1 members, which is less than n_splits=3.\n",
      "  warnings.warn(\n",
      "/Users/elizabeth/anaconda3/lib/python3.11/site-packages/sklearn/model_selection/_split.py:737: UserWarning: The least populated class in y has only 1 members, which is less than n_splits=3.\n",
      "  warnings.warn(\n",
      "/Users/elizabeth/anaconda3/lib/python3.11/site-packages/sklearn/model_selection/_split.py:737: UserWarning: The least populated class in y has only 1 members, which is less than n_splits=3.\n",
      "  warnings.warn(\n",
      "/Users/elizabeth/anaconda3/lib/python3.11/site-packages/sklearn/model_selection/_split.py:737: UserWarning: The least populated class in y has only 1 members, which is less than n_splits=3.\n",
      "  warnings.warn(\n",
      "/Users/elizabeth/anaconda3/lib/python3.11/site-packages/sklearn/model_selection/_split.py:737: UserWarning: The least populated class in y has only 1 members, which is less than n_splits=3.\n",
      "  warnings.warn(\n",
      "/Users/elizabeth/anaconda3/lib/python3.11/site-packages/sklearn/model_selection/_split.py:737: UserWarning: The least populated class in y has only 1 members, which is less than n_splits=3.\n",
      "  warnings.warn(\n",
      "/Users/elizabeth/anaconda3/lib/python3.11/site-packages/sklearn/model_selection/_split.py:737: UserWarning: The least populated class in y has only 1 members, which is less than n_splits=3.\n",
      "  warnings.warn(\n",
      "/Users/elizabeth/anaconda3/lib/python3.11/site-packages/sklearn/model_selection/_split.py:737: UserWarning: The least populated class in y has only 1 members, which is less than n_splits=3.\n",
      "  warnings.warn(\n",
      "/Users/elizabeth/anaconda3/lib/python3.11/site-packages/sklearn/model_selection/_split.py:737: UserWarning: The least populated class in y has only 1 members, which is less than n_splits=3.\n",
      "  warnings.warn(\n",
      "/Users/elizabeth/anaconda3/lib/python3.11/site-packages/sklearn/model_selection/_split.py:737: UserWarning: The least populated class in y has only 1 members, which is less than n_splits=3.\n",
      "  warnings.warn(\n",
      "/Users/elizabeth/anaconda3/lib/python3.11/site-packages/sklearn/model_selection/_split.py:737: UserWarning: The least populated class in y has only 1 members, which is less than n_splits=3.\n",
      "  warnings.warn(\n",
      "/Users/elizabeth/anaconda3/lib/python3.11/site-packages/sklearn/model_selection/_split.py:737: UserWarning: The least populated class in y has only 1 members, which is less than n_splits=3.\n",
      "  warnings.warn(\n",
      "/Users/elizabeth/anaconda3/lib/python3.11/site-packages/sklearn/model_selection/_split.py:737: UserWarning: The least populated class in y has only 1 members, which is less than n_splits=3.\n",
      "  warnings.warn(\n",
      "/Users/elizabeth/anaconda3/lib/python3.11/site-packages/sklearn/model_selection/_split.py:737: UserWarning: The least populated class in y has only 1 members, which is less than n_splits=3.\n",
      "  warnings.warn(\n",
      "/Users/elizabeth/anaconda3/lib/python3.11/site-packages/sklearn/model_selection/_split.py:737: UserWarning: The least populated class in y has only 1 members, which is less than n_splits=3.\n",
      "  warnings.warn(\n",
      "/Users/elizabeth/anaconda3/lib/python3.11/site-packages/sklearn/model_selection/_split.py:737: UserWarning: The least populated class in y has only 1 members, which is less than n_splits=3.\n",
      "  warnings.warn(\n",
      "/Users/elizabeth/anaconda3/lib/python3.11/site-packages/sklearn/model_selection/_split.py:737: UserWarning: The least populated class in y has only 1 members, which is less than n_splits=3.\n",
      "  warnings.warn(\n",
      "/Users/elizabeth/anaconda3/lib/python3.11/site-packages/sklearn/model_selection/_split.py:737: UserWarning: The least populated class in y has only 1 members, which is less than n_splits=3.\n",
      "  warnings.warn(\n",
      "/Users/elizabeth/anaconda3/lib/python3.11/site-packages/sklearn/model_selection/_split.py:737: UserWarning: The least populated class in y has only 1 members, which is less than n_splits=3.\n",
      "  warnings.warn(\n",
      "/Users/elizabeth/anaconda3/lib/python3.11/site-packages/sklearn/model_selection/_split.py:737: UserWarning: The least populated class in y has only 1 members, which is less than n_splits=3.\n",
      "  warnings.warn(\n",
      "/Users/elizabeth/anaconda3/lib/python3.11/site-packages/sklearn/model_selection/_split.py:737: UserWarning: The least populated class in y has only 1 members, which is less than n_splits=3.\n",
      "  warnings.warn(\n",
      "/Users/elizabeth/anaconda3/lib/python3.11/site-packages/sklearn/model_selection/_split.py:737: UserWarning: The least populated class in y has only 1 members, which is less than n_splits=3.\n",
      "  warnings.warn(\n",
      "/Users/elizabeth/anaconda3/lib/python3.11/site-packages/sklearn/model_selection/_split.py:737: UserWarning: The least populated class in y has only 1 members, which is less than n_splits=3.\n",
      "  warnings.warn(\n",
      "/Users/elizabeth/anaconda3/lib/python3.11/site-packages/sklearn/model_selection/_split.py:737: UserWarning: The least populated class in y has only 1 members, which is less than n_splits=3.\n",
      "  warnings.warn(\n"
     ]
    },
    {
     "name": "stdout",
     "output_type": "stream",
     "text": [
      "Processing dataset: Breast Cancer Wisconsin\n"
     ]
    },
    {
     "name": "stderr",
     "output_type": "stream",
     "text": [
      "/Users/elizabeth/anaconda3/lib/python3.11/site-packages/urllib3/connectionpool.py:1056: InsecureRequestWarning: Unverified HTTPS request is being made to host 'archive.ics.uci.edu'. Adding certificate verification is strongly advised. See: https://urllib3.readthedocs.io/en/1.26.x/advanced-usage.html#ssl-warnings\n",
      "  warnings.warn(\n"
     ]
    }
   ],
   "source": [
    "from time import time\n",
    "\n",
    "for name, load_function in datasets.items():\n",
    "    print(f\"Processing dataset: {name}\")\n",
    "\n",
    "    # загружаем данные и измеряем время\n",
    "    start_time = time()\n",
    "    X, y = load_function()\n",
    "    load_time = time() - start_time\n",
    "\n",
    "    # нормализация данных\n",
    "    scaler = StandardScaler()\n",
    "    X = scaler.fit_transform(X)\n",
    "\n",
    "    # делим на обучающую и тестовую выборки\n",
    "    X_train, X_test, y_train, y_test = train_test_split(X, y, test_size=0.2, random_state=42)\n",
    "\n",
    "\n",
    "    # для оптимизации\n",
    "    def evaluate_model(params):\n",
    "        n_estimators, max_depth, min_samples_leaf = params\n",
    "        model = RandomForestClassifier(\n",
    "            n_estimators=int(n_estimators),\n",
    "            max_depth=int(max_depth),\n",
    "            min_samples_leaf=int(min_samples_leaf),\n",
    "            random_state=42\n",
    "        )\n",
    "        return -np.mean(cross_val_score(model, X_train, y_train, cv=3, scoring='accuracy'))\n",
    "\n",
    "\n",
    "    # границы гиперпараметров\n",
    "    bounds = [\n",
    "        (10, 200),  # n_estimators\n",
    "        (2, 20),  # max_depth\n",
    "        (1, 10)  # min_samples_leaf\n",
    "    ]\n",
    "\n",
    "    # оптимизация\n",
    "    start_time = time()\n",
    "    result = minimize(\n",
    "        evaluate_model,\n",
    "        x0=[100, 10, 5],  # начальные значения гиперпараметров\n",
    "        bounds=bounds,\n",
    "        method='L-BFGS-B'\n",
    "    )\n",
    "    minimize_time = time() - start_time\n",
    "\n",
    "    best_params = result.x\n",
    "    best_score = -result.fun\n",
    "\n",
    "    # сравнение с Random Search\n",
    "    from sklearn.model_selection import ParameterSampler\n",
    "\n",
    "    param_grid = {\n",
    "        'n_estimators': range(10, 200),\n",
    "        'max_depth': range(2, 20),\n",
    "        'min_samples_leaf': range(1, 10)\n",
    "    }\n",
    "    random_search = ParameterSampler(param_grid, n_iter=50, random_state=42)\n",
    "\n",
    "    start_time = time()\n",
    "    best_random_score = float('-inf')\n",
    "    for params in random_search:\n",
    "        score = evaluate_model([\n",
    "            params['n_estimators'],\n",
    "            params['max_depth'],\n",
    "            params['min_samples_leaf']\n",
    "        ])\n",
    "        if score > best_random_score:\n",
    "            best_random_score = score\n",
    "    random_search_time = time() - start_time\n",
    "\n",
    "    results[name] = {\n",
    "        \"Load Time\": load_time,\n",
    "        \"Best Parameters (Minimize)\": best_params,\n",
    "        \"Best Score (Minimize)\": best_score,\n",
    "        \"Minimize Time\": minimize_time,\n",
    "        \"Best Random Search Score\": abs(best_random_score),\n",
    "        \"Random Search Time\": random_search_time\n",
    "    }"
   ],
   "metadata": {
    "collapsed": false,
    "ExecuteTime": {
     "end_time": "2024-12-14T01:17:23.378168Z",
     "start_time": "2024-12-14T01:16:25.084645Z"
    }
   }
  },
  {
   "cell_type": "code",
   "execution_count": 29,
   "outputs": [
    {
     "name": "stdout",
     "output_type": "stream",
     "text": [
      "Dataset: Spambase\n",
      "  Load Time: 1.618600845336914\n",
      "  Best Parameters (Minimize): [100.  10.   5.]\n",
      "  Best Score (Minimize): 0.9366869152603666\n",
      "  Minimize Time: 2.0346179008483887\n",
      "  Best Random Search Score: 0.879621689439133\n",
      "  Random Search Time: 28.48149299621582\n",
      "\n",
      "Dataset: Arrhythmia\n",
      "  Load Time: 1.397935152053833\n",
      "  Best Parameters (Minimize): [100.  10.   5.]\n",
      "  Best Score (Minimize): 0.6536730945821855\n",
      "  Minimize Time: 0.832345724105835\n",
      "  Best Random Search Score: 0.5678833792470156\n",
      "  Random Search Time: 12.255026817321777\n",
      "\n",
      "Dataset: Breast Cancer Wisconsin\n",
      "  Load Time: 1.0439159870147705\n",
      "  Best Parameters (Minimize): [100.  10.   5.]\n",
      "  Best Score (Minimize): 0.9450447310328802\n",
      "  Minimize Time: 0.6732957363128662\n",
      "  Best Random Search Score: 0.9318577901707913\n",
      "  Random Search Time: 9.94124984741211\n",
      "\n"
     ]
    }
   ],
   "source": [
    "for name, result in results.items():\n",
    "    print(f\"Dataset: {name}\")\n",
    "    for key, value in result.items():\n",
    "        print(f\"  {key}: {value}\")\n",
    "    print()"
   ],
   "metadata": {
    "collapsed": false,
    "ExecuteTime": {
     "end_time": "2024-12-14T01:18:27.667045Z",
     "start_time": "2024-12-14T01:18:27.663358Z"
    }
   }
  },
  {
   "cell_type": "code",
   "execution_count": 24,
   "metadata": {
    "collapsed": true,
    "ExecuteTime": {
     "end_time": "2024-12-14T01:06:12.603172Z",
     "start_time": "2024-12-14T01:06:01.062129Z"
    }
   },
   "outputs": [
    {
     "name": "stderr",
     "output_type": "stream",
     "text": [
      "/Users/elizabeth/anaconda3/lib/python3.11/site-packages/urllib3/connectionpool.py:1056: InsecureRequestWarning: Unverified HTTPS request is being made to host 'archive.ics.uci.edu'. Adding certificate verification is strongly advised. See: https://urllib3.readthedocs.io/en/1.26.x/advanced-usage.html#ssl-warnings\n",
      "  warnings.warn(\n"
     ]
    },
    {
     "name": "stdout",
     "output_type": "stream",
     "text": [
      "Best Parameters (Minimize): [100.  10.   5.]\n",
      "Best Score (Minimize): 0.9450447310328802\n",
      "Best Random Search Score: 0.9318577901707913\n"
     ]
    }
   ],
   "source": [
    "from io import StringIO, BytesIO\n",
    "import requests\n",
    "import numpy as np\n",
    "import pandas as pd\n",
    "from sklearn.ensemble import RandomForestClassifier\n",
    "from sklearn.model_selection import cross_val_score\n",
    "from sklearn.preprocessing import StandardScaler, LabelEncoder\n",
    "from sklearn.model_selection import train_test_split\n",
    "from scipy.optimize import minimize\n",
    "import time\n",
    "\n",
    "\n",
    "def load_spambase():\n",
    "    url = \"https://archive.ics.uci.edu/ml/machine-learning-databases/spambase/spambase.data\"\n",
    "    response = requests.get(url, verify=False)\n",
    "    spambase = pd.read_csv(StringIO(response.text), header=None)\n",
    "    X = spambase.iloc[:, :-1]\n",
    "    y = spambase.iloc[:, -1]\n",
    "    return X, y\n",
    "\n",
    "\n",
    "def load_arrhythmia():\n",
    "    url = \"https://archive.ics.uci.edu/ml/machine-learning-databases/arrhythmia/arrhythmia.data\"\n",
    "    response = requests.get(url, verify=False)\n",
    "    arrhythmia = pd.read_csv(StringIO(response.text), header=None, na_values=\"?\")\n",
    "    arrhythmia.fillna(arrhythmia.mean(), inplace=True)  # Заполняем пропущенные значения\n",
    "    X = arrhythmia.iloc[:, :-1]\n",
    "    y = arrhythmia.iloc[:, -1]\n",
    "    return X, y\n",
    "\n",
    "\n",
    "def load_breast_cancer_wisconsin():\n",
    "    url = \"https://archive.ics.uci.edu/ml/machine-learning-databases/breast-cancer-wisconsin/wdbc.data\"\n",
    "    response = requests.get(url, verify=False)\n",
    "    df = pd.read_csv(StringIO(response.text), header=None)\n",
    "    X = df.iloc[:, 2:]\n",
    "    y = df.iloc[:, 1]\n",
    "    return X, y\n",
    "\n",
    "\n",
    "# Список функций загрузки датасетов\n",
    "datasets = {\n",
    "    \"Spambase\": load_spambase,\n",
    "    \"Arrhythmia\": load_arrhythmia,\n",
    "    \"Breast Cancer Wisconsin\": load_breast_cancer_wisconsin\n",
    "}\n",
    "\n",
    "results = {}\n",
    "\n",
    "for name, load_function in datasets.items():\n",
    "    print(f\"Processing dataset: {name}\")\n",
    "\n",
    "    # Загружаем данные и измеряем время\n",
    "    start_time = time.time()\n",
    "    X, y = load_function()\n",
    "    load_time = time.time() - start_time\n",
    "\n",
    "    # Нормализация данных\n",
    "    scaler = StandardScaler()\n",
    "    X = scaler.fit_transform(X)\n",
    "\n",
    "    # Разделение на обучающую и тестовую выборки\n",
    "    X_train, X_test, y_train, y_test = train_test_split(X, y, test_size=0.2, random_state=42)\n",
    "\n",
    "\n",
    "    # Определяем функцию для оптимизации\n",
    "    def evaluate_model(params):\n",
    "        n_estimators, max_depth, min_samples_leaf = params\n",
    "        model = RandomForestClassifier(\n",
    "            n_estimators=int(n_estimators),\n",
    "            max_depth=int(max_depth),\n",
    "            min_samples_leaf=int(min_samples_leaf),\n",
    "            random_state=42\n",
    "        )\n",
    "        return -np.mean(cross_val_score(model, X_train, y_train, cv=3, scoring='accuracy'))\n",
    "\n",
    "\n",
    "    # Границы гиперпараметров\n",
    "    bounds = [\n",
    "        (10, 200),  # n_estimators\n",
    "        (2, 20),  # max_depth\n",
    "        (1, 10)  # min_samples_leaf\n",
    "    ]\n",
    "\n",
    "    # Оптимизация с использованием scipy.optimize.minimize\n",
    "    start_time = time.time()\n",
    "    result = minimize(\n",
    "        evaluate_model,\n",
    "        x0=[100, 10, 5],  # Начальные значения гиперпараметров\n",
    "        bounds=bounds,\n",
    "        method='L-BFGS-B'\n",
    "    )\n",
    "    minimize_time = time.time() - start_time\n",
    "\n",
    "    best_params = result.x\n",
    "    best_score = -result.fun\n",
    "\n",
    "    # Сравнение с Random Search\n",
    "    from sklearn.model_selection import ParameterSampler\n",
    "\n",
    "    param_grid = {\n",
    "        'n_estimators': range(10, 200),\n",
    "        'max_depth': range(2, 20),\n",
    "        'min_samples_leaf': range(1, 10)\n",
    "    }\n",
    "    random_search = ParameterSampler(param_grid, n_iter=50, random_state=42)\n",
    "\n",
    "    start_time = time.time()\n",
    "    best_random_score = float('-inf')\n",
    "    for params in random_search:\n",
    "        score = evaluate_model([\n",
    "            params['n_estimators'],\n",
    "            params['max_depth'],\n",
    "            params['min_samples_leaf']\n",
    "        ])\n",
    "        if score > best_random_score:\n",
    "            best_random_score = score\n",
    "    random_search_time = time.time() - start_time\n",
    "\n",
    "    # Сохраняем результаты\n",
    "    results[name] = {\n",
    "        \"Load Time\": load_time,\n",
    "        \"Best Parameters (Minimize)\": best_params,\n",
    "        \"Best Score (Minimize)\": best_score,\n",
    "        \"Minimize Time\": minimize_time,\n",
    "        \"Best Random Search Score\": abs(best_random_score),\n",
    "        \"Random Search Time\": random_search_time\n",
    "    }\n",
    "\n",
    "# Вывод результатов\n",
    "for name, result in results.items():\n",
    "    print(f\"Dataset: {name}\")\n",
    "    for key, value in result.items():\n",
    "        print(f\"  {key}: {value}\")\n",
    "    print()\n"
   ]
  },
  {
   "cell_type": "code",
   "execution_count": 31,
   "outputs": [],
   "source": [
    "from io import StringIO, BytesIO\n",
    "import requests\n",
    "import numpy as np\n",
    "import pandas as pd\n",
    "from sklearn.ensemble import RandomForestClassifier\n",
    "from sklearn.model_selection import cross_val_score\n",
    "from sklearn.preprocessing import StandardScaler\n",
    "from sklearn.model_selection import train_test_split\n",
    "from sklearn.model_selection import ParameterSampler\n",
    "from skopt import gp_minimize\n",
    "from skopt.space import Integer, Real\n",
    "import time"
   ],
   "metadata": {
    "collapsed": false,
    "ExecuteTime": {
     "end_time": "2024-12-14T08:59:24.752083Z",
     "start_time": "2024-12-14T08:59:24.745925Z"
    }
   }
  },
  {
   "cell_type": "code",
   "execution_count": null,
   "outputs": [],
   "source": [
    "# грузим датасеты\n",
    "def load_spambase():\n",
    "    url = \"https://archive.ics.uci.edu/ml/machine-learning-databases/spambase/spambase.data\"\n",
    "    response = requests.get(url, verify=False)\n",
    "    spambase = pd.read_csv(StringIO(response.text), header=None)\n",
    "    X = spambase.iloc[:, :-1]\n",
    "    y = spambase.iloc[:, -1]\n",
    "    return X, y\n",
    "\n",
    "\n",
    "def load_arrhythmia():\n",
    "    url = \"https://archive.ics.uci.edu/ml/machine-learning-databases/arrhythmia/arrhythmia.data\"\n",
    "    response = requests.get(url, verify=False)\n",
    "    arrhythmia = pd.read_csv(StringIO(response.text), header=None, na_values=\"?\")\n",
    "    arrhythmia.fillna(arrhythmia.mean(), inplace=True)\n",
    "    X = arrhythmia.iloc[:, :-1]\n",
    "    y = arrhythmia.iloc[:, -1]\n",
    "    return X, y\n",
    "\n",
    "\n",
    "def load_breast_cancer_wisconsin():\n",
    "    url = \"https://archive.ics.uci.edu/ml/machine-learning-databases/breast-cancer-wisconsin/wdbc.data\"\n",
    "    response = requests.get(url, verify=False)\n",
    "    df = pd.read_csv(StringIO(response.text), header=None)\n",
    "    X = df.iloc[:, 2:]\n",
    "    y = df.iloc[:, 1]\n",
    "    return X, y"
   ],
   "metadata": {
    "collapsed": false
   }
  },
  {
   "cell_type": "code",
   "execution_count": 35,
   "outputs": [],
   "source": [
    "datasets = {\n",
    "    \"Spambase\": load_spambase,\n",
    "    \"Arrhythmia\": load_arrhythmia,\n",
    "    \"Breast Cancer Wisconsin\": load_breast_cancer_wisconsin\n",
    "}\n",
    "\n",
    "results = []"
   ],
   "metadata": {
    "collapsed": false,
    "ExecuteTime": {
     "end_time": "2024-12-14T09:18:33.296594Z",
     "start_time": "2024-12-14T09:18:33.289922Z"
    }
   }
  },
  {
   "cell_type": "code",
   "execution_count": 36,
   "outputs": [
    {
     "name": "stdout",
     "output_type": "stream",
     "text": [
      "Processing dataset: Spambase\n"
     ]
    },
    {
     "name": "stderr",
     "output_type": "stream",
     "text": [
      "/Users/elizabeth/anaconda3/lib/python3.11/site-packages/urllib3/connectionpool.py:1056: InsecureRequestWarning: Unverified HTTPS request is being made to host 'archive.ics.uci.edu'. Adding certificate verification is strongly advised. See: https://urllib3.readthedocs.io/en/1.26.x/advanced-usage.html#ssl-warnings\n",
      "  warnings.warn(\n"
     ]
    },
    {
     "name": "stdout",
     "output_type": "stream",
     "text": [
      "Processing dataset: Arrhythmia\n"
     ]
    },
    {
     "name": "stderr",
     "output_type": "stream",
     "text": [
      "/Users/elizabeth/anaconda3/lib/python3.11/site-packages/urllib3/connectionpool.py:1056: InsecureRequestWarning: Unverified HTTPS request is being made to host 'archive.ics.uci.edu'. Adding certificate verification is strongly advised. See: https://urllib3.readthedocs.io/en/1.26.x/advanced-usage.html#ssl-warnings\n",
      "  warnings.warn(\n",
      "/Users/elizabeth/anaconda3/lib/python3.11/site-packages/sklearn/model_selection/_split.py:737: UserWarning: The least populated class in y has only 1 members, which is less than n_splits=3.\n",
      "  warnings.warn(\n",
      "/Users/elizabeth/anaconda3/lib/python3.11/site-packages/sklearn/model_selection/_split.py:737: UserWarning: The least populated class in y has only 1 members, which is less than n_splits=3.\n",
      "  warnings.warn(\n",
      "/Users/elizabeth/anaconda3/lib/python3.11/site-packages/sklearn/model_selection/_split.py:737: UserWarning: The least populated class in y has only 1 members, which is less than n_splits=3.\n",
      "  warnings.warn(\n",
      "/Users/elizabeth/anaconda3/lib/python3.11/site-packages/sklearn/model_selection/_split.py:737: UserWarning: The least populated class in y has only 1 members, which is less than n_splits=3.\n",
      "  warnings.warn(\n",
      "/Users/elizabeth/anaconda3/lib/python3.11/site-packages/sklearn/model_selection/_split.py:737: UserWarning: The least populated class in y has only 1 members, which is less than n_splits=3.\n",
      "  warnings.warn(\n",
      "/Users/elizabeth/anaconda3/lib/python3.11/site-packages/sklearn/model_selection/_split.py:737: UserWarning: The least populated class in y has only 1 members, which is less than n_splits=3.\n",
      "  warnings.warn(\n",
      "/Users/elizabeth/anaconda3/lib/python3.11/site-packages/sklearn/model_selection/_split.py:737: UserWarning: The least populated class in y has only 1 members, which is less than n_splits=3.\n",
      "  warnings.warn(\n",
      "/Users/elizabeth/anaconda3/lib/python3.11/site-packages/sklearn/model_selection/_split.py:737: UserWarning: The least populated class in y has only 1 members, which is less than n_splits=3.\n",
      "  warnings.warn(\n",
      "/Users/elizabeth/anaconda3/lib/python3.11/site-packages/sklearn/model_selection/_split.py:737: UserWarning: The least populated class in y has only 1 members, which is less than n_splits=3.\n",
      "  warnings.warn(\n",
      "/Users/elizabeth/anaconda3/lib/python3.11/site-packages/sklearn/model_selection/_split.py:737: UserWarning: The least populated class in y has only 1 members, which is less than n_splits=3.\n",
      "  warnings.warn(\n",
      "/Users/elizabeth/anaconda3/lib/python3.11/site-packages/sklearn/model_selection/_split.py:737: UserWarning: The least populated class in y has only 1 members, which is less than n_splits=3.\n",
      "  warnings.warn(\n",
      "/Users/elizabeth/anaconda3/lib/python3.11/site-packages/sklearn/model_selection/_split.py:737: UserWarning: The least populated class in y has only 1 members, which is less than n_splits=3.\n",
      "  warnings.warn(\n",
      "/Users/elizabeth/anaconda3/lib/python3.11/site-packages/sklearn/model_selection/_split.py:737: UserWarning: The least populated class in y has only 1 members, which is less than n_splits=3.\n",
      "  warnings.warn(\n",
      "/Users/elizabeth/anaconda3/lib/python3.11/site-packages/sklearn/model_selection/_split.py:737: UserWarning: The least populated class in y has only 1 members, which is less than n_splits=3.\n",
      "  warnings.warn(\n",
      "/Users/elizabeth/anaconda3/lib/python3.11/site-packages/sklearn/model_selection/_split.py:737: UserWarning: The least populated class in y has only 1 members, which is less than n_splits=3.\n",
      "  warnings.warn(\n",
      "/Users/elizabeth/anaconda3/lib/python3.11/site-packages/sklearn/model_selection/_split.py:737: UserWarning: The least populated class in y has only 1 members, which is less than n_splits=3.\n",
      "  warnings.warn(\n",
      "/Users/elizabeth/anaconda3/lib/python3.11/site-packages/sklearn/model_selection/_split.py:737: UserWarning: The least populated class in y has only 1 members, which is less than n_splits=3.\n",
      "  warnings.warn(\n",
      "/Users/elizabeth/anaconda3/lib/python3.11/site-packages/sklearn/model_selection/_split.py:737: UserWarning: The least populated class in y has only 1 members, which is less than n_splits=3.\n",
      "  warnings.warn(\n",
      "/Users/elizabeth/anaconda3/lib/python3.11/site-packages/sklearn/model_selection/_split.py:737: UserWarning: The least populated class in y has only 1 members, which is less than n_splits=3.\n",
      "  warnings.warn(\n",
      "/Users/elizabeth/anaconda3/lib/python3.11/site-packages/skopt/optimizer/optimizer.py:517: UserWarning: The objective has been evaluated at point [200, 17, 1] before, using random point [151, 17, 5]\n",
      "  warnings.warn(\n",
      "/Users/elizabeth/anaconda3/lib/python3.11/site-packages/sklearn/model_selection/_split.py:737: UserWarning: The least populated class in y has only 1 members, which is less than n_splits=3.\n",
      "  warnings.warn(\n",
      "/Users/elizabeth/anaconda3/lib/python3.11/site-packages/skopt/optimizer/optimizer.py:517: UserWarning: The objective has been evaluated at point [200, 17, 1] before, using random point [40, 13, 9]\n",
      "  warnings.warn(\n",
      "/Users/elizabeth/anaconda3/lib/python3.11/site-packages/sklearn/model_selection/_split.py:737: UserWarning: The least populated class in y has only 1 members, which is less than n_splits=3.\n",
      "  warnings.warn(\n",
      "/Users/elizabeth/anaconda3/lib/python3.11/site-packages/skopt/optimizer/optimizer.py:517: UserWarning: The objective has been evaluated at point [200, 17, 1] before, using random point [118, 4, 8]\n",
      "  warnings.warn(\n",
      "/Users/elizabeth/anaconda3/lib/python3.11/site-packages/sklearn/model_selection/_split.py:737: UserWarning: The least populated class in y has only 1 members, which is less than n_splits=3.\n",
      "  warnings.warn(\n",
      "/Users/elizabeth/anaconda3/lib/python3.11/site-packages/sklearn/model_selection/_split.py:737: UserWarning: The least populated class in y has only 1 members, which is less than n_splits=3.\n",
      "  warnings.warn(\n",
      "/Users/elizabeth/anaconda3/lib/python3.11/site-packages/sklearn/model_selection/_split.py:737: UserWarning: The least populated class in y has only 1 members, which is less than n_splits=3.\n",
      "  warnings.warn(\n",
      "/Users/elizabeth/anaconda3/lib/python3.11/site-packages/sklearn/model_selection/_split.py:737: UserWarning: The least populated class in y has only 1 members, which is less than n_splits=3.\n",
      "  warnings.warn(\n",
      "/Users/elizabeth/anaconda3/lib/python3.11/site-packages/sklearn/model_selection/_split.py:737: UserWarning: The least populated class in y has only 1 members, which is less than n_splits=3.\n",
      "  warnings.warn(\n",
      "/Users/elizabeth/anaconda3/lib/python3.11/site-packages/sklearn/model_selection/_split.py:737: UserWarning: The least populated class in y has only 1 members, which is less than n_splits=3.\n",
      "  warnings.warn(\n",
      "/Users/elizabeth/anaconda3/lib/python3.11/site-packages/sklearn/model_selection/_split.py:737: UserWarning: The least populated class in y has only 1 members, which is less than n_splits=3.\n",
      "  warnings.warn(\n",
      "/Users/elizabeth/anaconda3/lib/python3.11/site-packages/sklearn/model_selection/_split.py:737: UserWarning: The least populated class in y has only 1 members, which is less than n_splits=3.\n",
      "  warnings.warn(\n",
      "/Users/elizabeth/anaconda3/lib/python3.11/site-packages/sklearn/model_selection/_split.py:737: UserWarning: The least populated class in y has only 1 members, which is less than n_splits=3.\n",
      "  warnings.warn(\n",
      "/Users/elizabeth/anaconda3/lib/python3.11/site-packages/sklearn/model_selection/_split.py:737: UserWarning: The least populated class in y has only 1 members, which is less than n_splits=3.\n",
      "  warnings.warn(\n",
      "/Users/elizabeth/anaconda3/lib/python3.11/site-packages/sklearn/model_selection/_split.py:737: UserWarning: The least populated class in y has only 1 members, which is less than n_splits=3.\n",
      "  warnings.warn(\n",
      "/Users/elizabeth/anaconda3/lib/python3.11/site-packages/sklearn/model_selection/_split.py:737: UserWarning: The least populated class in y has only 1 members, which is less than n_splits=3.\n",
      "  warnings.warn(\n",
      "/Users/elizabeth/anaconda3/lib/python3.11/site-packages/sklearn/model_selection/_split.py:737: UserWarning: The least populated class in y has only 1 members, which is less than n_splits=3.\n",
      "  warnings.warn(\n",
      "/Users/elizabeth/anaconda3/lib/python3.11/site-packages/sklearn/model_selection/_split.py:737: UserWarning: The least populated class in y has only 1 members, which is less than n_splits=3.\n",
      "  warnings.warn(\n",
      "/Users/elizabeth/anaconda3/lib/python3.11/site-packages/sklearn/model_selection/_split.py:737: UserWarning: The least populated class in y has only 1 members, which is less than n_splits=3.\n",
      "  warnings.warn(\n",
      "/Users/elizabeth/anaconda3/lib/python3.11/site-packages/sklearn/model_selection/_split.py:737: UserWarning: The least populated class in y has only 1 members, which is less than n_splits=3.\n",
      "  warnings.warn(\n",
      "/Users/elizabeth/anaconda3/lib/python3.11/site-packages/sklearn/model_selection/_split.py:737: UserWarning: The least populated class in y has only 1 members, which is less than n_splits=3.\n",
      "  warnings.warn(\n",
      "/Users/elizabeth/anaconda3/lib/python3.11/site-packages/sklearn/model_selection/_split.py:737: UserWarning: The least populated class in y has only 1 members, which is less than n_splits=3.\n",
      "  warnings.warn(\n",
      "/Users/elizabeth/anaconda3/lib/python3.11/site-packages/sklearn/model_selection/_split.py:737: UserWarning: The least populated class in y has only 1 members, which is less than n_splits=3.\n",
      "  warnings.warn(\n",
      "/Users/elizabeth/anaconda3/lib/python3.11/site-packages/sklearn/model_selection/_split.py:737: UserWarning: The least populated class in y has only 1 members, which is less than n_splits=3.\n",
      "  warnings.warn(\n",
      "/Users/elizabeth/anaconda3/lib/python3.11/site-packages/sklearn/model_selection/_split.py:737: UserWarning: The least populated class in y has only 1 members, which is less than n_splits=3.\n",
      "  warnings.warn(\n",
      "/Users/elizabeth/anaconda3/lib/python3.11/site-packages/sklearn/model_selection/_split.py:737: UserWarning: The least populated class in y has only 1 members, which is less than n_splits=3.\n",
      "  warnings.warn(\n",
      "/Users/elizabeth/anaconda3/lib/python3.11/site-packages/sklearn/model_selection/_split.py:737: UserWarning: The least populated class in y has only 1 members, which is less than n_splits=3.\n",
      "  warnings.warn(\n",
      "/Users/elizabeth/anaconda3/lib/python3.11/site-packages/sklearn/model_selection/_split.py:737: UserWarning: The least populated class in y has only 1 members, which is less than n_splits=3.\n",
      "  warnings.warn(\n",
      "/Users/elizabeth/anaconda3/lib/python3.11/site-packages/sklearn/model_selection/_split.py:737: UserWarning: The least populated class in y has only 1 members, which is less than n_splits=3.\n",
      "  warnings.warn(\n",
      "/Users/elizabeth/anaconda3/lib/python3.11/site-packages/sklearn/model_selection/_split.py:737: UserWarning: The least populated class in y has only 1 members, which is less than n_splits=3.\n",
      "  warnings.warn(\n",
      "/Users/elizabeth/anaconda3/lib/python3.11/site-packages/sklearn/model_selection/_split.py:737: UserWarning: The least populated class in y has only 1 members, which is less than n_splits=3.\n",
      "  warnings.warn(\n",
      "/Users/elizabeth/anaconda3/lib/python3.11/site-packages/sklearn/model_selection/_split.py:737: UserWarning: The least populated class in y has only 1 members, which is less than n_splits=3.\n",
      "  warnings.warn(\n",
      "/Users/elizabeth/anaconda3/lib/python3.11/site-packages/skopt/optimizer/optimizer.py:517: UserWarning: The objective has been evaluated at point [200, 18, 1] before, using random point [161, 9, 9]\n",
      "  warnings.warn(\n",
      "/Users/elizabeth/anaconda3/lib/python3.11/site-packages/sklearn/model_selection/_split.py:737: UserWarning: The least populated class in y has only 1 members, which is less than n_splits=3.\n",
      "  warnings.warn(\n",
      "/Users/elizabeth/anaconda3/lib/python3.11/site-packages/sklearn/model_selection/_split.py:737: UserWarning: The least populated class in y has only 1 members, which is less than n_splits=3.\n",
      "  warnings.warn(\n",
      "/Users/elizabeth/anaconda3/lib/python3.11/site-packages/sklearn/model_selection/_split.py:737: UserWarning: The least populated class in y has only 1 members, which is less than n_splits=3.\n",
      "  warnings.warn(\n",
      "/Users/elizabeth/anaconda3/lib/python3.11/site-packages/sklearn/model_selection/_split.py:737: UserWarning: The least populated class in y has only 1 members, which is less than n_splits=3.\n",
      "  warnings.warn(\n",
      "/Users/elizabeth/anaconda3/lib/python3.11/site-packages/sklearn/model_selection/_split.py:737: UserWarning: The least populated class in y has only 1 members, which is less than n_splits=3.\n",
      "  warnings.warn(\n",
      "/Users/elizabeth/anaconda3/lib/python3.11/site-packages/sklearn/model_selection/_split.py:737: UserWarning: The least populated class in y has only 1 members, which is less than n_splits=3.\n",
      "  warnings.warn(\n",
      "/Users/elizabeth/anaconda3/lib/python3.11/site-packages/sklearn/model_selection/_split.py:737: UserWarning: The least populated class in y has only 1 members, which is less than n_splits=3.\n",
      "  warnings.warn(\n",
      "/Users/elizabeth/anaconda3/lib/python3.11/site-packages/sklearn/model_selection/_split.py:737: UserWarning: The least populated class in y has only 1 members, which is less than n_splits=3.\n",
      "  warnings.warn(\n",
      "/Users/elizabeth/anaconda3/lib/python3.11/site-packages/sklearn/model_selection/_split.py:737: UserWarning: The least populated class in y has only 1 members, which is less than n_splits=3.\n",
      "  warnings.warn(\n",
      "/Users/elizabeth/anaconda3/lib/python3.11/site-packages/sklearn/model_selection/_split.py:737: UserWarning: The least populated class in y has only 1 members, which is less than n_splits=3.\n",
      "  warnings.warn(\n",
      "/Users/elizabeth/anaconda3/lib/python3.11/site-packages/sklearn/model_selection/_split.py:737: UserWarning: The least populated class in y has only 1 members, which is less than n_splits=3.\n",
      "  warnings.warn(\n",
      "/Users/elizabeth/anaconda3/lib/python3.11/site-packages/sklearn/model_selection/_split.py:737: UserWarning: The least populated class in y has only 1 members, which is less than n_splits=3.\n",
      "  warnings.warn(\n",
      "/Users/elizabeth/anaconda3/lib/python3.11/site-packages/sklearn/model_selection/_split.py:737: UserWarning: The least populated class in y has only 1 members, which is less than n_splits=3.\n",
      "  warnings.warn(\n",
      "/Users/elizabeth/anaconda3/lib/python3.11/site-packages/sklearn/model_selection/_split.py:737: UserWarning: The least populated class in y has only 1 members, which is less than n_splits=3.\n",
      "  warnings.warn(\n",
      "/Users/elizabeth/anaconda3/lib/python3.11/site-packages/sklearn/model_selection/_split.py:737: UserWarning: The least populated class in y has only 1 members, which is less than n_splits=3.\n",
      "  warnings.warn(\n",
      "/Users/elizabeth/anaconda3/lib/python3.11/site-packages/sklearn/model_selection/_split.py:737: UserWarning: The least populated class in y has only 1 members, which is less than n_splits=3.\n",
      "  warnings.warn(\n",
      "/Users/elizabeth/anaconda3/lib/python3.11/site-packages/sklearn/model_selection/_split.py:737: UserWarning: The least populated class in y has only 1 members, which is less than n_splits=3.\n",
      "  warnings.warn(\n",
      "/Users/elizabeth/anaconda3/lib/python3.11/site-packages/sklearn/model_selection/_split.py:737: UserWarning: The least populated class in y has only 1 members, which is less than n_splits=3.\n",
      "  warnings.warn(\n",
      "/Users/elizabeth/anaconda3/lib/python3.11/site-packages/sklearn/model_selection/_split.py:737: UserWarning: The least populated class in y has only 1 members, which is less than n_splits=3.\n",
      "  warnings.warn(\n",
      "/Users/elizabeth/anaconda3/lib/python3.11/site-packages/sklearn/model_selection/_split.py:737: UserWarning: The least populated class in y has only 1 members, which is less than n_splits=3.\n",
      "  warnings.warn(\n",
      "/Users/elizabeth/anaconda3/lib/python3.11/site-packages/sklearn/model_selection/_split.py:737: UserWarning: The least populated class in y has only 1 members, which is less than n_splits=3.\n",
      "  warnings.warn(\n",
      "/Users/elizabeth/anaconda3/lib/python3.11/site-packages/sklearn/model_selection/_split.py:737: UserWarning: The least populated class in y has only 1 members, which is less than n_splits=3.\n",
      "  warnings.warn(\n",
      "/Users/elizabeth/anaconda3/lib/python3.11/site-packages/sklearn/model_selection/_split.py:737: UserWarning: The least populated class in y has only 1 members, which is less than n_splits=3.\n",
      "  warnings.warn(\n",
      "/Users/elizabeth/anaconda3/lib/python3.11/site-packages/sklearn/model_selection/_split.py:737: UserWarning: The least populated class in y has only 1 members, which is less than n_splits=3.\n",
      "  warnings.warn(\n",
      "/Users/elizabeth/anaconda3/lib/python3.11/site-packages/sklearn/model_selection/_split.py:737: UserWarning: The least populated class in y has only 1 members, which is less than n_splits=3.\n",
      "  warnings.warn(\n",
      "/Users/elizabeth/anaconda3/lib/python3.11/site-packages/sklearn/model_selection/_split.py:737: UserWarning: The least populated class in y has only 1 members, which is less than n_splits=3.\n",
      "  warnings.warn(\n",
      "/Users/elizabeth/anaconda3/lib/python3.11/site-packages/sklearn/model_selection/_split.py:737: UserWarning: The least populated class in y has only 1 members, which is less than n_splits=3.\n",
      "  warnings.warn(\n",
      "/Users/elizabeth/anaconda3/lib/python3.11/site-packages/sklearn/model_selection/_split.py:737: UserWarning: The least populated class in y has only 1 members, which is less than n_splits=3.\n",
      "  warnings.warn(\n",
      "/Users/elizabeth/anaconda3/lib/python3.11/site-packages/sklearn/model_selection/_split.py:737: UserWarning: The least populated class in y has only 1 members, which is less than n_splits=3.\n",
      "  warnings.warn(\n",
      "/Users/elizabeth/anaconda3/lib/python3.11/site-packages/sklearn/model_selection/_split.py:737: UserWarning: The least populated class in y has only 1 members, which is less than n_splits=3.\n",
      "  warnings.warn(\n",
      "/Users/elizabeth/anaconda3/lib/python3.11/site-packages/sklearn/model_selection/_split.py:737: UserWarning: The least populated class in y has only 1 members, which is less than n_splits=3.\n",
      "  warnings.warn(\n",
      "/Users/elizabeth/anaconda3/lib/python3.11/site-packages/sklearn/model_selection/_split.py:737: UserWarning: The least populated class in y has only 1 members, which is less than n_splits=3.\n",
      "  warnings.warn(\n",
      "/Users/elizabeth/anaconda3/lib/python3.11/site-packages/sklearn/model_selection/_split.py:737: UserWarning: The least populated class in y has only 1 members, which is less than n_splits=3.\n",
      "  warnings.warn(\n",
      "/Users/elizabeth/anaconda3/lib/python3.11/site-packages/sklearn/model_selection/_split.py:737: UserWarning: The least populated class in y has only 1 members, which is less than n_splits=3.\n",
      "  warnings.warn(\n",
      "/Users/elizabeth/anaconda3/lib/python3.11/site-packages/sklearn/model_selection/_split.py:737: UserWarning: The least populated class in y has only 1 members, which is less than n_splits=3.\n",
      "  warnings.warn(\n",
      "/Users/elizabeth/anaconda3/lib/python3.11/site-packages/sklearn/model_selection/_split.py:737: UserWarning: The least populated class in y has only 1 members, which is less than n_splits=3.\n",
      "  warnings.warn(\n",
      "/Users/elizabeth/anaconda3/lib/python3.11/site-packages/sklearn/model_selection/_split.py:737: UserWarning: The least populated class in y has only 1 members, which is less than n_splits=3.\n",
      "  warnings.warn(\n",
      "/Users/elizabeth/anaconda3/lib/python3.11/site-packages/sklearn/model_selection/_split.py:737: UserWarning: The least populated class in y has only 1 members, which is less than n_splits=3.\n",
      "  warnings.warn(\n",
      "/Users/elizabeth/anaconda3/lib/python3.11/site-packages/sklearn/model_selection/_split.py:737: UserWarning: The least populated class in y has only 1 members, which is less than n_splits=3.\n",
      "  warnings.warn(\n",
      "/Users/elizabeth/anaconda3/lib/python3.11/site-packages/sklearn/model_selection/_split.py:737: UserWarning: The least populated class in y has only 1 members, which is less than n_splits=3.\n",
      "  warnings.warn(\n",
      "/Users/elizabeth/anaconda3/lib/python3.11/site-packages/sklearn/model_selection/_split.py:737: UserWarning: The least populated class in y has only 1 members, which is less than n_splits=3.\n",
      "  warnings.warn(\n",
      "/Users/elizabeth/anaconda3/lib/python3.11/site-packages/sklearn/model_selection/_split.py:737: UserWarning: The least populated class in y has only 1 members, which is less than n_splits=3.\n",
      "  warnings.warn(\n",
      "/Users/elizabeth/anaconda3/lib/python3.11/site-packages/sklearn/model_selection/_split.py:737: UserWarning: The least populated class in y has only 1 members, which is less than n_splits=3.\n",
      "  warnings.warn(\n",
      "/Users/elizabeth/anaconda3/lib/python3.11/site-packages/sklearn/model_selection/_split.py:737: UserWarning: The least populated class in y has only 1 members, which is less than n_splits=3.\n",
      "  warnings.warn(\n",
      "/Users/elizabeth/anaconda3/lib/python3.11/site-packages/sklearn/model_selection/_split.py:737: UserWarning: The least populated class in y has only 1 members, which is less than n_splits=3.\n",
      "  warnings.warn(\n",
      "/Users/elizabeth/anaconda3/lib/python3.11/site-packages/sklearn/model_selection/_split.py:737: UserWarning: The least populated class in y has only 1 members, which is less than n_splits=3.\n",
      "  warnings.warn(\n",
      "/Users/elizabeth/anaconda3/lib/python3.11/site-packages/sklearn/model_selection/_split.py:737: UserWarning: The least populated class in y has only 1 members, which is less than n_splits=3.\n",
      "  warnings.warn(\n",
      "/Users/elizabeth/anaconda3/lib/python3.11/site-packages/sklearn/model_selection/_split.py:737: UserWarning: The least populated class in y has only 1 members, which is less than n_splits=3.\n",
      "  warnings.warn(\n",
      "/Users/elizabeth/anaconda3/lib/python3.11/site-packages/sklearn/model_selection/_split.py:737: UserWarning: The least populated class in y has only 1 members, which is less than n_splits=3.\n",
      "  warnings.warn(\n",
      "/Users/elizabeth/anaconda3/lib/python3.11/site-packages/sklearn/model_selection/_split.py:737: UserWarning: The least populated class in y has only 1 members, which is less than n_splits=3.\n",
      "  warnings.warn(\n",
      "/Users/elizabeth/anaconda3/lib/python3.11/site-packages/sklearn/model_selection/_split.py:737: UserWarning: The least populated class in y has only 1 members, which is less than n_splits=3.\n",
      "  warnings.warn(\n"
     ]
    },
    {
     "name": "stdout",
     "output_type": "stream",
     "text": [
      "Processing dataset: Breast Cancer Wisconsin\n"
     ]
    },
    {
     "name": "stderr",
     "output_type": "stream",
     "text": [
      "/Users/elizabeth/anaconda3/lib/python3.11/site-packages/urllib3/connectionpool.py:1056: InsecureRequestWarning: Unverified HTTPS request is being made to host 'archive.ics.uci.edu'. Adding certificate verification is strongly advised. See: https://urllib3.readthedocs.io/en/1.26.x/advanced-usage.html#ssl-warnings\n",
      "  warnings.warn(\n"
     ]
    }
   ],
   "source": [
    "for name, load_function in datasets.items():\n",
    "    print(f\"Processing dataset: {name}\")\n",
    "\n",
    "    # грузим + измеряем время\n",
    "    start_time = time.time()\n",
    "    X, y = load_function()\n",
    "\n",
    "    # нормализуем\n",
    "    scaler = StandardScaler()\n",
    "    X = scaler.fit_transform(X)\n",
    "\n",
    "    # делим данные на выборки\n",
    "    X_train, X_test, y_train, y_test = train_test_split(X, y, test_size=0.2, random_state=42)\n",
    "\n",
    "\n",
    "    # это функция для оптимизации\n",
    "    def evaluate_model(params):\n",
    "        n_estimators, max_depth, min_samples_leaf = params\n",
    "        model = RandomForestClassifier(\n",
    "            n_estimators=int(n_estimators),\n",
    "            max_depth=int(max_depth),\n",
    "            min_samples_leaf=int(min_samples_leaf),\n",
    "            random_state=42\n",
    "        )\n",
    "        return -np.mean(cross_val_score(model, X_train, y_train, cv=3, scoring='accuracy'))\n",
    "\n",
    "\n",
    "    # гиперпараметры\n",
    "    space = [\n",
    "        Integer(10, 200, name='n_estimators'),\n",
    "        Integer(2, 20, name='max_depth'),\n",
    "        Integer(1, 10, name='min_samples_leaf')\n",
    "    ]\n",
    "\n",
    "    # оптимизация\n",
    "    result_gp = gp_minimize(\n",
    "        evaluate_model,\n",
    "        dimensions=space,\n",
    "        n_calls=50,  # итерации\n",
    "        random_state=42\n",
    "    )\n",
    "    gp_time = time.time() - start_time\n",
    "\n",
    "    best_gp_params = result_gp.x\n",
    "    best_gp_score = -result_gp.fun\n",
    "\n",
    "    # Random Search\n",
    "    param_grid = {\n",
    "        'n_estimators': range(10, 200),\n",
    "        'max_depth': range(2, 20),\n",
    "        'min_samples_leaf': range(1, 10)\n",
    "    }\n",
    "    random_search = ParameterSampler(param_grid, n_iter=50, random_state=42)\n",
    "\n",
    "    start_time = time.time()\n",
    "    best_random_score = float('-inf')  # тк у нас в функции возвращается отрицательное значение\n",
    "    for params in random_search:\n",
    "        score = evaluate_model([\n",
    "            params['n_estimators'],\n",
    "            params['max_depth'],\n",
    "            params['min_samples_leaf']\n",
    "        ])\n",
    "        if score > best_random_score:\n",
    "            best_random_score = score\n",
    "    random_search_time = time.time() - start_time\n",
    "\n",
    "    # сохраняем результаты\n",
    "    results.append({\n",
    "        \"Dataset\": name,\n",
    "        \"Best GP Parameters\": best_gp_params,\n",
    "        \"Best GP Score\": best_gp_score,\n",
    "        \"GP Time\": gp_time,\n",
    "        \"Best Random Search Score\": abs(best_random_score),\n",
    "        \"Random Search Time\": random_search_time\n",
    "    })"
   ],
   "metadata": {
    "collapsed": false,
    "ExecuteTime": {
     "end_time": "2024-12-14T09:21:17.112506Z",
     "start_time": "2024-12-14T09:18:35.493269Z"
    }
   }
  },
  {
   "cell_type": "code",
   "execution_count": 37,
   "outputs": [
    {
     "name": "stdout",
     "output_type": "stream",
     "text": [
      "                   Dataset Best GP Parameters  Best GP Score    GP Time  \\\n",
      "0                 Spambase       [200, 19, 1]       0.947829  62.885500   \n",
      "1               Arrhythmia       [200, 18, 1]       0.728558  27.804846   \n",
      "2  Breast Cancer Wisconsin        [30, 13, 1]       0.958217  19.339130   \n",
      "\n",
      "   Best Random Search Score  Random Search Time  \n",
      "0                  0.879622           29.214304  \n",
      "1                  0.567883           12.374886  \n",
      "2                  0.931858            9.998734  \n"
     ]
    }
   ],
   "source": [
    "results_df = pd.DataFrame(results)\n",
    "print(results_df)"
   ],
   "metadata": {
    "collapsed": false,
    "ExecuteTime": {
     "end_time": "2024-12-14T09:22:34.534545Z",
     "start_time": "2024-12-14T09:22:34.530513Z"
    }
   }
  },
  {
   "cell_type": "markdown",
   "source": [
    "Как видно, GP выдает результаты лучше, чем RandomSearch, зато работает на каждом датасете в среднем в 2 раза дольше. То есть GP более эффективен для оптимизации гиперпараметров. На более маленьких датасетах (например Breast Cancer Wisconsin) результаты GP и RandomSearch почти одинаковые, а вот на более больших датасетах разница становится уже существенной.\n",
    "Актуально использовать GP, когда требуется высокая точность и есть вычислительные мощности, RandomSearch подходит, если данных не слишком много + если требуется высокая скорость"
   ],
   "metadata": {
    "collapsed": false
   }
  },
  {
   "cell_type": "markdown",
   "source": [
    "Дополнительно: поэкспериментируйте с критериями подбора следующей точки (лекция 3) и ядрами, а также с самими критериями качества (есть ли отличие в эффективности gaussian process для разных критериев)"
   ],
   "metadata": {
    "collapsed": false
   }
  },
  {
   "cell_type": "code",
   "execution_count": 38,
   "outputs": [],
   "source": [
    "from sklearn.metrics import accuracy_score, f1_score, roc_auc_score, make_scorer\n",
    "from skopt.learning.gaussian_process.kernels import RBF, Matern, DotProduct\n",
    "import seaborn as sns\n",
    "import matplotlib.pyplot as plt"
   ],
   "metadata": {
    "collapsed": false,
    "ExecuteTime": {
     "end_time": "2024-12-14T09:33:18.358190Z",
     "start_time": "2024-12-14T09:33:18.044541Z"
    }
   }
  },
  {
   "cell_type": "code",
   "execution_count": 50,
   "outputs": [],
   "source": [
    "# грузим датасеты\n",
    "def load_spambase():\n",
    "    url = \"https://archive.ics.uci.edu/ml/machine-learning-databases/spambase/spambase.data\"\n",
    "    response = requests.get(url, verify=False)\n",
    "    spambase = pd.read_csv(StringIO(response.text), header=None)\n",
    "    X = spambase.iloc[:, :-1]\n",
    "    y = spambase.iloc[:, -1]\n",
    "    y = y.dropna()  # Удаляем строки с NaN в целевой переменной\n",
    "    X = X.loc[y.index]  # Удаляем соответствующие строки в X\n",
    "    return X, y\n",
    "\n",
    "\n",
    "def load_arrhythmia():\n",
    "    url = \"https://archive.ics.uci.edu/ml/machine-learning-databases/arrhythmia/arrhythmia.data\"\n",
    "    response = requests.get(url, verify=False)\n",
    "    arrhythmia = pd.read_csv(StringIO(response.text), header=None, na_values=\"?\")\n",
    "    arrhythmia.fillna(arrhythmia.mean(), inplace=True)\n",
    "    X = arrhythmia.iloc[:, :-1]\n",
    "    y = arrhythmia.iloc[:, -1]\n",
    "    y = y.dropna()  # Удаляем строки с NaN в целевой переменной\n",
    "    X = X.loc[y.index]  # Удаляем соответствующие строки в X\n",
    "    return X, y\n",
    "\n",
    "\n",
    "def load_breast_cancer_wisconsin():\n",
    "    url = \"https://archive.ics.uci.edu/ml/machine-learning-databases/breast-cancer-wisconsin/wdbc.data\"\n",
    "    response = requests.get(url, verify=False)\n",
    "    df = pd.read_csv(StringIO(response.text), header=None)\n",
    "    X = df.iloc[:, 2:]\n",
    "    y = df.iloc[:, 1]\n",
    "    y = y.dropna()  # Удаляем строки с NaN в целевой переменной\n",
    "    X = X.loc[y.index]  # Удаляем соответствующие строки в X\n",
    "    return X, y"
   ],
   "metadata": {
    "collapsed": false,
    "ExecuteTime": {
     "end_time": "2024-12-14T10:17:38.564038Z",
     "start_time": "2024-12-14T10:17:38.555911Z"
    }
   }
  },
  {
   "cell_type": "code",
   "execution_count": 51,
   "outputs": [],
   "source": [
    "from sklearn.gaussian_process import GaussianProcessRegressor\n",
    "\n",
    "\n",
    "# Функция для экспериментов с GPO\n",
    "# она будет запускать оптимизацию GP с разными параметрами: разные критерии подбора след точки (criterion)\n",
    "# разные kernel, а также смотрим разные метрики\n",
    "def experiment_with_gp(X_train, y_train, criterion, kernel, scoring_metric):\n",
    "    # Определяем функцию оценки модели\n",
    "    def evaluate_model(params):\n",
    "        n_estimators, max_depth, min_samples_leaf = params\n",
    "        model = RandomForestClassifier(\n",
    "            n_estimators=int(n_estimators),\n",
    "            max_depth=int(max_depth),\n",
    "            min_samples_leaf=int(min_samples_leaf),\n",
    "            random_state=42\n",
    "        )\n",
    "        scorer = make_scorer(scoring_metric, needs_proba=True if scoring_metric == roc_auc_score else False)\n",
    "        return -np.mean(cross_val_score(model, X_train, y_train, cv=3, scoring=scorer))\n",
    "\n",
    "    # пространство гиперпараметров\n",
    "    space = [\n",
    "        Integer(10, 200, name='n_estimators'),\n",
    "        Integer(2, 20, name='max_depth'),\n",
    "        Integer(1, 10, name='min_samples_leaf')\n",
    "    ]\n",
    "    gp = GaussianProcessRegressor(kernel=kernel, random_state=42)\n",
    "    # запускаем  Gaussian Process Optimization\n",
    "    start_time = time.time()\n",
    "    result_gp = gp_minimize(\n",
    "        evaluate_model,\n",
    "        dimensions=space,\n",
    "        acq_func=criterion,  # 'EI', 'PI', 'LCB'\n",
    "        base_estimator=None,\n",
    "        n_calls=50,\n",
    "        random_state=42\n",
    "    )\n",
    "    gp_time = time.time() - start_time\n",
    "\n",
    "    return {\n",
    "        \"Best GP Parameters\": result_gp.x,\n",
    "        \"Best GP Score\": -result_gp.fun,\n",
    "        \"GP Time\": gp_time,\n",
    "        \"Criterion\": criterion,\n",
    "        \"Kernel\": str(kernel),\n",
    "        \"Scoring Metric\": scoring_metric.__name__\n",
    "    }"
   ],
   "metadata": {
    "collapsed": false,
    "ExecuteTime": {
     "end_time": "2024-12-14T10:17:41.936900Z",
     "start_time": "2024-12-14T10:17:41.929771Z"
    }
   }
  },
  {
   "cell_type": "code",
   "execution_count": 52,
   "outputs": [],
   "source": [
    "# Список функций загрузки датасетов\n",
    "datasets = {\n",
    "    \"Spambase\": load_spambase,\n",
    "    \"Arrhythmia\": load_arrhythmia,\n",
    "    \"Breast Cancer Wisconsin\": load_breast_cancer_wisconsin\n",
    "}\n",
    "\n",
    "# Список критериев подбора точки\n",
    "c = ['EI', 'PI', 'LCB']\n",
    "\n",
    "# Список ядер\n",
    "kernels = [RBF(), Matern(), DotProduct()]\n",
    "\n",
    "# Метрики качества\n",
    "metrics = [accuracy_score, f1_score, roc_auc_score]\n",
    "\n",
    "# Сохраняем результаты\n",
    "results = []"
   ],
   "metadata": {
    "collapsed": false,
    "ExecuteTime": {
     "end_time": "2024-12-14T10:17:44.033444Z",
     "start_time": "2024-12-14T10:17:44.024490Z"
    }
   }
  },
  {
   "cell_type": "code",
   "execution_count": 54,
   "outputs": [
    {
     "name": "stdout",
     "output_type": "stream",
     "text": [
      "Processing dataset: Spambase\n",
      "Processing dataset: Arrhythmia\n"
     ]
    },
    {
     "ename": "ValueError",
     "evalue": "Input y contains NaN.",
     "output_type": "error",
     "traceback": [
      "\u001B[0;31m---------------------------------------------------------------------------\u001B[0m",
      "\u001B[0;31mValueError\u001B[0m                                Traceback (most recent call last)",
      "Cell \u001B[0;32mIn[54], line 14\u001B[0m\n\u001B[1;32m     12\u001B[0m \u001B[38;5;28;01mfor\u001B[39;00m kernel \u001B[38;5;129;01min\u001B[39;00m kernels:\n\u001B[1;32m     13\u001B[0m     \u001B[38;5;28;01mfor\u001B[39;00m metric \u001B[38;5;129;01min\u001B[39;00m metrics:\n\u001B[0;32m---> 14\u001B[0m         result \u001B[38;5;241m=\u001B[39m experiment_with_gp(X_train, y_train, criterion, kernel, metric)\n\u001B[1;32m     15\u001B[0m         result[\u001B[38;5;124m\"\u001B[39m\u001B[38;5;124mDataset\u001B[39m\u001B[38;5;124m\"\u001B[39m] \u001B[38;5;241m=\u001B[39m name\n\u001B[1;32m     16\u001B[0m         results\u001B[38;5;241m.\u001B[39mappend(result)\n",
      "Cell \u001B[0;32mIn[51], line 30\u001B[0m, in \u001B[0;36mexperiment_with_gp\u001B[0;34m(X_train, y_train, criterion, kernel, scoring_metric)\u001B[0m\n\u001B[1;32m     28\u001B[0m \u001B[38;5;66;03m# запускаем  Gaussian Process Optimization\u001B[39;00m\n\u001B[1;32m     29\u001B[0m start_time \u001B[38;5;241m=\u001B[39m time\u001B[38;5;241m.\u001B[39mtime()\n\u001B[0;32m---> 30\u001B[0m result_gp \u001B[38;5;241m=\u001B[39m gp_minimize(\n\u001B[1;32m     31\u001B[0m     evaluate_model,\n\u001B[1;32m     32\u001B[0m     dimensions\u001B[38;5;241m=\u001B[39mspace,\n\u001B[1;32m     33\u001B[0m     acq_func\u001B[38;5;241m=\u001B[39mcriterion,  \u001B[38;5;66;03m# 'EI', 'PI', 'LCB'\u001B[39;00m\n\u001B[1;32m     34\u001B[0m     base_estimator\u001B[38;5;241m=\u001B[39m\u001B[38;5;28;01mNone\u001B[39;00m,\n\u001B[1;32m     35\u001B[0m     n_calls\u001B[38;5;241m=\u001B[39m\u001B[38;5;241m50\u001B[39m,\n\u001B[1;32m     36\u001B[0m     random_state\u001B[38;5;241m=\u001B[39m\u001B[38;5;241m42\u001B[39m\n\u001B[1;32m     37\u001B[0m )\n\u001B[1;32m     38\u001B[0m gp_time \u001B[38;5;241m=\u001B[39m time\u001B[38;5;241m.\u001B[39mtime() \u001B[38;5;241m-\u001B[39m start_time\n\u001B[1;32m     40\u001B[0m \u001B[38;5;28;01mreturn\u001B[39;00m {\n\u001B[1;32m     41\u001B[0m     \u001B[38;5;124m\"\u001B[39m\u001B[38;5;124mBest GP Parameters\u001B[39m\u001B[38;5;124m\"\u001B[39m: result_gp\u001B[38;5;241m.\u001B[39mx,\n\u001B[1;32m     42\u001B[0m     \u001B[38;5;124m\"\u001B[39m\u001B[38;5;124mBest GP Score\u001B[39m\u001B[38;5;124m\"\u001B[39m: \u001B[38;5;241m-\u001B[39mresult_gp\u001B[38;5;241m.\u001B[39mfun,\n\u001B[0;32m   (...)\u001B[0m\n\u001B[1;32m     46\u001B[0m     \u001B[38;5;124m\"\u001B[39m\u001B[38;5;124mScoring Metric\u001B[39m\u001B[38;5;124m\"\u001B[39m: scoring_metric\u001B[38;5;241m.\u001B[39m\u001B[38;5;18m__name__\u001B[39m\n\u001B[1;32m     47\u001B[0m }\n",
      "File \u001B[0;32m~/anaconda3/lib/python3.11/site-packages/skopt/optimizer/gp.py:281\u001B[0m, in \u001B[0;36mgp_minimize\u001B[0;34m(func, dimensions, base_estimator, n_calls, n_random_starts, n_initial_points, initial_point_generator, acq_func, acq_optimizer, x0, y0, random_state, verbose, callback, n_points, n_restarts_optimizer, xi, kappa, noise, n_jobs, model_queue_size, space_constraint)\u001B[0m\n\u001B[1;32m    273\u001B[0m \u001B[38;5;28;01mif\u001B[39;00m base_estimator \u001B[38;5;129;01mis\u001B[39;00m \u001B[38;5;28;01mNone\u001B[39;00m:\n\u001B[1;32m    274\u001B[0m     base_estimator \u001B[38;5;241m=\u001B[39m cook_estimator(\n\u001B[1;32m    275\u001B[0m         \u001B[38;5;124m\"\u001B[39m\u001B[38;5;124mGP\u001B[39m\u001B[38;5;124m\"\u001B[39m,\n\u001B[1;32m    276\u001B[0m         space\u001B[38;5;241m=\u001B[39mspace,\n\u001B[1;32m    277\u001B[0m         random_state\u001B[38;5;241m=\u001B[39mrng\u001B[38;5;241m.\u001B[39mrandint(\u001B[38;5;241m0\u001B[39m, np\u001B[38;5;241m.\u001B[39miinfo(np\u001B[38;5;241m.\u001B[39mint32)\u001B[38;5;241m.\u001B[39mmax),\n\u001B[1;32m    278\u001B[0m         noise\u001B[38;5;241m=\u001B[39mnoise,\n\u001B[1;32m    279\u001B[0m     )\n\u001B[0;32m--> 281\u001B[0m \u001B[38;5;28;01mreturn\u001B[39;00m base_minimize(\n\u001B[1;32m    282\u001B[0m     func,\n\u001B[1;32m    283\u001B[0m     space,\n\u001B[1;32m    284\u001B[0m     base_estimator\u001B[38;5;241m=\u001B[39mbase_estimator,\n\u001B[1;32m    285\u001B[0m     acq_func\u001B[38;5;241m=\u001B[39macq_func,\n\u001B[1;32m    286\u001B[0m     xi\u001B[38;5;241m=\u001B[39mxi,\n\u001B[1;32m    287\u001B[0m     kappa\u001B[38;5;241m=\u001B[39mkappa,\n\u001B[1;32m    288\u001B[0m     acq_optimizer\u001B[38;5;241m=\u001B[39macq_optimizer,\n\u001B[1;32m    289\u001B[0m     n_calls\u001B[38;5;241m=\u001B[39mn_calls,\n\u001B[1;32m    290\u001B[0m     n_points\u001B[38;5;241m=\u001B[39mn_points,\n\u001B[1;32m    291\u001B[0m     n_random_starts\u001B[38;5;241m=\u001B[39mn_random_starts,\n\u001B[1;32m    292\u001B[0m     n_initial_points\u001B[38;5;241m=\u001B[39mn_initial_points,\n\u001B[1;32m    293\u001B[0m     initial_point_generator\u001B[38;5;241m=\u001B[39minitial_point_generator,\n\u001B[1;32m    294\u001B[0m     n_restarts_optimizer\u001B[38;5;241m=\u001B[39mn_restarts_optimizer,\n\u001B[1;32m    295\u001B[0m     x0\u001B[38;5;241m=\u001B[39mx0,\n\u001B[1;32m    296\u001B[0m     y0\u001B[38;5;241m=\u001B[39my0,\n\u001B[1;32m    297\u001B[0m     random_state\u001B[38;5;241m=\u001B[39mrng,\n\u001B[1;32m    298\u001B[0m     verbose\u001B[38;5;241m=\u001B[39mverbose,\n\u001B[1;32m    299\u001B[0m     space_constraint\u001B[38;5;241m=\u001B[39mspace_constraint,\n\u001B[1;32m    300\u001B[0m     callback\u001B[38;5;241m=\u001B[39mcallback,\n\u001B[1;32m    301\u001B[0m     n_jobs\u001B[38;5;241m=\u001B[39mn_jobs,\n\u001B[1;32m    302\u001B[0m     model_queue_size\u001B[38;5;241m=\u001B[39mmodel_queue_size,\n\u001B[1;32m    303\u001B[0m )\n",
      "File \u001B[0;32m~/anaconda3/lib/python3.11/site-packages/skopt/optimizer/base.py:333\u001B[0m, in \u001B[0;36mbase_minimize\u001B[0;34m(func, dimensions, base_estimator, n_calls, n_random_starts, n_initial_points, initial_point_generator, acq_func, acq_optimizer, x0, y0, random_state, verbose, callback, n_points, n_restarts_optimizer, xi, kappa, n_jobs, model_queue_size, space_constraint)\u001B[0m\n\u001B[1;32m    331\u001B[0m next_x \u001B[38;5;241m=\u001B[39m optimizer\u001B[38;5;241m.\u001B[39mask()\n\u001B[1;32m    332\u001B[0m next_y \u001B[38;5;241m=\u001B[39m func(next_x)\n\u001B[0;32m--> 333\u001B[0m result \u001B[38;5;241m=\u001B[39m optimizer\u001B[38;5;241m.\u001B[39mtell(next_x, next_y)\n\u001B[1;32m    334\u001B[0m result\u001B[38;5;241m.\u001B[39mspecs \u001B[38;5;241m=\u001B[39m specs\n\u001B[1;32m    335\u001B[0m \u001B[38;5;28;01mif\u001B[39;00m eval_callbacks(callbacks, result):\n",
      "File \u001B[0;32m~/anaconda3/lib/python3.11/site-packages/skopt/optimizer/optimizer.py:570\u001B[0m, in \u001B[0;36mOptimizer.tell\u001B[0;34m(self, x, y, fit)\u001B[0m\n\u001B[1;32m    567\u001B[0m         y \u001B[38;5;241m=\u001B[39m \u001B[38;5;28mlist\u001B[39m(y)\n\u001B[1;32m    568\u001B[0m         y[\u001B[38;5;241m1\u001B[39m] \u001B[38;5;241m=\u001B[39m log(y[\u001B[38;5;241m1\u001B[39m])\n\u001B[0;32m--> 570\u001B[0m \u001B[38;5;28;01mreturn\u001B[39;00m \u001B[38;5;28mself\u001B[39m\u001B[38;5;241m.\u001B[39m_tell(x, y, fit\u001B[38;5;241m=\u001B[39mfit)\n",
      "File \u001B[0;32m~/anaconda3/lib/python3.11/site-packages/skopt/optimizer/optimizer.py:615\u001B[0m, in \u001B[0;36mOptimizer._tell\u001B[0;34m(self, x, y, fit)\u001B[0m\n\u001B[1;32m    613\u001B[0m \u001B[38;5;28;01mwith\u001B[39;00m warnings\u001B[38;5;241m.\u001B[39mcatch_warnings():\n\u001B[1;32m    614\u001B[0m     warnings\u001B[38;5;241m.\u001B[39msimplefilter(\u001B[38;5;124m\"\u001B[39m\u001B[38;5;124mignore\u001B[39m\u001B[38;5;124m\"\u001B[39m)\n\u001B[0;32m--> 615\u001B[0m     est\u001B[38;5;241m.\u001B[39mfit(\u001B[38;5;28mself\u001B[39m\u001B[38;5;241m.\u001B[39mspace\u001B[38;5;241m.\u001B[39mtransform(\u001B[38;5;28mself\u001B[39m\u001B[38;5;241m.\u001B[39mXi), \u001B[38;5;28mself\u001B[39m\u001B[38;5;241m.\u001B[39myi)\n\u001B[1;32m    617\u001B[0m \u001B[38;5;28;01mif\u001B[39;00m \u001B[38;5;28mhasattr\u001B[39m(\u001B[38;5;28mself\u001B[39m, \u001B[38;5;124m\"\u001B[39m\u001B[38;5;124mnext_xs_\u001B[39m\u001B[38;5;124m\"\u001B[39m) \u001B[38;5;129;01mand\u001B[39;00m \u001B[38;5;28mself\u001B[39m\u001B[38;5;241m.\u001B[39macq_func \u001B[38;5;241m==\u001B[39m \u001B[38;5;124m\"\u001B[39m\u001B[38;5;124mgp_hedge\u001B[39m\u001B[38;5;124m\"\u001B[39m:\n\u001B[1;32m    618\u001B[0m     \u001B[38;5;28mself\u001B[39m\u001B[38;5;241m.\u001B[39mgains_ \u001B[38;5;241m-\u001B[39m\u001B[38;5;241m=\u001B[39m est\u001B[38;5;241m.\u001B[39mpredict(np\u001B[38;5;241m.\u001B[39mvstack(\u001B[38;5;28mself\u001B[39m\u001B[38;5;241m.\u001B[39mnext_xs_))\n",
      "File \u001B[0;32m~/anaconda3/lib/python3.11/site-packages/skopt/learning/gaussian_process/gpr.py:203\u001B[0m, in \u001B[0;36mGaussianProcessRegressor.fit\u001B[0;34m(self, X, y)\u001B[0m\n\u001B[1;32m    199\u001B[0m     \u001B[38;5;28;01melif\u001B[39;00m \u001B[38;5;28mself\u001B[39m\u001B[38;5;241m.\u001B[39mnoise:\n\u001B[1;32m    200\u001B[0m         \u001B[38;5;28mself\u001B[39m\u001B[38;5;241m.\u001B[39mkernel \u001B[38;5;241m=\u001B[39m \u001B[38;5;28mself\u001B[39m\u001B[38;5;241m.\u001B[39mkernel \u001B[38;5;241m+\u001B[39m WhiteKernel(\n\u001B[1;32m    201\u001B[0m             noise_level\u001B[38;5;241m=\u001B[39m\u001B[38;5;28mself\u001B[39m\u001B[38;5;241m.\u001B[39mnoise, noise_level_bounds\u001B[38;5;241m=\u001B[39m\u001B[38;5;124m\"\u001B[39m\u001B[38;5;124mfixed\u001B[39m\u001B[38;5;124m\"\u001B[39m\n\u001B[1;32m    202\u001B[0m         )\n\u001B[0;32m--> 203\u001B[0m \u001B[38;5;28msuper\u001B[39m()\u001B[38;5;241m.\u001B[39mfit(X, y)\n\u001B[1;32m    205\u001B[0m \u001B[38;5;28mself\u001B[39m\u001B[38;5;241m.\u001B[39mnoise_ \u001B[38;5;241m=\u001B[39m \u001B[38;5;28;01mNone\u001B[39;00m\n\u001B[1;32m    207\u001B[0m \u001B[38;5;28;01mif\u001B[39;00m \u001B[38;5;28mself\u001B[39m\u001B[38;5;241m.\u001B[39mnoise:\n\u001B[1;32m    208\u001B[0m     \u001B[38;5;66;03m# The noise component of this kernel should be set to zero\u001B[39;00m\n\u001B[1;32m    209\u001B[0m     \u001B[38;5;66;03m# while estimating K(X_test, X_test)\u001B[39;00m\n\u001B[0;32m   (...)\u001B[0m\n\u001B[1;32m    214\u001B[0m     \u001B[38;5;66;03m# http://www.gaussianprocess.org/gpml/chapters/RW2.pdf\u001B[39;00m\n\u001B[1;32m    215\u001B[0m     \u001B[38;5;66;03m# Hence this hack\u001B[39;00m\n",
      "File \u001B[0;32m~/anaconda3/lib/python3.11/site-packages/sklearn/base.py:1474\u001B[0m, in \u001B[0;36m_fit_context.<locals>.decorator.<locals>.wrapper\u001B[0;34m(estimator, *args, **kwargs)\u001B[0m\n\u001B[1;32m   1467\u001B[0m     estimator\u001B[38;5;241m.\u001B[39m_validate_params()\n\u001B[1;32m   1469\u001B[0m \u001B[38;5;28;01mwith\u001B[39;00m config_context(\n\u001B[1;32m   1470\u001B[0m     skip_parameter_validation\u001B[38;5;241m=\u001B[39m(\n\u001B[1;32m   1471\u001B[0m         prefer_skip_nested_validation \u001B[38;5;129;01mor\u001B[39;00m global_skip_validation\n\u001B[1;32m   1472\u001B[0m     )\n\u001B[1;32m   1473\u001B[0m ):\n\u001B[0;32m-> 1474\u001B[0m     \u001B[38;5;28;01mreturn\u001B[39;00m fit_method(estimator, \u001B[38;5;241m*\u001B[39margs, \u001B[38;5;241m*\u001B[39m\u001B[38;5;241m*\u001B[39mkwargs)\n",
      "File \u001B[0;32m~/anaconda3/lib/python3.11/site-packages/sklearn/gaussian_process/_gpr.py:251\u001B[0m, in \u001B[0;36mGaussianProcessRegressor.fit\u001B[0;34m(self, X, y)\u001B[0m\n\u001B[1;32m    249\u001B[0m \u001B[38;5;28;01melse\u001B[39;00m:\n\u001B[1;32m    250\u001B[0m     dtype, ensure_2d \u001B[38;5;241m=\u001B[39m \u001B[38;5;28;01mNone\u001B[39;00m, \u001B[38;5;28;01mFalse\u001B[39;00m\n\u001B[0;32m--> 251\u001B[0m X, y \u001B[38;5;241m=\u001B[39m \u001B[38;5;28mself\u001B[39m\u001B[38;5;241m.\u001B[39m_validate_data(\n\u001B[1;32m    252\u001B[0m     X,\n\u001B[1;32m    253\u001B[0m     y,\n\u001B[1;32m    254\u001B[0m     multi_output\u001B[38;5;241m=\u001B[39m\u001B[38;5;28;01mTrue\u001B[39;00m,\n\u001B[1;32m    255\u001B[0m     y_numeric\u001B[38;5;241m=\u001B[39m\u001B[38;5;28;01mTrue\u001B[39;00m,\n\u001B[1;32m    256\u001B[0m     ensure_2d\u001B[38;5;241m=\u001B[39mensure_2d,\n\u001B[1;32m    257\u001B[0m     dtype\u001B[38;5;241m=\u001B[39mdtype,\n\u001B[1;32m    258\u001B[0m )\n\u001B[1;32m    260\u001B[0m n_targets_seen \u001B[38;5;241m=\u001B[39m y\u001B[38;5;241m.\u001B[39mshape[\u001B[38;5;241m1\u001B[39m] \u001B[38;5;28;01mif\u001B[39;00m y\u001B[38;5;241m.\u001B[39mndim \u001B[38;5;241m>\u001B[39m \u001B[38;5;241m1\u001B[39m \u001B[38;5;28;01melse\u001B[39;00m \u001B[38;5;241m1\u001B[39m\n\u001B[1;32m    261\u001B[0m \u001B[38;5;28;01mif\u001B[39;00m \u001B[38;5;28mself\u001B[39m\u001B[38;5;241m.\u001B[39mn_targets \u001B[38;5;129;01mis\u001B[39;00m \u001B[38;5;129;01mnot\u001B[39;00m \u001B[38;5;28;01mNone\u001B[39;00m \u001B[38;5;129;01mand\u001B[39;00m n_targets_seen \u001B[38;5;241m!=\u001B[39m \u001B[38;5;28mself\u001B[39m\u001B[38;5;241m.\u001B[39mn_targets:\n",
      "File \u001B[0;32m~/anaconda3/lib/python3.11/site-packages/sklearn/base.py:650\u001B[0m, in \u001B[0;36mBaseEstimator._validate_data\u001B[0;34m(self, X, y, reset, validate_separately, cast_to_ndarray, **check_params)\u001B[0m\n\u001B[1;32m    648\u001B[0m         y \u001B[38;5;241m=\u001B[39m check_array(y, input_name\u001B[38;5;241m=\u001B[39m\u001B[38;5;124m\"\u001B[39m\u001B[38;5;124my\u001B[39m\u001B[38;5;124m\"\u001B[39m, \u001B[38;5;241m*\u001B[39m\u001B[38;5;241m*\u001B[39mcheck_y_params)\n\u001B[1;32m    649\u001B[0m     \u001B[38;5;28;01melse\u001B[39;00m:\n\u001B[0;32m--> 650\u001B[0m         X, y \u001B[38;5;241m=\u001B[39m check_X_y(X, y, \u001B[38;5;241m*\u001B[39m\u001B[38;5;241m*\u001B[39mcheck_params)\n\u001B[1;32m    651\u001B[0m     out \u001B[38;5;241m=\u001B[39m X, y\n\u001B[1;32m    653\u001B[0m \u001B[38;5;28;01mif\u001B[39;00m \u001B[38;5;129;01mnot\u001B[39;00m no_val_X \u001B[38;5;129;01mand\u001B[39;00m check_params\u001B[38;5;241m.\u001B[39mget(\u001B[38;5;124m\"\u001B[39m\u001B[38;5;124mensure_2d\u001B[39m\u001B[38;5;124m\"\u001B[39m, \u001B[38;5;28;01mTrue\u001B[39;00m):\n",
      "File \u001B[0;32m~/anaconda3/lib/python3.11/site-packages/sklearn/utils/validation.py:1279\u001B[0m, in \u001B[0;36mcheck_X_y\u001B[0;34m(X, y, accept_sparse, accept_large_sparse, dtype, order, copy, force_all_finite, ensure_2d, allow_nd, multi_output, ensure_min_samples, ensure_min_features, y_numeric, estimator)\u001B[0m\n\u001B[1;32m   1259\u001B[0m     \u001B[38;5;28;01mraise\u001B[39;00m \u001B[38;5;167;01mValueError\u001B[39;00m(\n\u001B[1;32m   1260\u001B[0m         \u001B[38;5;124mf\u001B[39m\u001B[38;5;124m\"\u001B[39m\u001B[38;5;132;01m{\u001B[39;00mestimator_name\u001B[38;5;132;01m}\u001B[39;00m\u001B[38;5;124m requires y to be passed, but the target y is None\u001B[39m\u001B[38;5;124m\"\u001B[39m\n\u001B[1;32m   1261\u001B[0m     )\n\u001B[1;32m   1263\u001B[0m X \u001B[38;5;241m=\u001B[39m check_array(\n\u001B[1;32m   1264\u001B[0m     X,\n\u001B[1;32m   1265\u001B[0m     accept_sparse\u001B[38;5;241m=\u001B[39maccept_sparse,\n\u001B[0;32m   (...)\u001B[0m\n\u001B[1;32m   1276\u001B[0m     input_name\u001B[38;5;241m=\u001B[39m\u001B[38;5;124m\"\u001B[39m\u001B[38;5;124mX\u001B[39m\u001B[38;5;124m\"\u001B[39m,\n\u001B[1;32m   1277\u001B[0m )\n\u001B[0;32m-> 1279\u001B[0m y \u001B[38;5;241m=\u001B[39m _check_y(y, multi_output\u001B[38;5;241m=\u001B[39mmulti_output, y_numeric\u001B[38;5;241m=\u001B[39my_numeric, estimator\u001B[38;5;241m=\u001B[39mestimator)\n\u001B[1;32m   1281\u001B[0m check_consistent_length(X, y)\n\u001B[1;32m   1283\u001B[0m \u001B[38;5;28;01mreturn\u001B[39;00m X, y\n",
      "File \u001B[0;32m~/anaconda3/lib/python3.11/site-packages/sklearn/utils/validation.py:1289\u001B[0m, in \u001B[0;36m_check_y\u001B[0;34m(y, multi_output, y_numeric, estimator)\u001B[0m\n\u001B[1;32m   1287\u001B[0m \u001B[38;5;250m\u001B[39m\u001B[38;5;124;03m\"\"\"Isolated part of check_X_y dedicated to y validation\"\"\"\u001B[39;00m\n\u001B[1;32m   1288\u001B[0m \u001B[38;5;28;01mif\u001B[39;00m multi_output:\n\u001B[0;32m-> 1289\u001B[0m     y \u001B[38;5;241m=\u001B[39m check_array(\n\u001B[1;32m   1290\u001B[0m         y,\n\u001B[1;32m   1291\u001B[0m         accept_sparse\u001B[38;5;241m=\u001B[39m\u001B[38;5;124m\"\u001B[39m\u001B[38;5;124mcsr\u001B[39m\u001B[38;5;124m\"\u001B[39m,\n\u001B[1;32m   1292\u001B[0m         force_all_finite\u001B[38;5;241m=\u001B[39m\u001B[38;5;28;01mTrue\u001B[39;00m,\n\u001B[1;32m   1293\u001B[0m         ensure_2d\u001B[38;5;241m=\u001B[39m\u001B[38;5;28;01mFalse\u001B[39;00m,\n\u001B[1;32m   1294\u001B[0m         dtype\u001B[38;5;241m=\u001B[39m\u001B[38;5;28;01mNone\u001B[39;00m,\n\u001B[1;32m   1295\u001B[0m         input_name\u001B[38;5;241m=\u001B[39m\u001B[38;5;124m\"\u001B[39m\u001B[38;5;124my\u001B[39m\u001B[38;5;124m\"\u001B[39m,\n\u001B[1;32m   1296\u001B[0m         estimator\u001B[38;5;241m=\u001B[39mestimator,\n\u001B[1;32m   1297\u001B[0m     )\n\u001B[1;32m   1298\u001B[0m \u001B[38;5;28;01melse\u001B[39;00m:\n\u001B[1;32m   1299\u001B[0m     estimator_name \u001B[38;5;241m=\u001B[39m _check_estimator_name(estimator)\n",
      "File \u001B[0;32m~/anaconda3/lib/python3.11/site-packages/sklearn/utils/validation.py:1049\u001B[0m, in \u001B[0;36mcheck_array\u001B[0;34m(array, accept_sparse, accept_large_sparse, dtype, order, copy, force_all_finite, ensure_2d, allow_nd, ensure_min_samples, ensure_min_features, estimator, input_name)\u001B[0m\n\u001B[1;32m   1043\u001B[0m     \u001B[38;5;28;01mraise\u001B[39;00m \u001B[38;5;167;01mValueError\u001B[39;00m(\n\u001B[1;32m   1044\u001B[0m         \u001B[38;5;124m\"\u001B[39m\u001B[38;5;124mFound array with dim \u001B[39m\u001B[38;5;132;01m%d\u001B[39;00m\u001B[38;5;124m. \u001B[39m\u001B[38;5;132;01m%s\u001B[39;00m\u001B[38;5;124m expected <= 2.\u001B[39m\u001B[38;5;124m\"\u001B[39m\n\u001B[1;32m   1045\u001B[0m         \u001B[38;5;241m%\u001B[39m (array\u001B[38;5;241m.\u001B[39mndim, estimator_name)\n\u001B[1;32m   1046\u001B[0m     )\n\u001B[1;32m   1048\u001B[0m \u001B[38;5;28;01mif\u001B[39;00m force_all_finite:\n\u001B[0;32m-> 1049\u001B[0m     _assert_all_finite(\n\u001B[1;32m   1050\u001B[0m         array,\n\u001B[1;32m   1051\u001B[0m         input_name\u001B[38;5;241m=\u001B[39minput_name,\n\u001B[1;32m   1052\u001B[0m         estimator_name\u001B[38;5;241m=\u001B[39mestimator_name,\n\u001B[1;32m   1053\u001B[0m         allow_nan\u001B[38;5;241m=\u001B[39mforce_all_finite \u001B[38;5;241m==\u001B[39m \u001B[38;5;124m\"\u001B[39m\u001B[38;5;124mallow-nan\u001B[39m\u001B[38;5;124m\"\u001B[39m,\n\u001B[1;32m   1054\u001B[0m     )\n\u001B[1;32m   1056\u001B[0m \u001B[38;5;28;01mif\u001B[39;00m copy:\n\u001B[1;32m   1057\u001B[0m     \u001B[38;5;28;01mif\u001B[39;00m _is_numpy_namespace(xp):\n\u001B[1;32m   1058\u001B[0m         \u001B[38;5;66;03m# only make a copy if `array` and `array_orig` may share memory`\u001B[39;00m\n",
      "File \u001B[0;32m~/anaconda3/lib/python3.11/site-packages/sklearn/utils/validation.py:126\u001B[0m, in \u001B[0;36m_assert_all_finite\u001B[0;34m(X, allow_nan, msg_dtype, estimator_name, input_name)\u001B[0m\n\u001B[1;32m    123\u001B[0m \u001B[38;5;28;01mif\u001B[39;00m first_pass_isfinite:\n\u001B[1;32m    124\u001B[0m     \u001B[38;5;28;01mreturn\u001B[39;00m\n\u001B[0;32m--> 126\u001B[0m _assert_all_finite_element_wise(\n\u001B[1;32m    127\u001B[0m     X,\n\u001B[1;32m    128\u001B[0m     xp\u001B[38;5;241m=\u001B[39mxp,\n\u001B[1;32m    129\u001B[0m     allow_nan\u001B[38;5;241m=\u001B[39mallow_nan,\n\u001B[1;32m    130\u001B[0m     msg_dtype\u001B[38;5;241m=\u001B[39mmsg_dtype,\n\u001B[1;32m    131\u001B[0m     estimator_name\u001B[38;5;241m=\u001B[39mestimator_name,\n\u001B[1;32m    132\u001B[0m     input_name\u001B[38;5;241m=\u001B[39minput_name,\n\u001B[1;32m    133\u001B[0m )\n",
      "File \u001B[0;32m~/anaconda3/lib/python3.11/site-packages/sklearn/utils/validation.py:175\u001B[0m, in \u001B[0;36m_assert_all_finite_element_wise\u001B[0;34m(X, xp, allow_nan, msg_dtype, estimator_name, input_name)\u001B[0m\n\u001B[1;32m    158\u001B[0m \u001B[38;5;28;01mif\u001B[39;00m estimator_name \u001B[38;5;129;01mand\u001B[39;00m input_name \u001B[38;5;241m==\u001B[39m \u001B[38;5;124m\"\u001B[39m\u001B[38;5;124mX\u001B[39m\u001B[38;5;124m\"\u001B[39m \u001B[38;5;129;01mand\u001B[39;00m has_nan_error:\n\u001B[1;32m    159\u001B[0m     \u001B[38;5;66;03m# Improve the error message on how to handle missing values in\u001B[39;00m\n\u001B[1;32m    160\u001B[0m     \u001B[38;5;66;03m# scikit-learn.\u001B[39;00m\n\u001B[1;32m    161\u001B[0m     msg_err \u001B[38;5;241m+\u001B[39m\u001B[38;5;241m=\u001B[39m (\n\u001B[1;32m    162\u001B[0m         \u001B[38;5;124mf\u001B[39m\u001B[38;5;124m\"\u001B[39m\u001B[38;5;130;01m\\n\u001B[39;00m\u001B[38;5;132;01m{\u001B[39;00mestimator_name\u001B[38;5;132;01m}\u001B[39;00m\u001B[38;5;124m does not accept missing values\u001B[39m\u001B[38;5;124m\"\u001B[39m\n\u001B[1;32m    163\u001B[0m         \u001B[38;5;124m\"\u001B[39m\u001B[38;5;124m encoded as NaN natively. For supervised learning, you might want\u001B[39m\u001B[38;5;124m\"\u001B[39m\n\u001B[0;32m   (...)\u001B[0m\n\u001B[1;32m    173\u001B[0m         \u001B[38;5;124m\"\u001B[39m\u001B[38;5;124m#estimators-that-handle-nan-values\u001B[39m\u001B[38;5;124m\"\u001B[39m\n\u001B[1;32m    174\u001B[0m     )\n\u001B[0;32m--> 175\u001B[0m \u001B[38;5;28;01mraise\u001B[39;00m \u001B[38;5;167;01mValueError\u001B[39;00m(msg_err)\n",
      "\u001B[0;31mValueError\u001B[0m: Input y contains NaN."
     ]
    }
   ],
   "source": [
    "import warnings\n",
    "\n",
    "warnings.filterwarnings(\"ignore\")  # чтобы не захламлять вывод\n",
    "for name, load_function in datasets.items():\n",
    "    print(f\"Processing dataset: {name}\")\n",
    "    X, y = load_function()\n",
    "    scaler = StandardScaler()\n",
    "    X = scaler.fit_transform(X)\n",
    "    X_train, X_test, y_train, y_test = train_test_split(X, y, test_size=0.2, random_state=42)\n",
    "\n",
    "    for criterion in c:\n",
    "        for kernel in kernels:\n",
    "            for metric in metrics:\n",
    "                result = experiment_with_gp(X_train, y_train, criterion, kernel, metric)\n",
    "                result[\"Dataset\"] = name\n",
    "                results.append(result)"
   ],
   "metadata": {
    "collapsed": false,
    "ExecuteTime": {
     "end_time": "2024-12-14T10:36:42.131075Z",
     "start_time": "2024-12-14T10:18:45.673340Z"
    }
   }
  },
  {
   "cell_type": "markdown",
   "source": [
    "Сначала выведу результаты для Spambase, потом отдельно посмотрю 2 оставшихся датасета, хотя вообще я везде добавила удаление NaN значений"
   ],
   "metadata": {
    "collapsed": false
   }
  },
  {
   "cell_type": "code",
   "execution_count": 58,
   "outputs": [
    {
     "name": "stdout",
     "output_type": "stream",
     "text": [
      "   Best GP Parameters  Best GP Score    GP Time Criterion  \\\n",
      "0        [196, 19, 1]       0.948644  39.790772        EI   \n",
      "1        [200, 19, 1]       0.931473  42.148857        EI   \n",
      "2        [111, 19, 1]       0.984896  34.750708        EI   \n",
      "3        [196, 19, 1]       0.948644  40.256498        EI   \n",
      "4        [200, 19, 1]       0.931473  42.491195        EI   \n",
      "5        [111, 19, 1]       0.984896  35.136075        EI   \n",
      "6        [196, 19, 1]       0.948644  40.489586        EI   \n",
      "7        [200, 19, 1]       0.931473  42.433335        EI   \n",
      "8        [111, 19, 1]       0.984896  35.258723        EI   \n",
      "9        [196, 19, 1]       0.948644  41.863796        PI   \n",
      "10       [200, 19, 1]       0.931473  37.986253        PI   \n",
      "11       [111, 19, 1]       0.984896  35.000472        PI   \n",
      "12       [196, 19, 1]       0.948644  41.859312        PI   \n",
      "13       [200, 19, 1]       0.931473  38.201834        PI   \n",
      "14       [111, 19, 1]       0.984896  35.017424        PI   \n",
      "15       [196, 19, 1]       0.948644  42.173693        PI   \n",
      "16       [200, 19, 1]       0.931473  38.223663        PI   \n",
      "17       [111, 19, 1]       0.984896  35.241878        PI   \n",
      "18       [200, 19, 1]       0.947829  37.572897       LCB   \n",
      "19       [200, 19, 1]       0.931473  38.315627       LCB   \n",
      "20       [200, 19, 1]       0.984961  38.567665       LCB   \n",
      "21       [200, 19, 1]       0.947829  37.576643       LCB   \n",
      "22       [200, 19, 1]       0.931473  38.443013       LCB   \n",
      "23       [200, 19, 1]       0.984961  38.428057       LCB   \n",
      "24       [200, 19, 1]       0.947829  37.426217       LCB   \n",
      "25       [200, 19, 1]       0.931473  38.652894       LCB   \n",
      "26       [200, 19, 1]       0.984961  38.328754       LCB   \n",
      "27       [135, 17, 1]       0.728558  22.798145        EI   \n",
      "\n",
      "                            Kernel  Scoring Metric     Dataset  \n",
      "0              RBF(length_scale=1)  accuracy_score    Spambase  \n",
      "1              RBF(length_scale=1)        f1_score    Spambase  \n",
      "2              RBF(length_scale=1)   roc_auc_score    Spambase  \n",
      "3   Matern(length_scale=1, nu=1.5)  accuracy_score    Spambase  \n",
      "4   Matern(length_scale=1, nu=1.5)        f1_score    Spambase  \n",
      "5   Matern(length_scale=1, nu=1.5)   roc_auc_score    Spambase  \n",
      "6            DotProduct(sigma_0=1)  accuracy_score    Spambase  \n",
      "7            DotProduct(sigma_0=1)        f1_score    Spambase  \n",
      "8            DotProduct(sigma_0=1)   roc_auc_score    Spambase  \n",
      "9              RBF(length_scale=1)  accuracy_score    Spambase  \n",
      "10             RBF(length_scale=1)        f1_score    Spambase  \n",
      "11             RBF(length_scale=1)   roc_auc_score    Spambase  \n",
      "12  Matern(length_scale=1, nu=1.5)  accuracy_score    Spambase  \n",
      "13  Matern(length_scale=1, nu=1.5)        f1_score    Spambase  \n",
      "14  Matern(length_scale=1, nu=1.5)   roc_auc_score    Spambase  \n",
      "15           DotProduct(sigma_0=1)  accuracy_score    Spambase  \n",
      "16           DotProduct(sigma_0=1)        f1_score    Spambase  \n",
      "17           DotProduct(sigma_0=1)   roc_auc_score    Spambase  \n",
      "18             RBF(length_scale=1)  accuracy_score    Spambase  \n",
      "19             RBF(length_scale=1)        f1_score    Spambase  \n",
      "20             RBF(length_scale=1)   roc_auc_score    Spambase  \n",
      "21  Matern(length_scale=1, nu=1.5)  accuracy_score    Spambase  \n",
      "22  Matern(length_scale=1, nu=1.5)        f1_score    Spambase  \n",
      "23  Matern(length_scale=1, nu=1.5)   roc_auc_score    Spambase  \n",
      "24           DotProduct(sigma_0=1)  accuracy_score    Spambase  \n",
      "25           DotProduct(sigma_0=1)        f1_score    Spambase  \n",
      "26           DotProduct(sigma_0=1)   roc_auc_score    Spambase  \n",
      "27             RBF(length_scale=1)  accuracy_score  Arrhythmia  \n"
     ]
    }
   ],
   "source": [
    "# выводим результаты\n",
    "results_df = pd.DataFrame(results)\n",
    "print(results_df)"
   ],
   "metadata": {
    "collapsed": false,
    "ExecuteTime": {
     "end_time": "2024-12-14T10:41:20.641003Z",
     "start_time": "2024-12-14T10:41:20.637627Z"
    }
   }
  },
  {
   "cell_type": "code",
   "execution_count": 87,
   "outputs": [],
   "source": [
    "import requests\n",
    "from io import StringIO\n",
    "import pandas as pd\n",
    "import numpy as np\n",
    "def load_arrhythmia():\n",
    "    url = \"https://archive.ics.uci.edu/ml/machine-learning-databases/arrhythmia/arrhythmia.data\"\n",
    "    response = requests.get(url, verify=False)\n",
    "    arrhythmia = pd.read_csv(StringIO(response.text), header=None, na_values=\"?\")\n",
    "    # Последний столбец - целевая переменная\n",
    "    target_col = arrhythmia.columns[-1]\n",
    "    # Удаляем строки без значения целевого столбца\n",
    "    arrhythmia = arrhythmia.dropna(subset=[target_col])\n",
    "    # Преобразуем целевой столбец в int\n",
    "    arrhythmia[target_col] = pd.to_numeric(arrhythmia[target_col], errors='coerce')\n",
    "    arrhythmia = arrhythmia.dropna(subset=[target_col])\n",
    "    arrhythmia[target_col] = arrhythmia[target_col].astype(int)\n",
    "    X = arrhythmia.iloc[:, :-1]\n",
    "    y = arrhythmia.iloc[:, -1]\n",
    "    # Удаляем столбцы, полностью состоящие из NaN\n",
    "    X = X.dropna(axis=1, how='all')\n",
    "    # Заполняем пропуски в X средними значениями\n",
    "    X = X.fillna(X.mean())\n",
    "\n",
    "    # Проверяем ещё раз наличие NaN\n",
    "    if y.isna().any():\n",
    "        print(\"Warning: y still has NaN after cleaning!\")\n",
    "    if X.isna().sum().sum() > 0:\n",
    "        print(\"Warning: X still has NaN after cleaning!\")\n",
    "    return X, y"
   ],
   "metadata": {
    "collapsed": false,
    "ExecuteTime": {
     "end_time": "2024-12-14T11:23:23.351736Z",
     "start_time": "2024-12-14T11:23:23.348392Z"
    }
   }
  },
  {
   "cell_type": "code",
   "execution_count": 88,
   "outputs": [],
   "source": [
    "from sklearn.model_selection import StratifiedKFold\n",
    "\n",
    "# как и выше, только пришлось чуть переделать\n",
    "def experiment_with_gp(X_train, y_train, criterion, kernel, scoring_metric):\n",
    "    # проверки нужны, чтобы все ок работало, если многоклассовая классификация\n",
    "    if scoring_metric == roc_auc_score:\n",
    "        scorer = make_scorer(scoring_metric, needs_proba=True, multi_class='ovr')\n",
    "    elif scoring_metric == f1_score:\n",
    "        scorer = make_scorer(scoring_metric, average='macro')\n",
    "    else:\n",
    "        scorer = make_scorer(scoring_metric)\n",
    "\n",
    "    # Возьму стратифицированное разбиение, чтобы минимизировать риск пропадания классов\n",
    "    cv = StratifiedKFold(n_splits=3, shuffle=True, random_state=42)\n",
    "\n",
    "    def evaluate_model(params):\n",
    "        n_estimators, max_depth, min_samples_leaf = params\n",
    "        model = RandomForestClassifier(\n",
    "            n_estimators=int(n_estimators),\n",
    "            max_depth=int(max_depth),\n",
    "            min_samples_leaf=int(min_samples_leaf),\n",
    "            random_state=42\n",
    "        )\n",
    "        cv_scores = cross_val_score(model, X_train, y_train, cv=cv, scoring=scorer)\n",
    "        return -np.mean(cv_scores)\n",
    "\n",
    "    # пространство гиперпараметров\n",
    "    space = [\n",
    "        Integer(10, 200, name='n_estimators'),\n",
    "        Integer(2, 20, name='max_depth'),\n",
    "        Integer(1, 10, name='min_samples_leaf')\n",
    "    ]\n",
    "    gp = GaussianProcessRegressor(kernel=kernel, random_state=42)\n",
    "\n",
    "    start_time = time.time()\n",
    "    result_gp = gp_minimize(\n",
    "        evaluate_model,\n",
    "        dimensions=space,\n",
    "        acq_func=criterion,  # 'EI', 'PI', 'LCB'\n",
    "        base_estimator=None,\n",
    "        n_calls=50,\n",
    "        random_state=42\n",
    "    )\n",
    "    gp_time = time.time() - start_time\n",
    "\n",
    "    return {\n",
    "        \"Best GP Parameters\": result_gp.x,\n",
    "        \"Best GP Score\": -result_gp.fun,\n",
    "        \"GP Time\": gp_time,\n",
    "        \"Criterion\": criterion,\n",
    "        \"Kernel\": str(kernel),\n",
    "        \"Scoring Metric\": scoring_metric.__name__\n",
    "    }\n"
   ],
   "metadata": {
    "collapsed": false,
    "ExecuteTime": {
     "end_time": "2024-12-14T11:23:24.361082Z",
     "start_time": "2024-12-14T11:23:24.354112Z"
    }
   }
  },
  {
   "cell_type": "code",
   "execution_count": 91,
   "outputs": [
    {
     "name": "stdout",
     "output_type": "stream",
     "text": [
      "Processing dataset: Arrhythmia\n",
      "NaNs in y: 0\n"
     ]
    }
   ],
   "source": [
    "import warnings\n",
    "\n",
    "warnings.filterwarnings(\"ignore\")  # чтобы не захламлять вывод\n",
    "print(f\"Processing dataset: Arrhythmia\")\n",
    "X, y = load_arrhythmia()\n",
    "print(\"NaNs in y:\", y.isna().sum())  # надо было проверить, что нет NaN из-за неуходившей ValueError\n",
    "\n",
    "scaler = StandardScaler()\n",
    "X = scaler.fit_transform(X)\n",
    "X_train, X_test, y_train, y_test = train_test_split(X, y, stratify=y, test_size=0.2, random_state=42)\n",
    "\n",
    "c = ['EI', 'PI', 'LCB']\n",
    "kernels = [RBF(), Matern(), DotProduct()]\n",
    "metrics = [accuracy_score, f1_score]\n",
    "results = []\n",
    "for criterion in c:\n",
    "    for kernel in kernels:\n",
    "        for metric in metrics:\n",
    "            result = experiment_with_gp(X_train, y_train, criterion, kernel, metric)\n",
    "            result[\"Dataset\"] = \"Arrhythmia\"\n",
    "            results.append(result)"
   ],
   "metadata": {
    "collapsed": false,
    "ExecuteTime": {
     "end_time": "2024-12-14T11:32:19.947450Z",
     "start_time": "2024-12-14T11:26:23.788711Z"
    }
   }
  },
  {
   "cell_type": "markdown",
   "source": [
    "У меня все падало с ValueError: input y contains NaN, я почистила все данные, это не привело к успеху, а потом я поняла, что дело не в том, как я загружаю датасет, а в том, что roc_auc_score возвращал NaN, потому что в некоторых фолдах кросс-валидации не было примеров для одного или нескольких классов, то есть вычисление ROC-кривой было нереально сделать. Это возникало из-за неравномерного распределения классов\n",
    "Убрала этот скор, все работает ок"
   ],
   "metadata": {
    "collapsed": false
   }
  },
  {
   "cell_type": "code",
   "execution_count": 92,
   "outputs": [
    {
     "name": "stdout",
     "output_type": "stream",
     "text": [
      "   Best GP Parameters  Best GP Score    GP Time Criterion  \\\n",
      "0        [200, 20, 1]       0.711869  19.146470        EI   \n",
      "1         [25, 18, 1]       0.393743  17.948938        EI   \n",
      "2        [200, 20, 1]       0.711869  18.434840        EI   \n",
      "3         [25, 18, 1]       0.393743  17.906764        EI   \n",
      "4        [200, 20, 1]       0.711869  18.582603        EI   \n",
      "5         [25, 18, 1]       0.393743  17.802387        EI   \n",
      "6         [71, 18, 1]       0.722957  19.550469        PI   \n",
      "7         [71, 20, 1]       0.385232  19.820757        PI   \n",
      "8         [71, 18, 1]       0.722957  19.897916        PI   \n",
      "9         [71, 20, 1]       0.385232  20.386963        PI   \n",
      "10        [71, 18, 1]       0.722957  20.441300        PI   \n",
      "11        [71, 20, 1]       0.385232  20.041394        PI   \n",
      "12       [200, 20, 1]       0.711869  20.759391       LCB   \n",
      "13       [200, 14, 1]       0.387591  19.943882       LCB   \n",
      "14       [200, 20, 1]       0.711869  21.052318       LCB   \n",
      "15       [200, 14, 1]       0.387591  20.223974       LCB   \n",
      "16       [200, 20, 1]       0.711869  20.912507       LCB   \n",
      "17       [200, 14, 1]       0.387591  19.949457       LCB   \n",
      "\n",
      "                            Kernel  Scoring Metric     Dataset  \n",
      "0              RBF(length_scale=1)  accuracy_score  Arrhythmia  \n",
      "1              RBF(length_scale=1)        f1_score  Arrhythmia  \n",
      "2   Matern(length_scale=1, nu=1.5)  accuracy_score  Arrhythmia  \n",
      "3   Matern(length_scale=1, nu=1.5)        f1_score  Arrhythmia  \n",
      "4            DotProduct(sigma_0=1)  accuracy_score  Arrhythmia  \n",
      "5            DotProduct(sigma_0=1)        f1_score  Arrhythmia  \n",
      "6              RBF(length_scale=1)  accuracy_score  Arrhythmia  \n",
      "7              RBF(length_scale=1)        f1_score  Arrhythmia  \n",
      "8   Matern(length_scale=1, nu=1.5)  accuracy_score  Arrhythmia  \n",
      "9   Matern(length_scale=1, nu=1.5)        f1_score  Arrhythmia  \n",
      "10           DotProduct(sigma_0=1)  accuracy_score  Arrhythmia  \n",
      "11           DotProduct(sigma_0=1)        f1_score  Arrhythmia  \n",
      "12             RBF(length_scale=1)  accuracy_score  Arrhythmia  \n",
      "13             RBF(length_scale=1)        f1_score  Arrhythmia  \n",
      "14  Matern(length_scale=1, nu=1.5)  accuracy_score  Arrhythmia  \n",
      "15  Matern(length_scale=1, nu=1.5)        f1_score  Arrhythmia  \n",
      "16           DotProduct(sigma_0=1)  accuracy_score  Arrhythmia  \n",
      "17           DotProduct(sigma_0=1)        f1_score  Arrhythmia  \n"
     ]
    }
   ],
   "source": [
    "# выводим результаты\n",
    "results_df = pd.DataFrame(results)\n",
    "print(results_df)"
   ],
   "metadata": {
    "collapsed": false,
    "ExecuteTime": {
     "end_time": "2024-12-14T11:32:24.365630Z",
     "start_time": "2024-12-14T11:32:24.360819Z"
    }
   }
  },
  {
   "cell_type": "code",
   "execution_count": 100,
   "outputs": [],
   "source": [
    "def load_breast_cancer_wisconsin():\n",
    "    url = \"https://archive.ics.uci.edu/ml/machine-learning-databases/breast-cancer-wisconsin/wdbc.data\"\n",
    "    response = requests.get(url, verify=False)\n",
    "    df = pd.read_csv(StringIO(response.text), header=None)\n",
    "    X = df.iloc[:, 2:]\n",
    "    y = df.iloc[:, 1]\n",
    "    y = y.dropna()  # Удаляем строки с NaN в целевой переменной\n",
    "    X = X.loc[y.index]  # Удаляем соответствующие строки в X\n",
    "    return X, y"
   ],
   "metadata": {
    "collapsed": false,
    "ExecuteTime": {
     "end_time": "2024-12-14T11:49:57.172649Z",
     "start_time": "2024-12-14T11:49:57.162299Z"
    }
   }
  },
  {
   "cell_type": "code",
   "execution_count": 103,
   "outputs": [
    {
     "name": "stdout",
     "output_type": "stream",
     "text": [
      "Processing dataset: Breast Cancer Wisconsin\n",
      "NaNs in y: 0\n"
     ]
    }
   ],
   "source": [
    "import warnings\n",
    "\n",
    "warnings.filterwarnings(\"ignore\")  # чтобы не захламлять вывод\n",
    "print(f\"Processing dataset: Breast Cancer Wisconsin\")\n",
    "X, y = load_breast_cancer_wisconsin()\n",
    "print(\"NaNs in y:\", y.isna().sum())  # надо было проверить, что нет NaN из-за неуходившей ValueError\n",
    "\n",
    "scaler = StandardScaler()\n",
    "X = scaler.fit_transform(X)\n",
    "X_train, X_test, y_train, y_test = train_test_split(X, y, stratify=y, test_size=0.2, random_state=42)\n",
    "\n",
    "c = ['EI', 'PI', 'LCB']\n",
    "kernels = [RBF(), Matern(), DotProduct()]\n",
    "metrics = [accuracy_score]\n",
    "results = []\n",
    "for criterion in c:\n",
    "    for kernel in kernels:\n",
    "        for metric in metrics:\n",
    "            result = experiment_with_gp(X_train, y_train, criterion, kernel, metric)\n",
    "            result[\"Dataset\"] = \"Breast Cancer Wisconsin\"\n",
    "            results.append(result)"
   ],
   "metadata": {
    "collapsed": false,
    "ExecuteTime": {
     "end_time": "2024-12-14T11:53:35.613868Z",
     "start_time": "2024-12-14T11:51:01.611812Z"
    }
   }
  },
  {
   "cell_type": "code",
   "execution_count": 104,
   "outputs": [
    {
     "name": "stdout",
     "output_type": "stream",
     "text": [
      "  Best GP Parameters  Best GP Score    GP Time Criterion  \\\n",
      "0       [127, 13, 1]       0.962632  16.980731        EI   \n",
      "1       [127, 13, 1]       0.962632  16.895294        EI   \n",
      "2       [127, 13, 1]       0.962632  17.109814        EI   \n",
      "3        [16, 20, 1]       0.964840  17.136276        PI   \n",
      "4        [16, 20, 1]       0.964840  17.258928        PI   \n",
      "5        [16, 20, 1]       0.964840  16.830273        PI   \n",
      "6       [127, 13, 1]       0.962632  15.960571       LCB   \n",
      "7       [127, 13, 1]       0.962632  17.184243       LCB   \n",
      "8       [127, 13, 1]       0.962632  16.883649       LCB   \n",
      "\n",
      "                           Kernel  Scoring Metric                  Dataset  \n",
      "0             RBF(length_scale=1)  accuracy_score  Breast Cancer Wisconsin  \n",
      "1  Matern(length_scale=1, nu=1.5)  accuracy_score  Breast Cancer Wisconsin  \n",
      "2           DotProduct(sigma_0=1)  accuracy_score  Breast Cancer Wisconsin  \n",
      "3             RBF(length_scale=1)  accuracy_score  Breast Cancer Wisconsin  \n",
      "4  Matern(length_scale=1, nu=1.5)  accuracy_score  Breast Cancer Wisconsin  \n",
      "5           DotProduct(sigma_0=1)  accuracy_score  Breast Cancer Wisconsin  \n",
      "6             RBF(length_scale=1)  accuracy_score  Breast Cancer Wisconsin  \n",
      "7  Matern(length_scale=1, nu=1.5)  accuracy_score  Breast Cancer Wisconsin  \n",
      "8           DotProduct(sigma_0=1)  accuracy_score  Breast Cancer Wisconsin  \n"
     ]
    }
   ],
   "source": [
    "# выводим результаты\n",
    "results_df = pd.DataFrame(results)\n",
    "print(results_df)"
   ],
   "metadata": {
    "collapsed": false,
    "ExecuteTime": {
     "end_time": "2024-12-14T11:54:26.819025Z",
     "start_time": "2024-12-14T11:54:26.815296Z"
    }
   }
  },
  {
   "cell_type": "markdown",
   "source": [
    "Для этого датасета с f1_score тоже была беда (те же причины что и у roc_auc_score), и тк тут не числовые данные, то трюк с преобразованием в нумерик не сработал, поэтому, чтобы избежать той же ValueError пришлось пожертвовать и f1_score тоже\n",
    "А другие датасеты - беда, потому что в UCI очень кривая файловая система, не всегда очевидно, как конструировать ссылки на сами данные, были еще некоторые варианты, но там либо все падало из-за просроченного сертификата (не получалось прочитать данные), либо просто была ошибка при соединении"
   ],
   "metadata": {
    "collapsed": false
   }
  },
  {
   "cell_type": "code",
   "execution_count": null,
   "outputs": [],
   "source": [],
   "metadata": {
    "collapsed": false
   }
  }
 ],
 "metadata": {
  "kernelspec": {
   "display_name": "Python 3",
   "language": "python",
   "name": "python3"
  },
  "language_info": {
   "codemirror_mode": {
    "name": "ipython",
    "version": 2
   },
   "file_extension": ".py",
   "mimetype": "text/x-python",
   "name": "python",
   "nbconvert_exporter": "python",
   "pygments_lexer": "ipython2",
   "version": "2.7.6"
  }
 },
 "nbformat": 4,
 "nbformat_minor": 0
}
