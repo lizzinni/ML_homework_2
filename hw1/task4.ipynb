{
 "cells": [
  {
   "cell_type": "code",
   "execution_count": 23,
   "metadata": {
    "collapsed": true,
    "ExecuteTime": {
     "end_time": "2024-11-26T18:35:12.559323Z",
     "start_time": "2024-11-26T18:35:12.554336Z"
    }
   },
   "outputs": [],
   "source": [
    "import numpy as np\n",
    "import pandas as pd\n",
    "from sklearn.preprocessing import StandardScaler, LabelEncoder\n",
    "from sklearn.discriminant_analysis import LinearDiscriminantAnalysis as LDA\n",
    "from sklearn.mixture import GaussianMixture as GMM\n",
    "from sklearn.metrics import accuracy_score\n",
    "from sklearn.model_selection import train_test_split"
   ]
  },
  {
   "cell_type": "code",
   "execution_count": 24,
   "outputs": [],
   "source": [
    "def load_ecoli():\n",
    "    url = \"https://archive.ics.uci.edu/ml/machine-learning-databases/ecoli/ecoli.data\"\n",
    "    df = pd.read_csv(url, delim_whitespace=True, header=None)\n",
    "    X = df.iloc[:, 1:-1].values\n",
    "    y = LabelEncoder().fit_transform(df.iloc[:, -1].values)\n",
    "    return X, y\n",
    "\n",
    "X, y = load_ecoli()"
   ],
   "metadata": {
    "collapsed": false,
    "ExecuteTime": {
     "end_time": "2024-11-26T18:35:26.393376Z",
     "start_time": "2024-11-26T18:35:25.528838Z"
    }
   }
  },
  {
   "cell_type": "code",
   "execution_count": 25,
   "outputs": [],
   "source": [
    "# нормализуем данные\n",
    "scaler = StandardScaler()\n",
    "X = scaler.fit_transform(X)\n",
    "\n",
    "X_train, X_test, y_train, y_test = train_test_split(X, y, test_size=0.2, random_state=42, stratify=y)\n",
    "\n",
    "# теперь исключим часть меток из тренировочной выборки\n",
    "labeled_ratio = 0.8  # доля размеченных данных\n",
    "n_labeled = int(len(X_train) * labeled_ratio)\n",
    "X_labeled = X_train[:n_labeled]\n",
    "y_labeled = y_train[:n_labeled]\n",
    "X_unlabeled = X_train[n_labeled:]\n",
    "\n",
    "# проверяем кол-во классов в размеченной выборке\n",
    "unique_classes = np.unique(y_labeled)\n",
    "n_classes = len(unique_classes)"
   ],
   "metadata": {
    "collapsed": false,
    "ExecuteTime": {
     "end_time": "2024-11-26T18:35:40.050502Z",
     "start_time": "2024-11-26T18:35:40.045247Z"
    }
   }
  },
  {
   "cell_type": "code",
   "execution_count": 26,
   "outputs": [
    {
     "data": {
      "text/plain": "GaussianMixture(covariance_type='tied',\n                means_init=array([[-0.71896277, -0.58058061, -0.17514236, -0.05463584, -0.44489355,\n        -0.86267109, -0.48758976],\n       [-0.21127227,  0.05002156, -0.05744669, -0.05463584,  0.36966157,\n         1.17727996,  1.04193808],\n       [ 1.15743388, -0.20279012,  5.70964097,  9.12418469, -0.36851195,\n         0.67224354,  0.33605121],\n       [ 1.23461656,  0.06759671, -0.17514236, -0.054635...\n       [ 1.14671407, -0.22532236,  0.07005694, -0.05463584,  0.34415558,\n         1.11902438,  1.12315971],\n       [ 0.68732121,  1.35193415,  0.35983794, -0.05463584,  1.76298085,\n        -0.22870296, -0.81608   ],\n       [ 0.97734097,  0.03379835,  5.70964097, -0.05463584,  0.73629322,\n         0.3937308 , -1.28997547],\n       [ 0.79958692,  1.58135328, -0.17514236, -0.05463584, -0.53342675,\n        -0.16259135, -0.64507184]]),\n                n_components=8, random_state=42)",
      "text/html": "<style>#sk-container-id-1 {\n  /* Definition of color scheme common for light and dark mode */\n  --sklearn-color-text: black;\n  --sklearn-color-line: gray;\n  /* Definition of color scheme for unfitted estimators */\n  --sklearn-color-unfitted-level-0: #fff5e6;\n  --sklearn-color-unfitted-level-1: #f6e4d2;\n  --sklearn-color-unfitted-level-2: #ffe0b3;\n  --sklearn-color-unfitted-level-3: chocolate;\n  /* Definition of color scheme for fitted estimators */\n  --sklearn-color-fitted-level-0: #f0f8ff;\n  --sklearn-color-fitted-level-1: #d4ebff;\n  --sklearn-color-fitted-level-2: #b3dbfd;\n  --sklearn-color-fitted-level-3: cornflowerblue;\n\n  /* Specific color for light theme */\n  --sklearn-color-text-on-default-background: var(--sg-text-color, var(--theme-code-foreground, var(--jp-content-font-color1, black)));\n  --sklearn-color-background: var(--sg-background-color, var(--theme-background, var(--jp-layout-color0, white)));\n  --sklearn-color-border-box: var(--sg-text-color, var(--theme-code-foreground, var(--jp-content-font-color1, black)));\n  --sklearn-color-icon: #696969;\n\n  @media (prefers-color-scheme: dark) {\n    /* Redefinition of color scheme for dark theme */\n    --sklearn-color-text-on-default-background: var(--sg-text-color, var(--theme-code-foreground, var(--jp-content-font-color1, white)));\n    --sklearn-color-background: var(--sg-background-color, var(--theme-background, var(--jp-layout-color0, #111)));\n    --sklearn-color-border-box: var(--sg-text-color, var(--theme-code-foreground, var(--jp-content-font-color1, white)));\n    --sklearn-color-icon: #878787;\n  }\n}\n\n#sk-container-id-1 {\n  color: var(--sklearn-color-text);\n}\n\n#sk-container-id-1 pre {\n  padding: 0;\n}\n\n#sk-container-id-1 input.sk-hidden--visually {\n  border: 0;\n  clip: rect(1px 1px 1px 1px);\n  clip: rect(1px, 1px, 1px, 1px);\n  height: 1px;\n  margin: -1px;\n  overflow: hidden;\n  padding: 0;\n  position: absolute;\n  width: 1px;\n}\n\n#sk-container-id-1 div.sk-dashed-wrapped {\n  border: 1px dashed var(--sklearn-color-line);\n  margin: 0 0.4em 0.5em 0.4em;\n  box-sizing: border-box;\n  padding-bottom: 0.4em;\n  background-color: var(--sklearn-color-background);\n}\n\n#sk-container-id-1 div.sk-container {\n  /* jupyter's `normalize.less` sets `[hidden] { display: none; }`\n     but bootstrap.min.css set `[hidden] { display: none !important; }`\n     so we also need the `!important` here to be able to override the\n     default hidden behavior on the sphinx rendered scikit-learn.org.\n     See: https://github.com/scikit-learn/scikit-learn/issues/21755 */\n  display: inline-block !important;\n  position: relative;\n}\n\n#sk-container-id-1 div.sk-text-repr-fallback {\n  display: none;\n}\n\ndiv.sk-parallel-item,\ndiv.sk-serial,\ndiv.sk-item {\n  /* draw centered vertical line to link estimators */\n  background-image: linear-gradient(var(--sklearn-color-text-on-default-background), var(--sklearn-color-text-on-default-background));\n  background-size: 2px 100%;\n  background-repeat: no-repeat;\n  background-position: center center;\n}\n\n/* Parallel-specific style estimator block */\n\n#sk-container-id-1 div.sk-parallel-item::after {\n  content: \"\";\n  width: 100%;\n  border-bottom: 2px solid var(--sklearn-color-text-on-default-background);\n  flex-grow: 1;\n}\n\n#sk-container-id-1 div.sk-parallel {\n  display: flex;\n  align-items: stretch;\n  justify-content: center;\n  background-color: var(--sklearn-color-background);\n  position: relative;\n}\n\n#sk-container-id-1 div.sk-parallel-item {\n  display: flex;\n  flex-direction: column;\n}\n\n#sk-container-id-1 div.sk-parallel-item:first-child::after {\n  align-self: flex-end;\n  width: 50%;\n}\n\n#sk-container-id-1 div.sk-parallel-item:last-child::after {\n  align-self: flex-start;\n  width: 50%;\n}\n\n#sk-container-id-1 div.sk-parallel-item:only-child::after {\n  width: 0;\n}\n\n/* Serial-specific style estimator block */\n\n#sk-container-id-1 div.sk-serial {\n  display: flex;\n  flex-direction: column;\n  align-items: center;\n  background-color: var(--sklearn-color-background);\n  padding-right: 1em;\n  padding-left: 1em;\n}\n\n\n/* Toggleable style: style used for estimator/Pipeline/ColumnTransformer box that is\nclickable and can be expanded/collapsed.\n- Pipeline and ColumnTransformer use this feature and define the default style\n- Estimators will overwrite some part of the style using the `sk-estimator` class\n*/\n\n/* Pipeline and ColumnTransformer style (default) */\n\n#sk-container-id-1 div.sk-toggleable {\n  /* Default theme specific background. It is overwritten whether we have a\n  specific estimator or a Pipeline/ColumnTransformer */\n  background-color: var(--sklearn-color-background);\n}\n\n/* Toggleable label */\n#sk-container-id-1 label.sk-toggleable__label {\n  cursor: pointer;\n  display: block;\n  width: 100%;\n  margin-bottom: 0;\n  padding: 0.5em;\n  box-sizing: border-box;\n  text-align: center;\n}\n\n#sk-container-id-1 label.sk-toggleable__label-arrow:before {\n  /* Arrow on the left of the label */\n  content: \"▸\";\n  float: left;\n  margin-right: 0.25em;\n  color: var(--sklearn-color-icon);\n}\n\n#sk-container-id-1 label.sk-toggleable__label-arrow:hover:before {\n  color: var(--sklearn-color-text);\n}\n\n/* Toggleable content - dropdown */\n\n#sk-container-id-1 div.sk-toggleable__content {\n  max-height: 0;\n  max-width: 0;\n  overflow: hidden;\n  text-align: left;\n  /* unfitted */\n  background-color: var(--sklearn-color-unfitted-level-0);\n}\n\n#sk-container-id-1 div.sk-toggleable__content.fitted {\n  /* fitted */\n  background-color: var(--sklearn-color-fitted-level-0);\n}\n\n#sk-container-id-1 div.sk-toggleable__content pre {\n  margin: 0.2em;\n  border-radius: 0.25em;\n  color: var(--sklearn-color-text);\n  /* unfitted */\n  background-color: var(--sklearn-color-unfitted-level-0);\n}\n\n#sk-container-id-1 div.sk-toggleable__content.fitted pre {\n  /* unfitted */\n  background-color: var(--sklearn-color-fitted-level-0);\n}\n\n#sk-container-id-1 input.sk-toggleable__control:checked~div.sk-toggleable__content {\n  /* Expand drop-down */\n  max-height: 200px;\n  max-width: 100%;\n  overflow: auto;\n}\n\n#sk-container-id-1 input.sk-toggleable__control:checked~label.sk-toggleable__label-arrow:before {\n  content: \"▾\";\n}\n\n/* Pipeline/ColumnTransformer-specific style */\n\n#sk-container-id-1 div.sk-label input.sk-toggleable__control:checked~label.sk-toggleable__label {\n  color: var(--sklearn-color-text);\n  background-color: var(--sklearn-color-unfitted-level-2);\n}\n\n#sk-container-id-1 div.sk-label.fitted input.sk-toggleable__control:checked~label.sk-toggleable__label {\n  background-color: var(--sklearn-color-fitted-level-2);\n}\n\n/* Estimator-specific style */\n\n/* Colorize estimator box */\n#sk-container-id-1 div.sk-estimator input.sk-toggleable__control:checked~label.sk-toggleable__label {\n  /* unfitted */\n  background-color: var(--sklearn-color-unfitted-level-2);\n}\n\n#sk-container-id-1 div.sk-estimator.fitted input.sk-toggleable__control:checked~label.sk-toggleable__label {\n  /* fitted */\n  background-color: var(--sklearn-color-fitted-level-2);\n}\n\n#sk-container-id-1 div.sk-label label.sk-toggleable__label,\n#sk-container-id-1 div.sk-label label {\n  /* The background is the default theme color */\n  color: var(--sklearn-color-text-on-default-background);\n}\n\n/* On hover, darken the color of the background */\n#sk-container-id-1 div.sk-label:hover label.sk-toggleable__label {\n  color: var(--sklearn-color-text);\n  background-color: var(--sklearn-color-unfitted-level-2);\n}\n\n/* Label box, darken color on hover, fitted */\n#sk-container-id-1 div.sk-label.fitted:hover label.sk-toggleable__label.fitted {\n  color: var(--sklearn-color-text);\n  background-color: var(--sklearn-color-fitted-level-2);\n}\n\n/* Estimator label */\n\n#sk-container-id-1 div.sk-label label {\n  font-family: monospace;\n  font-weight: bold;\n  display: inline-block;\n  line-height: 1.2em;\n}\n\n#sk-container-id-1 div.sk-label-container {\n  text-align: center;\n}\n\n/* Estimator-specific */\n#sk-container-id-1 div.sk-estimator {\n  font-family: monospace;\n  border: 1px dotted var(--sklearn-color-border-box);\n  border-radius: 0.25em;\n  box-sizing: border-box;\n  margin-bottom: 0.5em;\n  /* unfitted */\n  background-color: var(--sklearn-color-unfitted-level-0);\n}\n\n#sk-container-id-1 div.sk-estimator.fitted {\n  /* fitted */\n  background-color: var(--sklearn-color-fitted-level-0);\n}\n\n/* on hover */\n#sk-container-id-1 div.sk-estimator:hover {\n  /* unfitted */\n  background-color: var(--sklearn-color-unfitted-level-2);\n}\n\n#sk-container-id-1 div.sk-estimator.fitted:hover {\n  /* fitted */\n  background-color: var(--sklearn-color-fitted-level-2);\n}\n\n/* Specification for estimator info (e.g. \"i\" and \"?\") */\n\n/* Common style for \"i\" and \"?\" */\n\n.sk-estimator-doc-link,\na:link.sk-estimator-doc-link,\na:visited.sk-estimator-doc-link {\n  float: right;\n  font-size: smaller;\n  line-height: 1em;\n  font-family: monospace;\n  background-color: var(--sklearn-color-background);\n  border-radius: 1em;\n  height: 1em;\n  width: 1em;\n  text-decoration: none !important;\n  margin-left: 1ex;\n  /* unfitted */\n  border: var(--sklearn-color-unfitted-level-1) 1pt solid;\n  color: var(--sklearn-color-unfitted-level-1);\n}\n\n.sk-estimator-doc-link.fitted,\na:link.sk-estimator-doc-link.fitted,\na:visited.sk-estimator-doc-link.fitted {\n  /* fitted */\n  border: var(--sklearn-color-fitted-level-1) 1pt solid;\n  color: var(--sklearn-color-fitted-level-1);\n}\n\n/* On hover */\ndiv.sk-estimator:hover .sk-estimator-doc-link:hover,\n.sk-estimator-doc-link:hover,\ndiv.sk-label-container:hover .sk-estimator-doc-link:hover,\n.sk-estimator-doc-link:hover {\n  /* unfitted */\n  background-color: var(--sklearn-color-unfitted-level-3);\n  color: var(--sklearn-color-background);\n  text-decoration: none;\n}\n\ndiv.sk-estimator.fitted:hover .sk-estimator-doc-link.fitted:hover,\n.sk-estimator-doc-link.fitted:hover,\ndiv.sk-label-container:hover .sk-estimator-doc-link.fitted:hover,\n.sk-estimator-doc-link.fitted:hover {\n  /* fitted */\n  background-color: var(--sklearn-color-fitted-level-3);\n  color: var(--sklearn-color-background);\n  text-decoration: none;\n}\n\n/* Span, style for the box shown on hovering the info icon */\n.sk-estimator-doc-link span {\n  display: none;\n  z-index: 9999;\n  position: relative;\n  font-weight: normal;\n  right: .2ex;\n  padding: .5ex;\n  margin: .5ex;\n  width: min-content;\n  min-width: 20ex;\n  max-width: 50ex;\n  color: var(--sklearn-color-text);\n  box-shadow: 2pt 2pt 4pt #999;\n  /* unfitted */\n  background: var(--sklearn-color-unfitted-level-0);\n  border: .5pt solid var(--sklearn-color-unfitted-level-3);\n}\n\n.sk-estimator-doc-link.fitted span {\n  /* fitted */\n  background: var(--sklearn-color-fitted-level-0);\n  border: var(--sklearn-color-fitted-level-3);\n}\n\n.sk-estimator-doc-link:hover span {\n  display: block;\n}\n\n/* \"?\"-specific style due to the `<a>` HTML tag */\n\n#sk-container-id-1 a.estimator_doc_link {\n  float: right;\n  font-size: 1rem;\n  line-height: 1em;\n  font-family: monospace;\n  background-color: var(--sklearn-color-background);\n  border-radius: 1rem;\n  height: 1rem;\n  width: 1rem;\n  text-decoration: none;\n  /* unfitted */\n  color: var(--sklearn-color-unfitted-level-1);\n  border: var(--sklearn-color-unfitted-level-1) 1pt solid;\n}\n\n#sk-container-id-1 a.estimator_doc_link.fitted {\n  /* fitted */\n  border: var(--sklearn-color-fitted-level-1) 1pt solid;\n  color: var(--sklearn-color-fitted-level-1);\n}\n\n/* On hover */\n#sk-container-id-1 a.estimator_doc_link:hover {\n  /* unfitted */\n  background-color: var(--sklearn-color-unfitted-level-3);\n  color: var(--sklearn-color-background);\n  text-decoration: none;\n}\n\n#sk-container-id-1 a.estimator_doc_link.fitted:hover {\n  /* fitted */\n  background-color: var(--sklearn-color-fitted-level-3);\n}\n</style><div id=\"sk-container-id-1\" class=\"sk-top-container\"><div class=\"sk-text-repr-fallback\"><pre>GaussianMixture(covariance_type=&#x27;tied&#x27;,\n                means_init=array([[-0.71896277, -0.58058061, -0.17514236, -0.05463584, -0.44489355,\n        -0.86267109, -0.48758976],\n       [-0.21127227,  0.05002156, -0.05744669, -0.05463584,  0.36966157,\n         1.17727996,  1.04193808],\n       [ 1.15743388, -0.20279012,  5.70964097,  9.12418469, -0.36851195,\n         0.67224354,  0.33605121],\n       [ 1.23461656,  0.06759671, -0.17514236, -0.054635...\n       [ 1.14671407, -0.22532236,  0.07005694, -0.05463584,  0.34415558,\n         1.11902438,  1.12315971],\n       [ 0.68732121,  1.35193415,  0.35983794, -0.05463584,  1.76298085,\n        -0.22870296, -0.81608   ],\n       [ 0.97734097,  0.03379835,  5.70964097, -0.05463584,  0.73629322,\n         0.3937308 , -1.28997547],\n       [ 0.79958692,  1.58135328, -0.17514236, -0.05463584, -0.53342675,\n        -0.16259135, -0.64507184]]),\n                n_components=8, random_state=42)</pre><b>In a Jupyter environment, please rerun this cell to show the HTML representation or trust the notebook. <br />On GitHub, the HTML representation is unable to render, please try loading this page with nbviewer.org.</b></div><div class=\"sk-container\" hidden><div class=\"sk-item\"><div class=\"sk-estimator fitted sk-toggleable\"><input class=\"sk-toggleable__control sk-hidden--visually\" id=\"sk-estimator-id-1\" type=\"checkbox\" checked><label for=\"sk-estimator-id-1\" class=\"sk-toggleable__label fitted sk-toggleable__label-arrow fitted\">&nbsp;&nbsp;GaussianMixture<a class=\"sk-estimator-doc-link fitted\" rel=\"noreferrer\" target=\"_blank\" href=\"https://scikit-learn.org/1.4/modules/generated/sklearn.mixture.GaussianMixture.html\">?<span>Documentation for GaussianMixture</span></a><span class=\"sk-estimator-doc-link fitted\">i<span>Fitted</span></span></label><div class=\"sk-toggleable__content fitted\"><pre>GaussianMixture(covariance_type=&#x27;tied&#x27;,\n                means_init=array([[-0.71896277, -0.58058061, -0.17514236, -0.05463584, -0.44489355,\n        -0.86267109, -0.48758976],\n       [-0.21127227,  0.05002156, -0.05744669, -0.05463584,  0.36966157,\n         1.17727996,  1.04193808],\n       [ 1.15743388, -0.20279012,  5.70964097,  9.12418469, -0.36851195,\n         0.67224354,  0.33605121],\n       [ 1.23461656,  0.06759671, -0.17514236, -0.054635...\n       [ 1.14671407, -0.22532236,  0.07005694, -0.05463584,  0.34415558,\n         1.11902438,  1.12315971],\n       [ 0.68732121,  1.35193415,  0.35983794, -0.05463584,  1.76298085,\n        -0.22870296, -0.81608   ],\n       [ 0.97734097,  0.03379835,  5.70964097, -0.05463584,  0.73629322,\n         0.3937308 , -1.28997547],\n       [ 0.79958692,  1.58135328, -0.17514236, -0.05463584, -0.53342675,\n        -0.16259135, -0.64507184]]),\n                n_components=8, random_state=42)</pre></div> </div></div></div></div>"
     },
     "execution_count": 26,
     "metadata": {},
     "output_type": "execute_result"
    }
   ],
   "source": [
    "# обучим lda на размеченных данных\n",
    "lda = LDA()\n",
    "lda.fit(X_labeled, y_labeled)\n",
    "lda_acc = accuracy_score(y_test, lda.predict(X_test))\n",
    "\n",
    "# проинициализируем GMM параметрами из lda\n",
    "gmm = GMM(n_components=n_classes, covariance_type=\"tied\", random_state=42)\n",
    "gmm.means_init = lda.means_  # средние из lda\n",
    "gmm.fit(X_labeled)"
   ],
   "metadata": {
    "collapsed": false,
    "ExecuteTime": {
     "end_time": "2024-11-26T18:35:52.292825Z",
     "start_time": "2024-11-26T18:35:52.231539Z"
    }
   }
  },
  {
   "cell_type": "code",
   "execution_count": 27,
   "outputs": [],
   "source": [
    "# em\n",
    "for _ in range(10):\n",
    "    # вычисляем вероятности для неразмеченных данных\n",
    "    unlabeled_probs = gmm.predict_proba(X_unlabeled)\n",
    "\n",
    "    # присваиваем метки, только если уверенность >= 0.9\n",
    "    y_unlabeled = np.argmax(unlabeled_probs, axis=1)\n",
    "    confident_indices = np.max(unlabeled_probs, axis=1) >= 0.9\n",
    "    X_confident = X_unlabeled[confident_indices]\n",
    "    y_confident = y_unlabeled[confident_indices]\n",
    "\n",
    "    # переобучаем gmm\n",
    "    X_combined = np.vstack((X_labeled, X_confident))\n",
    "    y_combined = np.hstack((y_labeled, y_confident))\n",
    "    gmm.fit(X_combined)"
   ],
   "metadata": {
    "collapsed": false,
    "ExecuteTime": {
     "end_time": "2024-11-26T18:36:12.507099Z",
     "start_time": "2024-11-26T18:36:12.403103Z"
    }
   }
  },
  {
   "cell_type": "code",
   "execution_count": 28,
   "outputs": [],
   "source": [
    "# Переобучаем lda на дополненных данных\n",
    "lda_em = LDA()\n",
    "lda_em.fit(X_combined, y_combined)\n",
    "lda_em_acc = accuracy_score(y_test, lda_em.predict(X_test))  # точность lda после em"
   ],
   "metadata": {
    "collapsed": false,
    "ExecuteTime": {
     "end_time": "2024-11-26T18:36:20.685466Z",
     "start_time": "2024-11-26T18:36:20.680472Z"
    }
   }
  },
  {
   "cell_type": "code",
   "execution_count": 29,
   "outputs": [
    {
     "name": "stdout",
     "output_type": "stream",
     "text": [
      "                Method  Accuracy\n",
      "0   LDA (labeled only)  0.867647\n",
      "1  LDA + GMM (with EM)  0.897059\n"
     ]
    }
   ],
   "source": [
    "results = pd.DataFrame({\n",
    "    \"Method\": [\"LDA (labeled only)\", \"LDA + GMM (with EM)\"],\n",
    "    \"Accuracy\": [lda_acc, lda_em_acc]\n",
    "})\n",
    "print(results)"
   ],
   "metadata": {
    "collapsed": false,
    "ExecuteTime": {
     "end_time": "2024-11-26T18:36:23.324766Z",
     "start_time": "2024-11-26T18:36:23.311606Z"
    }
   }
  },
  {
   "cell_type": "markdown",
   "source": [
    "Вспомним, что в задании 3 для этого датасета получали результат 0.808824 для rLDA, то есть результат улучшился"
   ],
   "metadata": {
    "collapsed": false
   }
  },
  {
   "cell_type": "markdown",
   "source": [
    "Дополнительно: посмотрите, как меняется качество, когда доля неразмеченных данных падает"
   ],
   "metadata": {
    "collapsed": false
   }
  },
  {
   "cell_type": "code",
   "execution_count": 47,
   "outputs": [],
   "source": [
    "import matplotlib.pyplot as plt"
   ],
   "metadata": {
    "collapsed": false,
    "ExecuteTime": {
     "end_time": "2024-11-26T19:37:23.203679Z",
     "start_time": "2024-11-26T19:37:23.197593Z"
    }
   }
  },
  {
   "cell_type": "code",
   "execution_count": 48,
   "outputs": [],
   "source": [
    "labeled_ratios = np.linspace(0.5, 0.9, 5)  # доли размеченных данных\n",
    "lda_accuracies = []\n",
    "lda_em_accuracies = []"
   ],
   "metadata": {
    "collapsed": false,
    "ExecuteTime": {
     "end_time": "2024-11-26T19:37:23.810815Z",
     "start_time": "2024-11-26T19:37:23.805131Z"
    }
   }
  },
  {
   "cell_type": "code",
   "execution_count": 49,
   "outputs": [],
   "source": [
    "for labeled_ratio in labeled_ratios:\n",
    "    n_labeled = int(len(X_train) * labeled_ratio)\n",
    "    X_labeled = X_train[:n_labeled]\n",
    "    y_labeled = y_train[:n_labeled]\n",
    "    X_unlabeled = X_train[n_labeled:]\n",
    "\n",
    "    unique_classes = np.unique(y_labeled)\n",
    "    n_classes = len(unique_classes)\n",
    "\n",
    "    lda = LDA()\n",
    "    lda.fit(X_labeled, y_labeled)\n",
    "    lda_acc = accuracy_score(y_test, lda.predict(X_test))\n",
    "    lda_accuracies.append(lda_acc)\n",
    "\n",
    "    gmm = GMM(n_components=n_classes, covariance_type=\"tied\", random_state=42)\n",
    "    gmm.means_init = lda.means_\n",
    "    gmm.fit(X_labeled)\n",
    "\n",
    "    # em\n",
    "    for _ in range(10):\n",
    "        unlabeled_probs = gmm.predict_proba(X_unlabeled)\n",
    "        y_unlabeled = np.argmax(unlabeled_probs, axis=1)\n",
    "        confident_indices = np.max(unlabeled_probs, axis=1) >= 0.9\n",
    "        X_confident = X_unlabeled[confident_indices]\n",
    "        y_confident = y_unlabeled[confident_indices]\n",
    "\n",
    "        X_combined = np.vstack((X_labeled, X_confident))\n",
    "        y_combined = np.hstack((y_labeled, y_confident))\n",
    "        gmm.fit(X_combined)\n",
    "\n",
    "    lda_em = LDA()\n",
    "    lda_em.fit(X_combined, y_combined)\n",
    "    lda_em_acc = accuracy_score(y_test, lda_em.predict(X_test))\n",
    "    lda_em_accuracies.append(lda_em_acc)"
   ],
   "metadata": {
    "collapsed": false,
    "ExecuteTime": {
     "end_time": "2024-11-26T19:37:25.249187Z",
     "start_time": "2024-11-26T19:37:24.532580Z"
    }
   }
  },
  {
   "cell_type": "code",
   "execution_count": 51,
   "outputs": [
    {
     "name": "stdout",
     "output_type": "stream",
     "text": [
      "   Labeled Ratio  LDA (labeled only)  LDA + GMM (with EM)\n",
      "0            0.5            0.168317             0.673267\n",
      "1            0.6            0.108911             0.772277\n",
      "2            0.7            0.435644             0.811881\n",
      "3            0.8            0.871287             0.881188\n",
      "4            0.9            0.871287             0.881188\n"
     ]
    }
   ],
   "source": [
    "results_table = pd.DataFrame({\n",
    "    \"Labeled Ratio\": labeled_ratios,\n",
    "    \"LDA (labeled only)\": lda_accuracies,\n",
    "    \"LDA + GMM (with EM)\": lda_em_accuracies\n",
    "})\n",
    "\n",
    "print(results_table)"
   ],
   "metadata": {
    "collapsed": false,
    "ExecuteTime": {
     "end_time": "2024-11-26T19:37:31.789599Z",
     "start_time": "2024-11-26T19:37:31.772483Z"
    }
   }
  },
  {
   "cell_type": "code",
   "execution_count": 53,
   "outputs": [
    {
     "data": {
      "text/plain": "<Figure size 1000x600 with 1 Axes>",
      "image/png": "[encoded data removed]"
     },
     "metadata": {},
     "output_type": "display_data"
    }
   ],
   "source": [
    "plt.figure(figsize=(10, 6))\n",
    "plt.plot(labeled_ratios, lda_accuracies, marker='o', label='LDA (labeled only)')\n",
    "plt.plot(labeled_ratios, lda_em_accuracies, marker='s', label='LDA + GMM (with EM)')\n",
    "plt.xlabel('Labeled Data Ratio')\n",
    "plt.ylabel('Accuracy')\n",
    "plt.legend()\n",
    "plt.grid()\n",
    "plt.show()"
   ],
   "metadata": {
    "collapsed": false,
    "ExecuteTime": {
     "end_time": "2024-11-26T19:41:06.873030Z",
     "start_time": "2024-11-26T19:41:06.786377Z"
    }
   }
  }
 ],
 "metadata": {
  "kernelspec": {
   "display_name": "Python 3",
   "language": "python",
   "name": "python3"
  },
  "language_info": {
   "codemirror_mode": {
    "name": "ipython",
    "version": 2
   },
   "file_extension": ".py",
   "mimetype": "text/x-python",
   "name": "python",
   "nbconvert_exporter": "python",
   "pygments_lexer": "ipython2",
   "version": "2.7.6"
  }
 },
 "nbformat": 4,
 "nbformat_minor": 0
}
