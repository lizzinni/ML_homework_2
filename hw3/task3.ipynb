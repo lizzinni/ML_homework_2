{
 "cells": [
  {
   "cell_type": "markdown",
   "source": [
    "На лекциях мы обсуждали вероятностный PCA, и что можно получить его с помощью EM алгоритма. Однако есть байесовский способ сделать это с помощью марковских цепей через библиотеку PyMC просто расписав модель и априорные распределения параметров следующим образом, а дальше запустить механизмы сэмплирования:\n",
    "По аналогии реализуйте Supervised PCA, Partial Least Squares (лекция 3, слайд 23) и CCA."
   ],
   "metadata": {
    "collapsed": false
   }
  },
  {
   "cell_type": "code",
   "execution_count": 1,
   "outputs": [
    {
     "name": "stderr",
     "output_type": "stream",
     "text": [
      "Auto-assigning NUTS sampler...\n",
      "Initializing NUTS using jitter+adapt_diag...\n",
      "Multiprocess sampling (4 chains in 4 jobs)\n",
      "NUTS: [W, Z, sigma]\n"
     ]
    },
    {
     "data": {
      "text/plain": "Output()",
      "application/vnd.jupyter.widget-view+json": {
       "version_major": 2,
       "version_minor": 0,
       "model_id": "6ff78b98bafd4635ac46b9c981e17b65"
      }
     },
     "metadata": {},
     "output_type": "display_data"
    },
    {
     "data": {
      "text/plain": "",
      "text/html": "<pre style=\"white-space:pre;overflow-x:auto;line-height:normal;font-family:Menlo,'DejaVu Sans Mono',consolas,'Courier New',monospace\"></pre>\n"
     },
     "metadata": {},
     "output_type": "display_data"
    },
    {
     "name": "stderr",
     "output_type": "stream",
     "text": [
      "Sampling 4 chains for 1_000 tune and 1_000 draw iterations (4_000 + 4_000 draws total) took 8 seconds.\n",
      "There were 11 divergences after tuning. Increase `target_accept` or reparameterize.\n",
      "The rhat statistic is larger than 1.01 for some parameters. This indicates problems during sampling. See https://arxiv.org/abs/1903.08008 for details\n",
      "The effective sample size per chain is smaller than 100 for some parameters.  A higher number is needed for reliable rhat and ess computation. See https://arxiv.org/abs/1903.08008 for details\n"
     ]
    },
    {
     "name": "stdout",
     "output_type": "stream",
     "text": [
      "           mean     sd  hdi_3%  hdi_97%  mcse_mean  mcse_sd  ess_bulk  \\\n",
      "W[0, 0]   0.001  0.306  -0.447    0.443      0.138    0.104       6.0   \n",
      "W[0, 1]  -0.031  0.293  -0.431    0.443      0.131    0.099       6.0   \n",
      "W[1, 0]   0.743  0.947  -1.164    1.902      0.398    0.298       7.0   \n",
      "W[1, 1]  -0.048  1.252  -1.756    1.748      0.568    0.429       6.0   \n",
      "W[2, 0]  -0.132  0.215  -0.399    0.318      0.093    0.069       6.0   \n",
      "...         ...    ...     ...      ...        ...      ...       ...   \n",
      "Z[98, 0]  0.275  0.466  -0.681    0.940      0.182    0.135       8.0   \n",
      "Z[98, 1] -0.043  0.524  -0.838    0.828      0.219    0.163       6.0   \n",
      "Z[99, 0]  1.359  1.854  -2.160    3.749      0.772    0.576       7.0   \n",
      "Z[99, 1] -0.011  2.626  -3.748    3.625      1.194    0.901       6.0   \n",
      "sigma     0.308  0.013   0.285    0.333      0.000    0.000    1781.0   \n",
      "\n",
      "          ess_tail  r_hat  \n",
      "W[0, 0]       29.0   1.91  \n",
      "W[0, 1]       34.0   1.84  \n",
      "W[1, 0]       19.0   1.55  \n",
      "W[1, 1]       29.0   1.92  \n",
      "W[2, 0]       16.0   1.70  \n",
      "...            ...    ...  \n",
      "Z[98, 0]      16.0   1.45  \n",
      "Z[98, 1]      37.0   1.68  \n",
      "Z[99, 0]      45.0   1.60  \n",
      "Z[99, 1]      40.0   1.96  \n",
      "sigma       1778.0   1.00  \n",
      "\n",
      "[211 rows x 9 columns]\n"
     ]
    }
   ],
   "source": [
    "import pymc as pm\n",
    "import numpy as np\n",
    "\n",
    "# Generate synthetic data\n",
    "np.random.seed(42)\n",
    "n_samples, n_features, latent_dim = 100, 5, 2\n",
    "true_W = np.random.randn(n_features, latent_dim)\n",
    "true_Z = np.random.randn(n_samples, latent_dim)\n",
    "noise_variance = 0.1\n",
    "X = true_Z @ true_W.T + np.random.normal(0, np.sqrt(noise_variance), (n_samples, n_features))\n",
    "\n",
    "# PyMC Model for PPCA\n",
    "with pm.Model() as ppca_model:\n",
    "    # Priors\n",
    "    W = pm.Normal(\"W\", mu=0, sigma=1, shape=(n_features, latent_dim))  # Weight matrix\n",
    "    Z = pm.Normal(\"Z\", mu=0, sigma=1, shape=(n_samples, latent_dim))  # Latent variables\n",
    "    sigma = pm.HalfNormal(\"sigma\", sigma=1)  # Noise standard deviation\n",
    "\n",
    "    # Likelihood\n",
    "    X_obs = pm.Normal(\"X_obs\", mu=pm.math.dot(Z, W.T), sigma=sigma, observed=X)\n",
    "\n",
    "    # Inference\n",
    "    trace = pm.sample(1000, return_inferencedata=True) #количество шагов\n",
    "\n",
    "# Extract posterior summaries\n",
    "import arviz as az\n",
    "summary = az.summary(trace)\n",
    "print(summary)"
   ],
   "metadata": {
    "collapsed": false,
    "ExecuteTime": {
     "end_time": "2025-02-02T16:37:45.267576Z",
     "start_time": "2025-02-02T16:37:27.080615Z"
    }
   }
  },
  {
   "cell_type": "code",
   "execution_count": 2,
   "outputs": [
    {
     "name": "stdout",
     "output_type": "stream",
     "text": [
      "PCA Scores (Z): <xarray.DataArray 'Z' (Z_dim_0: 100, Z_dim_1: 2)>\n",
      "array([[-0.19524687,  0.03578691],\n",
      "       [-0.68284733, -0.01924429],\n",
      "       [-0.69080091,  0.15894163],\n",
      "       [-0.08420787,  0.09505976],\n",
      "       [-0.62327488,  0.12731822],\n",
      "       [ 0.08571   , -0.13665498],\n",
      "       [-0.49859769, -0.02349653],\n",
      "       [-0.03176575,  0.03195127],\n",
      "       [-0.04846811,  0.09005837],\n",
      "       [-0.11345605,  0.06812779],\n",
      "       [ 0.53490297,  0.07163584],\n",
      "       [-0.28137353,  0.01879957],\n",
      "       [-0.38928872, -0.09943416],\n",
      "       [-0.64507785, -0.02327861],\n",
      "       [-0.13686325,  0.1700104 ],\n",
      "       [ 0.19883707, -0.06922023],\n",
      "       [-0.12196608,  0.00830767],\n",
      "       [-0.4523775 ,  0.14311902],\n",
      "       [ 0.27109588,  0.03525016],\n",
      "       [-0.4784607 , -0.03527884],\n",
      "...\n",
      "       [-0.43566083,  0.1246813 ],\n",
      "       [ 0.11598248, -0.0029662 ],\n",
      "       [ 0.42400571, -0.02080403],\n",
      "       [ 0.49157972,  0.01076672],\n",
      "       [ 0.972931  ,  0.03251859],\n",
      "       [-0.19088329, -0.03987882],\n",
      "       [ 0.02019678,  0.1318735 ],\n",
      "       [ 0.07341564,  0.02405838],\n",
      "       [ 0.14059002, -0.01792341],\n",
      "       [-0.69288395,  0.07454775],\n",
      "       [ 0.17118545,  0.04379646],\n",
      "       [-0.46269155,  0.037973  ],\n",
      "       [ 0.0096728 , -0.04574189],\n",
      "       [-0.12842916,  0.08618429],\n",
      "       [-0.46931911, -0.03235407],\n",
      "       [ 0.27734524, -0.04892147],\n",
      "       [ 0.66911498, -0.10436581],\n",
      "       [-0.54195499,  0.12024906],\n",
      "       [ 0.27477912, -0.04271302],\n",
      "       [ 1.35918105, -0.01062612]])\n",
      "Coordinates:\n",
      "  * Z_dim_0  (Z_dim_0) int64 0 1 2 3 4 5 6 7 8 9 ... 91 92 93 94 95 96 97 98 99\n",
      "  * Z_dim_1  (Z_dim_1) int64 0 1\n"
     ]
    }
   ],
   "source": [
    "# Get latents\n",
    "Z_mean = trace.posterior[\"Z\"].mean((\"chain\", \"draw\"))\n",
    "print(\"PCA Scores (Z):\", Z_mean)"
   ],
   "metadata": {
    "collapsed": false,
    "ExecuteTime": {
     "end_time": "2025-02-02T16:38:04.616219Z",
     "start_time": "2025-02-02T16:38:04.606068Z"
    }
   }
  },
  {
   "cell_type": "code",
   "execution_count": 3,
   "outputs": [
    {
     "data": {
      "text/plain": "array([[ -0.29050388,  -5.01373011],\n       [ -0.36704571,  -1.91974364],\n       [ -2.21321392, -14.26216955],\n       [ -0.52869237,  -0.26361886],\n       [ -0.15254411,  14.90434332],\n       [  0.71032937,  -5.28352923],\n       [ -0.27855462,   5.33188441],\n       [ -0.56487763,  -1.95835184],\n       [ -2.27094648, -17.06994097],\n       [  0.17070342,   1.98812989]])"
     },
     "execution_count": 3,
     "metadata": {},
     "output_type": "execute_result"
    }
   ],
   "source": [
    "# Project new data\n",
    "\n",
    "W_mean = trace.posterior[\"W\"].mean((\"chain\", \"draw\")).to_numpy()\n",
    "\n",
    "X_new = np.random.randn(10, W_mean.shape[0])  # Shape (10, d), where d = n_features\n",
    "\n",
    "# Compute Z_new (PCA scores for new data)\n",
    "W_cov_inv = np.linalg.inv(W_mean.T @ W_mean)  # (k x k)\n",
    "Z_new = X_new @ W_mean @ W_cov_inv  # Shape (10, k)\n",
    "Z_new"
   ],
   "metadata": {
    "collapsed": false,
    "ExecuteTime": {
     "end_time": "2025-02-02T16:38:10.858088Z",
     "start_time": "2025-02-02T16:38:10.668453Z"
    }
   }
  },
  {
   "cell_type": "markdown",
   "source": [
    "# Supervised PCA"
   ],
   "metadata": {
    "collapsed": false
   }
  },
  {
   "cell_type": "code",
   "execution_count": 4,
   "outputs": [
    {
     "name": "stderr",
     "output_type": "stream",
     "text": [
      "Auto-assigning NUTS sampler...\n",
      "Initializing NUTS using jitter+adapt_diag...\n",
      "Multiprocess sampling (4 chains in 4 jobs)\n",
      "NUTS: [W, Z, sigma, beta, mu_y]\n"
     ]
    },
    {
     "data": {
      "text/plain": "Output()",
      "application/vnd.jupyter.widget-view+json": {
       "version_major": 2,
       "version_minor": 0,
       "model_id": "d2fd4b57f5fc47ef89f5ee026933feab"
      }
     },
     "metadata": {},
     "output_type": "display_data"
    },
    {
     "data": {
      "text/plain": "",
      "text/html": "<pre style=\"white-space:pre;overflow-x:auto;line-height:normal;font-family:Menlo,'DejaVu Sans Mono',consolas,'Courier New',monospace\"></pre>\n"
     },
     "metadata": {},
     "output_type": "display_data"
    },
    {
     "name": "stderr",
     "output_type": "stream",
     "text": [
      "Sampling 4 chains for 1_000 tune and 1_000 draw iterations (4_000 + 4_000 draws total) took 21 seconds.\n",
      "There were 6 divergences after tuning. Increase `target_accept` or reparameterize.\n",
      "The rhat statistic is larger than 1.01 for some parameters. This indicates problems during sampling. See https://arxiv.org/abs/1903.08008 for details\n",
      "The effective sample size per chain is smaller than 100 for some parameters.  A higher number is needed for reliable rhat and ess computation. See https://arxiv.org/abs/1903.08008 for details\n"
     ]
    },
    {
     "name": "stdout",
     "output_type": "stream",
     "text": [
      "             mean     sd  hdi_3%  hdi_97%  mcse_mean  mcse_sd  ess_bulk  \\\n",
      "W[0, 0]     0.071  0.214  -0.342    0.471      0.071    0.052       9.0   \n",
      "W[0, 1]     0.151  0.385  -0.505    0.517      0.181    0.137       6.0   \n",
      "W[1, 0]     0.050  1.549  -1.913    1.880      0.730    0.554       5.0   \n",
      "W[1, 1]    -0.205  0.807  -1.946    1.200      0.280    0.205       8.0   \n",
      "W[2, 0]    -0.027  0.308  -0.372    0.366      0.142    0.108       6.0   \n",
      "...           ...    ...     ...      ...        ...      ...       ...   \n",
      "Z[99, 1]   -0.645  1.900  -3.798    3.153      0.688    0.507       7.0   \n",
      "beta[0, 0]  0.049  1.202  -1.470    1.450      0.566    0.429       6.0   \n",
      "beta[1, 0] -0.136  0.612  -1.477    0.925      0.212    0.156       8.0   \n",
      "mu_y       -0.002  0.012  -0.025    0.021      0.000    0.000    4012.0   \n",
      "sigma       0.100  0.004   0.093    0.106      0.000    0.000    2166.0   \n",
      "\n",
      "            ess_tail  r_hat  \n",
      "W[0, 0]         43.0   1.35  \n",
      "W[0, 1]         28.0   1.96  \n",
      "W[1, 0]         63.0   2.02  \n",
      "W[1, 1]         12.0   1.44  \n",
      "W[2, 0]         87.0   1.75  \n",
      "...              ...    ...  \n",
      "Z[99, 1]        17.0   1.50  \n",
      "beta[0, 0]      71.0   1.98  \n",
      "beta[1, 0]      12.0   1.43  \n",
      "mu_y          2875.0   1.00  \n",
      "sigma         2813.0   1.00  \n",
      "\n",
      "[214 rows x 9 columns]\n"
     ]
    }
   ],
   "source": [
    "# генерируем синтетические данные для Supervised PCA\n",
    "np.random.seed(42)\n",
    "n_samples, n_features, latent_dim = 100, 5, 2\n",
    "true_W = np.random.randn(n_features, latent_dim)\n",
    "true_Z = np.random.randn(n_samples, latent_dim)\n",
    "true_y = true_Z @ np.random.randn(latent_dim, 1) + np.random.normal(0, 0.1, (n_samples, 1))  # целевая переменная\n",
    "X = true_Z @ true_W.T + np.random.normal(0, 0.1, (n_samples, n_features))  # наблюдаемые данные\n",
    "\n",
    "# PyMC Model for Supervised PCA\n",
    "with pm.Model() as spca_model:\n",
    "    W = pm.Normal(\"W\", mu=0, sigma=1, shape=(n_features, latent_dim))  # матрица весов\n",
    "    Z = pm.Normal(\"Z\", mu=0, sigma=1, shape=(n_samples, latent_dim))  # скрытые переменные\n",
    "    sigma = pm.HalfNormal(\"sigma\", sigma=1)  # стандартное отклонение шума\n",
    "    beta = pm.Normal(\"beta\", mu=0, sigma=1, shape=(latent_dim, 1))  # кфы для целевых переменных\n",
    "    mu_y = pm.Normal(\"mu_y\", mu=0, sigma=1)  # смещение для целевых переменных\n",
    "\n",
    "    # ликвидность\n",
    "    X_obs = pm.Normal(\"X_obs\", mu=pm.math.dot(Z, W.T), sigma=sigma, observed=X)\n",
    "    y_obs = pm.Normal(\"y_obs\", mu=pm.math.dot(Z, beta) + mu_y, sigma=sigma, observed=true_y)\n",
    "\n",
    "    # инференс\n",
    "    trace_spca = pm.sample(1000, return_inferencedata=True)\n",
    "\n",
    "# Извлечение постериорных суммарных данных\n",
    "import arviz as az\n",
    "summary_spca = az.summary(trace_spca)\n",
    "print(summary_spca)"
   ],
   "metadata": {
    "collapsed": false,
    "ExecuteTime": {
     "end_time": "2025-02-02T16:39:13.791145Z",
     "start_time": "2025-02-02T16:38:48.849937Z"
    }
   }
  },
  {
   "cell_type": "code",
   "execution_count": 5,
   "outputs": [
    {
     "name": "stdout",
     "output_type": "stream",
     "text": [
      "Supervised PCA Scores (Z): <xarray.DataArray 'Z' (Z_dim_0: 100, Z_dim_1: 2)>\n",
      "array([[-7.62715747e-02, -6.58700590e-02],\n",
      "       [ 7.87481552e-02,  4.44687665e-01],\n",
      "       [-3.20283657e-01, -4.91152823e-01],\n",
      "       [-1.79683001e-01, -3.67135590e-01],\n",
      "       [-1.25881087e-01,  2.83354965e-02],\n",
      "       [ 2.54756964e-01,  4.76272885e-01],\n",
      "       [ 5.75089732e-02,  3.50456563e-01],\n",
      "       [-1.10642823e-01, -2.21017756e-01],\n",
      "       [-2.19219599e-01, -4.54790149e-01],\n",
      "       [-1.05527997e-01, -1.37505854e-01],\n",
      "       [-1.53697064e-01, -5.85325909e-01],\n",
      "       [ 1.93365839e-02,  2.14242949e-01],\n",
      "       [ 1.63102855e-01,  4.84229724e-01],\n",
      "       [ 6.98433334e-02,  4.31182350e-01],\n",
      "       [-2.48572612e-01, -4.73525191e-01],\n",
      "       [ 1.24705368e-01,  1.89770304e-01],\n",
      "       [-1.63715904e-02,  1.44990584e-02],\n",
      "       [-2.52042832e-01, -3.17835658e-01],\n",
      "       [-8.97624128e-02, -3.25705387e-01],\n",
      "       [ 1.10602910e-01,  4.92739602e-01],\n",
      "...\n",
      "       [-1.34163248e-01, -9.96738904e-02],\n",
      "       [-7.16345258e-03, -6.03836241e-02],\n",
      "       [ 2.17755047e-02, -1.12577851e-01],\n",
      "       [-1.72797273e-02, -2.57097867e-01],\n",
      "       [-9.70948110e-02, -6.16148849e-01],\n",
      "       [ 1.21154859e-01,  3.49546567e-01],\n",
      "       [-2.14080107e-01, -4.60292013e-01],\n",
      "       [-5.66168292e-02, -2.17991159e-01],\n",
      "       [ 1.01962040e-01,  1.82341287e-01],\n",
      "       [-1.21135728e-01,  4.67207627e-02],\n",
      "       [-9.27559033e-02, -3.00336365e-01],\n",
      "       [ 8.28095028e-02,  3.63084865e-01],\n",
      "       [ 1.23262323e-02, -4.46793259e-02],\n",
      "       [-1.50638057e-01, -2.83308001e-01],\n",
      "       [ 3.81193759e-02,  2.45233943e-01],\n",
      "       [ 5.72997601e-02,  1.13318839e-02],\n",
      "       [ 1.84253722e-01,  1.51940411e-01],\n",
      "       [-2.09393183e-01, -2.03662911e-01],\n",
      "       [ 7.85905082e-02,  5.35005255e-02],\n",
      "       [ 4.36836657e-03, -6.44794465e-01]])\n",
      "Coordinates:\n",
      "  * Z_dim_0  (Z_dim_0) int64 0 1 2 3 4 5 6 7 8 9 ... 91 92 93 94 95 96 97 98 99\n",
      "  * Z_dim_1  (Z_dim_1) int64 0 1\n"
     ]
    }
   ],
   "source": [
    "# Получаем скрытые переменные (PCA Scores)\n",
    "Z_mean_spca = trace_spca.posterior[\"Z\"].mean((\"chain\", \"draw\"))\n",
    "print(\"Supervised PCA Scores (Z):\", Z_mean_spca)"
   ],
   "metadata": {
    "collapsed": false,
    "ExecuteTime": {
     "end_time": "2025-02-02T16:39:18.256815Z",
     "start_time": "2025-02-02T16:39:18.249303Z"
    }
   }
  },
  {
   "cell_type": "code",
   "execution_count": 6,
   "outputs": [
    {
     "name": "stdout",
     "output_type": "stream",
     "text": [
      "Supervised PCA - Projected Z: [[-5.10237969  0.76022198]\n",
      " [-1.81814873 -1.38118457]\n",
      " [ 6.35274723 -0.20988809]\n",
      " [-7.1058859   2.35408292]\n",
      " [-2.14493512 -1.29980715]\n",
      " [ 3.23227509 -4.49923301]\n",
      " [ 2.65668817 -2.38703935]\n",
      " [-3.13059859  4.43806132]\n",
      " [ 0.47441167 -1.76636804]\n",
      " [-1.83776061  4.39477322]]\n"
     ]
    }
   ],
   "source": [
    "# проектируем новые данные для Supervised PCA\n",
    "W_mean_spca = trace_spca.posterior[\"W\"].mean((\"chain\", \"draw\")).to_numpy()  # получаем среднее W\n",
    "\n",
    "# генерируем новые данные X_new (например, 10 новых наблюдений)\n",
    "X_new_spca = np.random.randn(10, W_mean_spca.shape[0])\n",
    "\n",
    "# вычисляем Z_new (PCA scores для новых данных)\n",
    "W_cov_inv_spca = np.linalg.inv(W_mean_spca.T @ W_mean_spca)  # (k x k), инвертируем ковариационную матрицу\n",
    "Z_new_spca = X_new_spca @ W_mean_spca @ W_cov_inv_spca  # Shape (10, k)\n",
    "print(\"Supervised PCA - Projected Z:\", Z_new_spca)"
   ],
   "metadata": {
    "collapsed": false,
    "ExecuteTime": {
     "end_time": "2025-02-02T16:39:20.545312Z",
     "start_time": "2025-02-02T16:39:20.387257Z"
    }
   }
  },
  {
   "cell_type": "markdown",
   "source": [
    "# PLS"
   ],
   "metadata": {
    "collapsed": false
   }
  },
  {
   "cell_type": "code",
   "execution_count": 7,
   "outputs": [
    {
     "name": "stderr",
     "output_type": "stream",
     "text": [
      "Auto-assigning NUTS sampler...\n",
      "Initializing NUTS using jitter+adapt_diag...\n",
      "Multiprocess sampling (4 chains in 4 jobs)\n",
      "NUTS: [W, Z, sigma, beta, mu_y]\n"
     ]
    },
    {
     "data": {
      "text/plain": "Output()",
      "application/vnd.jupyter.widget-view+json": {
       "version_major": 2,
       "version_minor": 0,
       "model_id": "f643bf486bbb44679fc3b82ec0fcf1c8"
      }
     },
     "metadata": {},
     "output_type": "display_data"
    },
    {
     "data": {
      "text/plain": "",
      "text/html": "<pre style=\"white-space:pre;overflow-x:auto;line-height:normal;font-family:Menlo,'DejaVu Sans Mono',consolas,'Courier New',monospace\"></pre>\n"
     },
     "metadata": {},
     "output_type": "display_data"
    },
    {
     "name": "stderr",
     "output_type": "stream",
     "text": [
      "Sampling 4 chains for 1_000 tune and 1_000 draw iterations (4_000 + 4_000 draws total) took 26 seconds.\n",
      "There were 1 divergences after tuning. Increase `target_accept` or reparameterize.\n",
      "The rhat statistic is larger than 1.01 for some parameters. This indicates problems during sampling. See https://arxiv.org/abs/1903.08008 for details\n",
      "The effective sample size per chain is smaller than 100 for some parameters.  A higher number is needed for reliable rhat and ess computation. See https://arxiv.org/abs/1903.08008 for details\n"
     ]
    },
    {
     "name": "stdout",
     "output_type": "stream",
     "text": [
      "             mean     sd  hdi_3%  hdi_97%  mcse_mean  mcse_sd  ess_bulk  \\\n",
      "W[0, 0]     0.101  0.266  -0.354    0.486      0.105    0.078       7.0   \n",
      "W[0, 1]    -0.318  0.186  -0.535    0.123      0.044    0.032      17.0   \n",
      "W[1, 0]    -0.671  1.228  -1.864    1.699      0.537    0.403       6.0   \n",
      "W[1, 1]     0.137  1.057  -1.688    1.697      0.429    0.319       7.0   \n",
      "W[2, 0]     0.098  0.261  -0.362    0.373      0.117    0.089       6.0   \n",
      "...           ...    ...     ...      ...        ...      ...       ...   \n",
      "Z[99, 1]    0.800  2.199  -3.394    3.767      0.912    0.681       6.0   \n",
      "beta[0, 0] -0.501  0.960  -1.440    1.322      0.423    0.318       6.0   \n",
      "beta[1, 0]  0.059  0.815  -1.320    1.294      0.329    0.245       7.0   \n",
      "mu_y       -0.002  0.012  -0.025    0.019      0.000    0.000    3345.0   \n",
      "sigma       0.100  0.004   0.093    0.107      0.000    0.000    1711.0   \n",
      "\n",
      "            ess_tail  r_hat  \n",
      "W[0, 0]         24.0   1.53  \n",
      "W[0, 1]         59.0   1.20  \n",
      "W[1, 0]         29.0   1.71  \n",
      "W[1, 1]         33.0   1.60  \n",
      "W[2, 0]         27.0   1.93  \n",
      "...              ...    ...  \n",
      "Z[99, 1]        22.0   1.66  \n",
      "beta[0, 0]      31.0   1.73  \n",
      "beta[1, 0]      32.0   1.59  \n",
      "mu_y          2746.0   1.00  \n",
      "sigma         2148.0   1.00  \n",
      "\n",
      "[214 rows x 9 columns]\n"
     ]
    }
   ],
   "source": [
    "# генерируем синтетические данные для PLS\n",
    "np.random.seed(42)\n",
    "n_samples, n_features, latent_dim = 100, 5, 2\n",
    "true_W_pls = np.random.randn(n_features, latent_dim)\n",
    "true_Z_pls = np.random.randn(n_samples, latent_dim)\n",
    "true_y_pls = true_Z_pls @ np.random.randn(latent_dim, 1) + np.random.normal(0, 0.1, (n_samples, 1))  # целевая переменная\n",
    "X_pls = true_Z_pls @ true_W_pls.T + np.random.normal(0, 0.1, (n_samples, n_features))  # наблюдаемые данные\n",
    "\n",
    "# PyMC Model for Partial Least Squares (PLS)\n",
    "with pm.Model() as pls_model:\n",
    "    # Priors\n",
    "    W_pls = pm.Normal(\"W\", mu=0, sigma=1, shape=(n_features, latent_dim))  # матрица весов\n",
    "    Z_pls = pm.Normal(\"Z\", mu=0, sigma=1, shape=(n_samples, latent_dim))  # скрытые переменные\n",
    "    sigma_pls = pm.HalfNormal(\"sigma\", sigma=1)  # стандартное отклонение шума\n",
    "    beta_pls = pm.Normal(\"beta\", mu=0, sigma=1, shape=(latent_dim, 1))  # кфы для целевых переменных\n",
    "    mu_y_pls = pm.Normal(\"mu_y\", mu=0, sigma=1)  # смещение для целевых переменных\n",
    "\n",
    "    # ликвидность\n",
    "    X_obs_pls = pm.Normal(\"X_obs\", mu=pm.math.dot(Z_pls, W_pls.T), sigma=sigma_pls, observed=X_pls)\n",
    "    y_obs_pls = pm.Normal(\"y_obs\", mu=pm.math.dot(Z_pls, beta_pls) + mu_y_pls, sigma=sigma_pls, observed=true_y_pls)\n",
    "\n",
    "    # инференс\n",
    "    trace_pls = pm.sample(1000, return_inferencedata=True)\n",
    "\n",
    "\n",
    "# извлечение постериорных суммарных данных\n",
    "summary_pls = az.summary(trace_pls)\n",
    "print(summary_pls)"
   ],
   "metadata": {
    "collapsed": false,
    "ExecuteTime": {
     "end_time": "2025-02-02T16:39:54.764037Z",
     "start_time": "2025-02-02T16:39:23.469683Z"
    }
   }
  },
  {
   "cell_type": "code",
   "execution_count": 8,
   "outputs": [
    {
     "name": "stdout",
     "output_type": "stream",
     "text": [
      "PLS Scores (Z): <xarray.DataArray 'Z' (Z_dim_0: 100, Z_dim_1: 2)>\n",
      "array([[ 0.11368726,  0.22538157],\n",
      "       [ 0.77084308, -0.7016099 ],\n",
      "       [-0.0163133 ,  1.20854003],\n",
      "       [-0.22511765,  0.79132643],\n",
      "       [ 0.50936592,  0.19352608],\n",
      "       [ 0.21939069, -1.06580368],\n",
      "       [ 0.62286941, -0.54591758],\n",
      "       [-0.12220157,  0.47961189],\n",
      "       [-0.29233559,  0.97532673],\n",
      "       [ 0.04993754,  0.36722882],\n",
      "       [-0.82971386,  1.02120058],\n",
      "       [ 0.4325448 , -0.30166422],\n",
      "       [ 0.55732864, -0.90685023],\n",
      "       [ 0.76540327, -0.67217685],\n",
      "       [-0.229486  ,  1.05747003],\n",
      "       [ 0.00291643, -0.46674412],\n",
      "       [ 0.0993135 ,  0.01530416],\n",
      "       [ 0.14328781,  0.86806967],\n",
      "       [-0.4417937 ,  0.57523787],\n",
      "       [ 0.76303771, -0.8212977 ],\n",
      "...\n",
      "       [ 0.24133346,  0.37258768],\n",
      "       [-0.11771253,  0.08347472],\n",
      "       [-0.33692861,  0.10309403],\n",
      "       [-0.54939853,  0.35261369],\n",
      "       [-1.09996178,  0.95345262],\n",
      "       [ 0.39063004, -0.66135439],\n",
      "       [-0.32881265,  0.97096421],\n",
      "       [-0.30450992,  0.37129052],\n",
      "       [ 0.07325329, -0.41772203],\n",
      "       [ 0.53751551,  0.16410934],\n",
      "       [-0.37873758,  0.54847428],\n",
      "       [ 0.55926712, -0.60797134],\n",
      "       [-0.15014894,  0.03023949],\n",
      "       [-0.12922891,  0.63493768],\n",
      "       [ 0.44356326, -0.37648569],\n",
      "       [-0.17754401, -0.12339179],\n",
      "       [-0.28706467, -0.5350201 ],\n",
      "       [ 0.26425911,  0.6399481 ],\n",
      "       [-0.1504827 , -0.21383187],\n",
      "       [-1.53202224,  0.80008239]])\n",
      "Coordinates:\n",
      "  * Z_dim_0  (Z_dim_0) int64 0 1 2 3 4 5 6 7 8 9 ... 91 92 93 94 95 96 97 98 99\n",
      "  * Z_dim_1  (Z_dim_1) int64 0 1\n"
     ]
    }
   ],
   "source": [
    "# получаем скрытые переменные (PCA Scores)\n",
    "Z_mean_pls = trace_pls.posterior[\"Z\"].mean((\"chain\", \"draw\"))\n",
    "print(\"PLS Scores (Z):\", Z_mean_pls)"
   ],
   "metadata": {
    "collapsed": false,
    "ExecuteTime": {
     "end_time": "2025-02-02T16:40:43.338176Z",
     "start_time": "2025-02-02T16:40:43.327799Z"
    }
   }
  },
  {
   "cell_type": "code",
   "execution_count": 9,
   "outputs": [
    {
     "name": "stdout",
     "output_type": "stream",
     "text": [
      "PLS - Projected Z: [[ 0.82934694  1.05157958]\n",
      " [-0.07171634  1.04111637]\n",
      " [-0.87001138 -1.60935822]\n",
      " [ 1.44472947  0.94398891]\n",
      " [-0.00927304  1.09720955]\n",
      " [-1.42164735  0.95441025]\n",
      " [-0.8751863   0.25594804]\n",
      " [ 1.3924251  -0.95812258]\n",
      " [-0.45549468  0.58612098]\n",
      " [ 1.21762418 -1.28369111]]\n"
     ]
    }
   ],
   "source": [
    "# проектируем новые данные для Partial Least Squares (PLS)\n",
    "W_mean_pls = trace_pls.posterior[\"W\"].mean((\"chain\", \"draw\")).to_numpy()  # получаем среднее W\n",
    "\n",
    "# генерируем новые данные X_new для PLS\n",
    "X_new_pls = np.random.randn(10, W_mean_pls.shape[0])\n",
    "\n",
    "# вычисляем Z_new (PLS scores для новых данных)\n",
    "W_cov_inv_pls = np.linalg.inv(W_mean_pls.T @ W_mean_pls)  # (k x k), инвертируем ковариационную матрицу\n",
    "Z_new_pls = X_new_pls @ W_mean_pls @ W_cov_inv_pls  # Shape (10, k)\n",
    "print(\"PLS - Projected Z:\", Z_new_pls)"
   ],
   "metadata": {
    "collapsed": false,
    "ExecuteTime": {
     "end_time": "2025-02-02T16:40:46.267863Z",
     "start_time": "2025-02-02T16:40:46.229891Z"
    }
   }
  },
  {
   "cell_type": "markdown",
   "source": [
    "# CCA"
   ],
   "metadata": {
    "collapsed": false
   }
  },
  {
   "cell_type": "code",
   "execution_count": 10,
   "outputs": [
    {
     "name": "stderr",
     "output_type": "stream",
     "text": [
      "Auto-assigning NUTS sampler...\n",
      "Initializing NUTS using jitter+adapt_diag...\n",
      "Multiprocess sampling (4 chains in 4 jobs)\n",
      "NUTS: [W_x, W_y, Z_cc, sigma]\n"
     ]
    },
    {
     "data": {
      "text/plain": "Output()",
      "application/vnd.jupyter.widget-view+json": {
       "version_major": 2,
       "version_minor": 0,
       "model_id": "c51378cf3f4846768b3c5640319e39f5"
      }
     },
     "metadata": {},
     "output_type": "display_data"
    },
    {
     "data": {
      "text/plain": "",
      "text/html": "<pre style=\"white-space:pre;overflow-x:auto;line-height:normal;font-family:Menlo,'DejaVu Sans Mono',consolas,'Courier New',monospace\"></pre>\n"
     },
     "metadata": {},
     "output_type": "display_data"
    },
    {
     "name": "stderr",
     "output_type": "stream",
     "text": [
      "Sampling 4 chains for 1_000 tune and 1_000 draw iterations (4_000 + 4_000 draws total) took 28 seconds.\n",
      "There were 27 divergences after tuning. Increase `target_accept` or reparameterize.\n",
      "Chain 3 reached the maximum tree depth. Increase `max_treedepth`, increase `target_accept` or reparameterize.\n",
      "The rhat statistic is larger than 1.01 for some parameters. This indicates problems during sampling. See https://arxiv.org/abs/1903.08008 for details\n",
      "The effective sample size per chain is smaller than 100 for some parameters.  A higher number is needed for reliable rhat and ess computation. See https://arxiv.org/abs/1903.08008 for details\n"
     ]
    },
    {
     "name": "stdout",
     "output_type": "stream",
     "text": [
      "              mean     sd  hdi_3%  hdi_97%  mcse_mean  mcse_sd  ess_bulk  \\\n",
      "W_x[0, 0]   -0.084  0.334  -0.480    0.477      0.145    0.109       6.0   \n",
      "W_x[0, 1]   -0.185  0.240  -0.531    0.226      0.045    0.045      28.0   \n",
      "W_x[1, 0]   -0.112  1.144  -1.778    1.730      0.389    0.285      10.0   \n",
      "W_x[1, 1]    0.257  1.286  -1.791    1.817      0.562    0.422       6.0   \n",
      "W_x[2, 0]    0.042  0.234  -0.345    0.360      0.085    0.063       8.0   \n",
      "...            ...    ...     ...      ...        ...      ...       ...   \n",
      "Z_cc[98, 0]  0.089  0.595  -0.837    0.920      0.230    0.171       7.0   \n",
      "Z_cc[98, 1]  0.348  0.517  -0.665    0.971      0.184    0.135      10.0   \n",
      "Z_cc[99, 0]  0.184  0.701  -0.956    1.042      0.296    0.221       6.0   \n",
      "Z_cc[99, 1]  0.253  0.601  -0.831    1.069      0.196    0.143      11.0   \n",
      "sigma        0.099  0.003   0.094    0.104      0.000    0.000    1633.0   \n",
      "\n",
      "             ess_tail  r_hat  \n",
      "W_x[0, 0]        46.0   1.68  \n",
      "W_x[0, 1]        23.0   1.09  \n",
      "W_x[1, 0]        33.0   1.33  \n",
      "W_x[1, 1]        49.0   1.73  \n",
      "W_x[2, 0]        29.0   1.40  \n",
      "...               ...    ...  \n",
      "Z_cc[98, 0]      45.0   1.51  \n",
      "Z_cc[98, 1]      54.0   1.33  \n",
      "Z_cc[99, 0]      32.0   1.69  \n",
      "Z_cc[99, 1]      89.0   1.26  \n",
      "sigma          2079.0   1.00  \n",
      "\n",
      "[219 rows x 9 columns]\n"
     ]
    }
   ],
   "source": [
    "# генерируем синтетические данные для CCA\n",
    "np.random.seed(42)\n",
    "n_samples, n_features_x, n_features_y, latent_dim = 100, 5, 4, 2\n",
    "true_W_x = np.random.randn(n_features_x, latent_dim)\n",
    "true_W_y = np.random.randn(n_features_y, latent_dim)\n",
    "true_Z_cc = np.random.randn(n_samples, latent_dim)\n",
    "true_X = true_Z_cc @ true_W_x.T + np.random.normal(0, 0.1, (n_samples, n_features_x))  # наблюдаемые данные X\n",
    "true_Y = true_Z_cc @ true_W_y.T + np.random.normal(0, 0.1, (n_samples, n_features_y))  # наблюдаемые данные Y\n",
    "\n",
    "# PyMC Model for Canonical Correlation Analysis (CCA)\n",
    "with pm.Model() as cca_model:\n",
    "    W_x = pm.Normal(\"W_x\", mu=0, sigma=1, shape=(n_features_x, latent_dim))  # матрица весов для X\n",
    "    W_y = pm.Normal(\"W_y\", mu=0, sigma=1, shape=(n_features_y, latent_dim))  # матрица весов для Y\n",
    "    Z_cc = pm.Normal(\"Z_cc\", mu=0, sigma=1, shape=(n_samples, latent_dim))  # скрытые переменные\n",
    "    sigma_cc = pm.HalfNormal(\"sigma\", sigma=1)  # стандартное отклонение шума\n",
    "\n",
    "    X_obs_cc = pm.Normal(\"X_obs\", mu=pm.math.dot(Z_cc, W_x.T), sigma=sigma_cc, observed=true_X)\n",
    "    Y_obs_cc = pm.Normal(\"Y_obs\", mu=pm.math.dot(Z_cc, W_y.T), sigma=sigma_cc, observed=true_Y)\n",
    "\n",
    "    # инференс\n",
    "    trace_cca = pm.sample(1000, return_inferencedata=True)\n",
    "\n",
    "# извлечение постериорных суммарных данных для CCA\n",
    "summary_cca = az.summary(trace_cca)\n",
    "print(summary_cca)"
   ],
   "metadata": {
    "collapsed": false,
    "ExecuteTime": {
     "end_time": "2025-02-02T16:41:23.071517Z",
     "start_time": "2025-02-02T16:40:50.252240Z"
    }
   }
  },
  {
   "cell_type": "code",
   "execution_count": 11,
   "outputs": [
    {
     "name": "stdout",
     "output_type": "stream",
     "text": [
      "CCA Scores (Z): <xarray.DataArray 'Z_cc' (Z_cc_dim_0: 100, Z_cc_dim_1: 2)>\n",
      "array([[ 1.95760592e-01, -1.37428973e-02],\n",
      "       [-3.38239233e-01, -6.45917011e-01],\n",
      "       [-3.87098244e-02, -4.17973662e-01],\n",
      "       [ 1.33920108e-01,  2.69427054e-01],\n",
      "       [ 2.72178817e-01,  5.65331020e-01],\n",
      "       [ 1.16860982e-01,  1.08042348e-01],\n",
      "       [ 1.54812834e-01,  7.29402703e-01],\n",
      "       [-2.52785943e-02, -3.07568247e-01],\n",
      "       [-2.06751708e-01, -6.50495778e-01],\n",
      "       [-8.38379272e-02, -6.49679009e-01],\n",
      "       [ 3.09470373e-01,  5.78999215e-01],\n",
      "       [-1.61707131e-01, -2.47034097e-01],\n",
      "       [ 2.14717931e-02, -4.26267351e-02],\n",
      "       [ 3.38775801e-01,  4.25132000e-01],\n",
      "       [ 1.19642004e-01,  4.70724990e-01],\n",
      "       [-1.09340155e-01, -6.28861857e-01],\n",
      "       [-7.14653751e-02, -2.15832782e-01],\n",
      "       [ 1.45573505e-01,  3.93939003e-01],\n",
      "       [-2.30341030e-01, -1.69327886e-01],\n",
      "       [ 1.78954163e-01,  2.33715323e-01],\n",
      "...\n",
      "       [ 9.59394051e-02,  8.36334736e-01],\n",
      "       [-1.48418582e-01, -4.60734317e-01],\n",
      "       [ 2.58677638e-01,  5.85999211e-01],\n",
      "       [ 5.92660949e-02,  2.72254206e-01],\n",
      "       [-1.06656220e-01, -1.98249385e-01],\n",
      "       [ 1.83042204e-01, -6.51840593e-02],\n",
      "       [ 1.08269844e-01,  4.09255937e-01],\n",
      "       [-6.81946971e-02, -4.18406135e-01],\n",
      "       [-3.94665333e-02,  2.08098976e-02],\n",
      "       [ 1.99920215e-01,  3.86230501e-01],\n",
      "       [-1.72193159e-02, -3.16830087e-01],\n",
      "       [-6.75182664e-02,  4.36594901e-03],\n",
      "       [-2.33677763e-01, -1.43769378e-01],\n",
      "       [ 3.05398726e-01,  2.87881169e-01],\n",
      "       [-1.26061246e-01, -9.51559504e-02],\n",
      "       [-8.43092400e-02,  7.97607138e-01],\n",
      "       [-1.20674928e-01,  6.74017450e-02],\n",
      "       [-1.88721356e-01, -1.55169682e-01],\n",
      "       [ 8.90378040e-02,  3.47933266e-01],\n",
      "       [ 1.83528167e-01,  2.53111296e-01]])\n",
      "Coordinates:\n",
      "  * Z_cc_dim_0  (Z_cc_dim_0) int64 0 1 2 3 4 5 6 7 8 ... 92 93 94 95 96 97 98 99\n",
      "  * Z_cc_dim_1  (Z_cc_dim_1) int64 0 1\n"
     ]
    }
   ],
   "source": [
    "# получаем скрытые переменные (CCA Scores)\n",
    "Z_mean_cca = trace_cca.posterior[\"Z_cc\"].mean((\"chain\", \"draw\"))\n",
    "print(\"CCA Scores (Z):\", Z_mean_cca)"
   ],
   "metadata": {
    "collapsed": false,
    "ExecuteTime": {
     "end_time": "2025-02-02T16:44:36.924762Z",
     "start_time": "2025-02-02T16:44:36.912913Z"
    }
   }
  },
  {
   "cell_type": "code",
   "execution_count": 12,
   "outputs": [
    {
     "name": "stdout",
     "output_type": "stream",
     "text": [
      "CCA - Projected Z for X: [[-5.12028937  2.15996226]\n",
      " [-4.85207028  2.7918088 ]\n",
      " [-1.80562497  2.5605011 ]\n",
      " [-2.02258471 -2.64786877]\n",
      " [-5.61500148  0.48032508]\n",
      " [ 3.3076212  -2.04763165]\n",
      " [ 6.47475177 -2.81812604]\n",
      " [-1.31754247  6.57423623]\n",
      " [-6.73401847 -2.94887844]\n",
      " [-4.11012743  2.95305918]]\n",
      "CCA - Projected Z for Y: [[ 4.89247451 -1.66023165]\n",
      " [-2.45019444  0.20693743]\n",
      " [-6.00246065  0.65852092]\n",
      " [ 4.30781041 -3.01005908]\n",
      " [-2.24164103 -0.89352952]\n",
      " [-2.27543163  0.84682058]\n",
      " [-4.24310646  0.34641681]\n",
      " [ 3.00520583 -0.47213467]\n",
      " [ 0.10615488  0.76125885]\n",
      " [-2.49751198 -0.0752903 ]]\n"
     ]
    }
   ],
   "source": [
    "# проектируем новые данные для Canonical Correlation Analysis (CCA)\n",
    "W_mean_x = trace_cca.posterior[\"W_x\"].mean((\"chain\", \"draw\")).to_numpy()  # получаем среднее W для X\n",
    "W_mean_y = trace_cca.posterior[\"W_y\"].mean((\"chain\", \"draw\")).to_numpy()  # получаем среднее W для Y\n",
    "\n",
    "# генерируем новые данные X_new и Y_new для CCA\n",
    "X_new_cca = np.random.randn(10, W_mean_x.shape[0])  # Shape (10, n_features_x)\n",
    "Y_new_cca = np.random.randn(10, W_mean_y.shape[0])  # Shape (10, n_features_y)\n",
    "\n",
    "# вычисляем Z_new (CCA scores для новых данных)\n",
    "W_cov_inv_x = np.linalg.inv(W_mean_x.T @ W_mean_x)  # (k x k), инвертируем ковариационную матрицу для X\n",
    "Z_new_x_cca = X_new_cca @ W_mean_x @ W_cov_inv_x  # Shape (10, k)\n",
    "\n",
    "W_cov_inv_y = np.linalg.inv(W_mean_y.T @ W_mean_y)  # (k x k), инвертируем ковариационную матрицу для Y\n",
    "Z_new_y_cca = Y_new_cca @ W_mean_y @ W_cov_inv_y  # Shape (10, k)\n",
    "\n",
    "print(\"CCA - Projected Z for X:\", Z_new_x_cca)\n",
    "print(\"CCA - Projected Z for Y:\", Z_new_y_cca)"
   ],
   "metadata": {
    "collapsed": false,
    "ExecuteTime": {
     "end_time": "2025-02-02T16:44:39.523699Z",
     "start_time": "2025-02-02T16:44:39.447575Z"
    }
   }
  },
  {
   "cell_type": "markdown",
   "source": [
    "# Дополнительно:\n",
    "попробуйте сравнить для нескольких датасетов, как работает PCA и Supervised PCA для уменьшения размерности и последующего обучения supervised моделей."
   ],
   "metadata": {
    "collapsed": false
   }
  },
  {
   "cell_type": "code",
   "execution_count": 13,
   "outputs": [],
   "source": [
    "import pymc as pm\n",
    "import numpy as np\n",
    "import pandas as pd\n",
    "from sklearn.decomposition import PCA\n",
    "from sklearn.linear_model import LogisticRegression\n",
    "from sklearn.model_selection import train_test_split\n",
    "from sklearn.metrics import accuracy_score\n",
    "import arviz as az"
   ],
   "metadata": {
    "collapsed": false,
    "ExecuteTime": {
     "end_time": "2025-02-02T16:44:44.570745Z",
     "start_time": "2025-02-02T16:44:44.249274Z"
    }
   }
  },
  {
   "cell_type": "markdown",
   "source": [
    "Сгенерируем данные для датасетов"
   ],
   "metadata": {
    "collapsed": false
   }
  },
  {
   "cell_type": "code",
   "execution_count": 14,
   "outputs": [],
   "source": [
    "n_samples, n_features, latent_dim = 100, 5, 2\n",
    "\n",
    "# генерируем 3 разных набора данных\n",
    "datasets = []\n",
    "for _ in range(3):\n",
    "    true_W = np.random.randn(n_features, latent_dim)\n",
    "    true_Z = np.random.randn(n_samples, latent_dim)\n",
    "    true_y = true_Z @ np.random.randn(latent_dim, 1) + np.random.normal(0, 0.1, (n_samples, 1))  # целевая переменная\n",
    "    X = true_Z @ true_W.T + np.random.normal(0, 0.1, (n_samples, n_features))  # наблюдаемые данные\n",
    "    y = (true_y > 0).astype(int)  # бинарная целевая переменная (классификация)\n",
    "    datasets.append((X, y))"
   ],
   "metadata": {
    "collapsed": false,
    "ExecuteTime": {
     "end_time": "2025-02-02T16:44:49.415371Z",
     "start_time": "2025-02-02T16:44:49.406293Z"
    }
   }
  },
  {
   "cell_type": "code",
   "execution_count": 19,
   "outputs": [],
   "source": [
    "def evaluate_model(X_train, X_test, y_train, y_test):\n",
    "    logreg = LogisticRegression()\n",
    "\n",
    "    with pm.Model() as pca_model:\n",
    "        W = pm.Normal(\"W\", mu=0, sigma=1, shape=(n_features, latent_dim))  # Weight matrix\n",
    "        Z = pm.Normal(\"Z\", mu=0, sigma=1, shape=(n_samples, latent_dim))  # Latent variables\n",
    "        sigma = pm.HalfNormal(\"sigma\", sigma=1)  # Noise standard deviation\n",
    "        X_obs = pm.Normal(\"X_obs\", mu=pm.math.dot(Z, W.T), sigma=sigma, observed=X)\n",
    "\n",
    "        trace_pca = pm.sample(500, return_inferencedata=True)\n",
    "\n",
    "    Z_mean_pca = trace_pca.posterior[\"Z\"].mean((\"chain\", \"draw\"))\n",
    "\n",
    "    # преобразуем данные для обучения\n",
    "    X_train_pca = Z_mean_pca[:len(X_train), :]\n",
    "    X_test_pca = Z_mean_pca[len(X_train):, :]\n",
    "\n",
    "    # обучаем модель на сниженной размерности\n",
    "    logreg.fit(X_train_pca, y_train)\n",
    "    y_pred_pca = logreg.predict(X_test_pca)\n",
    "\n",
    "    # Supervised PCA\n",
    "    with pm.Model() as spca_model:\n",
    "        W = pm.Normal(\"W\", mu=0, sigma=1, shape=(n_features, latent_dim))\n",
    "        Z = pm.Normal(\"Z\", mu=0, sigma=1, shape=(n_samples, latent_dim))\n",
    "        sigma = pm.HalfNormal(\"sigma\", sigma=1)\n",
    "        beta = pm.Normal(\"beta\", mu=0, sigma=1, shape=(latent_dim, 1))\n",
    "        mu_y = pm.Normal(\"mu_y\", mu=0, sigma=1)\n",
    "\n",
    "        X_obs = pm.Normal(\"X_obs\", mu=pm.math.dot(Z, W.T), sigma=sigma, observed=X)\n",
    "        y_obs = pm.Normal(\"y_obs\", mu=pm.math.dot(Z, beta) + mu_y, sigma=sigma, observed=true_y)\n",
    "\n",
    "        trace_spca = pm.sample(500, return_inferencedata=True)\n",
    "\n",
    "    Z_mean_spca = trace_spca.posterior[\"Z\"].mean((\"chain\", \"draw\"))\n",
    "\n",
    "    # преобразуем данные для обучения\n",
    "    X_train_spca = Z_mean_spca[:len(X_train), :]\n",
    "    X_test_spca = Z_mean_spca[len(X_train):, :]\n",
    "\n",
    "    # обучаем модель на сниженной размерности\n",
    "    logreg.fit(X_train_spca, y_train)\n",
    "    y_pred_spca = logreg.predict(X_test_spca)\n",
    "\n",
    "    accuracy_pca = accuracy_score(y_test, y_pred_pca)\n",
    "    accuracy_spca = accuracy_score(y_test, y_pred_spca)\n",
    "\n",
    "    return accuracy_pca, accuracy_spca"
   ],
   "metadata": {
    "collapsed": false,
    "ExecuteTime": {
     "end_time": "2025-02-02T16:50:03.925615Z",
     "start_time": "2025-02-02T16:50:03.911571Z"
    }
   }
  },
  {
   "cell_type": "code",
   "execution_count": 21,
   "outputs": [
    {
     "name": "stderr",
     "output_type": "stream",
     "text": [
      "Auto-assigning NUTS sampler...\n",
      "Initializing NUTS using jitter+adapt_diag...\n",
      "Multiprocess sampling (4 chains in 4 jobs)\n",
      "NUTS: [W, Z, sigma]\n"
     ]
    },
    {
     "data": {
      "text/plain": "Output()",
      "application/vnd.jupyter.widget-view+json": {
       "version_major": 2,
       "version_minor": 0,
       "model_id": "91b33f75bd3143e5901668eba9c17808"
      }
     },
     "metadata": {},
     "output_type": "display_data"
    },
    {
     "data": {
      "text/plain": "",
      "text/html": "<pre style=\"white-space:pre;overflow-x:auto;line-height:normal;font-family:Menlo,'DejaVu Sans Mono',consolas,'Courier New',monospace\"></pre>\n"
     },
     "metadata": {},
     "output_type": "display_data"
    },
    {
     "name": "stderr",
     "output_type": "stream",
     "text": [
      "Sampling 4 chains for 1_000 tune and 500 draw iterations (4_000 + 2_000 draws total) took 12 seconds.\n",
      "There were 500 divergences after tuning. Increase `target_accept` or reparameterize.\n",
      "The rhat statistic is larger than 1.01 for some parameters. This indicates problems during sampling. See https://arxiv.org/abs/1903.08008 for details\n",
      "The effective sample size per chain is smaller than 100 for some parameters.  A higher number is needed for reliable rhat and ess computation. See https://arxiv.org/abs/1903.08008 for details\n",
      "/Users/elizabeth/anaconda3/lib/python3.11/site-packages/sklearn/utils/validation.py:1300: DataConversionWarning: A column-vector y was passed when a 1d array was expected. Please change the shape of y to (n_samples, ), for example using ravel().\n",
      "  y = column_or_1d(y, warn=True)\n",
      "Auto-assigning NUTS sampler...\n",
      "Initializing NUTS using jitter+adapt_diag...\n",
      "Multiprocess sampling (4 chains in 4 jobs)\n",
      "NUTS: [W, Z, sigma, beta, mu_y]\n"
     ]
    },
    {
     "data": {
      "text/plain": "Output()",
      "application/vnd.jupyter.widget-view+json": {
       "version_major": 2,
       "version_minor": 0,
       "model_id": "95b1cdc1cd3045c0aba3352107e31579"
      }
     },
     "metadata": {},
     "output_type": "display_data"
    },
    {
     "data": {
      "text/plain": "",
      "text/html": "<pre style=\"white-space:pre;overflow-x:auto;line-height:normal;font-family:Menlo,'DejaVu Sans Mono',consolas,'Courier New',monospace\"></pre>\n"
     },
     "metadata": {},
     "output_type": "display_data"
    },
    {
     "name": "stderr",
     "output_type": "stream",
     "text": [
      "Sampling 4 chains for 1_000 tune and 500 draw iterations (4_000 + 2_000 draws total) took 5 seconds.\n",
      "There were 9 divergences after tuning. Increase `target_accept` or reparameterize.\n",
      "The rhat statistic is larger than 1.01 for some parameters. This indicates problems during sampling. See https://arxiv.org/abs/1903.08008 for details\n",
      "The effective sample size per chain is smaller than 100 for some parameters.  A higher number is needed for reliable rhat and ess computation. See https://arxiv.org/abs/1903.08008 for details\n",
      "/Users/elizabeth/anaconda3/lib/python3.11/site-packages/sklearn/utils/validation.py:1300: DataConversionWarning: A column-vector y was passed when a 1d array was expected. Please change the shape of y to (n_samples, ), for example using ravel().\n",
      "  y = column_or_1d(y, warn=True)\n",
      "Auto-assigning NUTS sampler...\n",
      "Initializing NUTS using jitter+adapt_diag...\n",
      "Multiprocess sampling (4 chains in 4 jobs)\n",
      "NUTS: [W, Z, sigma]\n"
     ]
    },
    {
     "data": {
      "text/plain": "Output()",
      "application/vnd.jupyter.widget-view+json": {
       "version_major": 2,
       "version_minor": 0,
       "model_id": "2d53073fa87c42ab86976125659cc9a6"
      }
     },
     "metadata": {},
     "output_type": "display_data"
    },
    {
     "data": {
      "text/plain": "",
      "text/html": "<pre style=\"white-space:pre;overflow-x:auto;line-height:normal;font-family:Menlo,'DejaVu Sans Mono',consolas,'Courier New',monospace\"></pre>\n"
     },
     "metadata": {},
     "output_type": "display_data"
    },
    {
     "name": "stderr",
     "output_type": "stream",
     "text": [
      "Sampling 4 chains for 1_000 tune and 500 draw iterations (4_000 + 2_000 draws total) took 18 seconds.\n",
      "There were 730 divergences after tuning. Increase `target_accept` or reparameterize.\n",
      "The rhat statistic is larger than 1.01 for some parameters. This indicates problems during sampling. See https://arxiv.org/abs/1903.08008 for details\n",
      "The effective sample size per chain is smaller than 100 for some parameters.  A higher number is needed for reliable rhat and ess computation. See https://arxiv.org/abs/1903.08008 for details\n",
      "/Users/elizabeth/anaconda3/lib/python3.11/site-packages/sklearn/utils/validation.py:1300: DataConversionWarning: A column-vector y was passed when a 1d array was expected. Please change the shape of y to (n_samples, ), for example using ravel().\n",
      "  y = column_or_1d(y, warn=True)\n",
      "Auto-assigning NUTS sampler...\n",
      "Initializing NUTS using jitter+adapt_diag...\n",
      "Multiprocess sampling (4 chains in 4 jobs)\n",
      "NUTS: [W, Z, sigma, beta, mu_y]\n"
     ]
    },
    {
     "data": {
      "text/plain": "Output()",
      "application/vnd.jupyter.widget-view+json": {
       "version_major": 2,
       "version_minor": 0,
       "model_id": "238facd7a07a417eac1e1557de325957"
      }
     },
     "metadata": {},
     "output_type": "display_data"
    },
    {
     "data": {
      "text/plain": "",
      "text/html": "<pre style=\"white-space:pre;overflow-x:auto;line-height:normal;font-family:Menlo,'DejaVu Sans Mono',consolas,'Courier New',monospace\"></pre>\n"
     },
     "metadata": {},
     "output_type": "display_data"
    },
    {
     "name": "stderr",
     "output_type": "stream",
     "text": [
      "Sampling 4 chains for 1_000 tune and 500 draw iterations (4_000 + 2_000 draws total) took 7 seconds.\n",
      "There were 461 divergences after tuning. Increase `target_accept` or reparameterize.\n",
      "The rhat statistic is larger than 1.01 for some parameters. This indicates problems during sampling. See https://arxiv.org/abs/1903.08008 for details\n",
      "The effective sample size per chain is smaller than 100 for some parameters.  A higher number is needed for reliable rhat and ess computation. See https://arxiv.org/abs/1903.08008 for details\n",
      "/Users/elizabeth/anaconda3/lib/python3.11/site-packages/sklearn/utils/validation.py:1300: DataConversionWarning: A column-vector y was passed when a 1d array was expected. Please change the shape of y to (n_samples, ), for example using ravel().\n",
      "  y = column_or_1d(y, warn=True)\n",
      "Auto-assigning NUTS sampler...\n",
      "Initializing NUTS using jitter+adapt_diag...\n",
      "Multiprocess sampling (4 chains in 4 jobs)\n",
      "NUTS: [W, Z, sigma]\n"
     ]
    },
    {
     "data": {
      "text/plain": "Output()",
      "application/vnd.jupyter.widget-view+json": {
       "version_major": 2,
       "version_minor": 0,
       "model_id": "9bada240c74f400f93a9998caf46bb63"
      }
     },
     "metadata": {},
     "output_type": "display_data"
    },
    {
     "data": {
      "text/plain": "",
      "text/html": "<pre style=\"white-space:pre;overflow-x:auto;line-height:normal;font-family:Menlo,'DejaVu Sans Mono',consolas,'Courier New',monospace\"></pre>\n"
     },
     "metadata": {},
     "output_type": "display_data"
    },
    {
     "name": "stderr",
     "output_type": "stream",
     "text": [
      "Sampling 4 chains for 1_000 tune and 500 draw iterations (4_000 + 2_000 draws total) took 16 seconds.\n",
      "There were 522 divergences after tuning. Increase `target_accept` or reparameterize.\n",
      "The rhat statistic is larger than 1.01 for some parameters. This indicates problems during sampling. See https://arxiv.org/abs/1903.08008 for details\n",
      "The effective sample size per chain is smaller than 100 for some parameters.  A higher number is needed for reliable rhat and ess computation. See https://arxiv.org/abs/1903.08008 for details\n",
      "/Users/elizabeth/anaconda3/lib/python3.11/site-packages/sklearn/utils/validation.py:1300: DataConversionWarning: A column-vector y was passed when a 1d array was expected. Please change the shape of y to (n_samples, ), for example using ravel().\n",
      "  y = column_or_1d(y, warn=True)\n",
      "Auto-assigning NUTS sampler...\n",
      "Initializing NUTS using jitter+adapt_diag...\n",
      "Multiprocess sampling (4 chains in 4 jobs)\n",
      "NUTS: [W, Z, sigma, beta, mu_y]\n"
     ]
    },
    {
     "data": {
      "text/plain": "Output()",
      "application/vnd.jupyter.widget-view+json": {
       "version_major": 2,
       "version_minor": 0,
       "model_id": "4989a969984a42be94bfe4fb698f4090"
      }
     },
     "metadata": {},
     "output_type": "display_data"
    },
    {
     "data": {
      "text/plain": "",
      "text/html": "<pre style=\"white-space:pre;overflow-x:auto;line-height:normal;font-family:Menlo,'DejaVu Sans Mono',consolas,'Courier New',monospace\"></pre>\n"
     },
     "metadata": {},
     "output_type": "display_data"
    },
    {
     "name": "stderr",
     "output_type": "stream",
     "text": [
      "Sampling 4 chains for 1_000 tune and 500 draw iterations (4_000 + 2_000 draws total) took 26 seconds.\n",
      "There were 9 divergences after tuning. Increase `target_accept` or reparameterize.\n",
      "Chain 1 reached the maximum tree depth. Increase `max_treedepth`, increase `target_accept` or reparameterize.\n",
      "The rhat statistic is larger than 1.01 for some parameters. This indicates problems during sampling. See https://arxiv.org/abs/1903.08008 for details\n",
      "The effective sample size per chain is smaller than 100 for some parameters.  A higher number is needed for reliable rhat and ess computation. See https://arxiv.org/abs/1903.08008 for details\n"
     ]
    },
    {
     "name": "stdout",
     "output_type": "stream",
     "text": [
      "     Dataset  Bayesian PCA Accuracy  Supervised PCA Accuracy\n",
      "0  Dataset 1               0.366667                 0.366667\n",
      "1  Dataset 2               0.500000                 0.533333\n",
      "2  Dataset 3               0.533333                 0.566667\n"
     ]
    },
    {
     "name": "stderr",
     "output_type": "stream",
     "text": [
      "/Users/elizabeth/anaconda3/lib/python3.11/site-packages/sklearn/utils/validation.py:1300: DataConversionWarning: A column-vector y was passed when a 1d array was expected. Please change the shape of y to (n_samples, ), for example using ravel().\n",
      "  y = column_or_1d(y, warn=True)\n"
     ]
    }
   ],
   "source": [
    "results = []\n",
    "for i, (X, y) in enumerate(datasets):\n",
    "    X_train, X_test, y_train, y_test = train_test_split(X, y, test_size=0.3, random_state=None)\n",
    "    accuracy_pca, accuracy_spca = evaluate_model(X_train, X_test, y_train, y_test)\n",
    "    results.append({\n",
    "        'Dataset': f'Dataset {i+1}',\n",
    "        'Bayesian PCA Accuracy': accuracy_pca,\n",
    "        'Supervised PCA Accuracy': accuracy_spca\n",
    "    })\n",
    "\n",
    "results_df = pd.DataFrame(results)\n",
    "print(results_df)"
   ],
   "metadata": {
    "collapsed": false,
    "ExecuteTime": {
     "end_time": "2025-02-02T16:53:44.082399Z",
     "start_time": "2025-02-02T16:52:06.399441Z"
    }
   }
  },
  {
   "cell_type": "markdown",
   "source": [
    "Видно, что в целом supervised pca работает также, как pca, либо лучше. На 1 датасете точность очень низкая, это может быть связано с тем, что в данных есть слишком сильный шум, на 2 и 3ем датасетах результаты лучше, вероятно данные имеют более четкие линейные зависимости друг с другом"
   ],
   "metadata": {
    "collapsed": false
   }
  }
 ],
 "metadata": {
  "kernelspec": {
   "display_name": "Python 3",
   "language": "python",
   "name": "python3"
  },
  "language_info": {
   "codemirror_mode": {
    "name": "ipython",
    "version": 2
   },
   "file_extension": ".py",
   "mimetype": "text/x-python",
   "name": "python",
   "nbconvert_exporter": "python",
   "pygments_lexer": "ipython2",
   "version": "2.7.6"
  }
 },
 "nbformat": 4,
 "nbformat_minor": 0
}
